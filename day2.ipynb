{
  "nbformat": 4,
  "nbformat_minor": 0,
  "metadata": {
    "colab": {
      "provenance": [],
      "authorship_tag": "ABX9TyNK1iptWAGbwbPm+g2gIVkA",
      "include_colab_link": true
    },
    "kernelspec": {
      "name": "python3",
      "display_name": "Python 3"
    },
    "language_info": {
      "name": "python"
    }
  },
  "cells": [
    {
      "cell_type": "markdown",
      "metadata": {
        "id": "view-in-github",
        "colab_type": "text"
      },
      "source": [
        "<a href=\"https://colab.research.google.com/github/kavyareddy01/pytorchbirble/blob/main/day2.ipynb\" target=\"_parent\"><img src=\"https://colab.research.google.com/assets/colab-badge.svg\" alt=\"Open In Colab\"/></a>"
      ]
    },
    {
      "cell_type": "markdown",
      "source": [
        "##tensor datatypes"
      ],
      "metadata": {
        "id": "nmurHkqmnHP3"
      }
    },
    {
      "cell_type": "code",
      "source": [
        "import torch\n",
        "print(torch.__version__)"
      ],
      "metadata": {
        "colab": {
          "base_uri": "https://localhost:8080/"
        },
        "id": "ikUMpfi8nbxO",
        "outputId": "bff0fcde-9ad8-4e67-d42c-998751239824"
      },
      "execution_count": 3,
      "outputs": [
        {
          "output_type": "stream",
          "name": "stdout",
          "text": [
            "2.1.0+cu121\n"
          ]
        }
      ]
    },
    {
      "cell_type": "code",
      "source": [
        "float_32_tensor=torch.tensor([3.0,5.0,10.0],dtype=None)\n",
        "float_32_tensor"
      ],
      "metadata": {
        "colab": {
          "base_uri": "https://localhost:8080/"
        },
        "id": "jVeXdGDNnNHd",
        "outputId": "61f7dd1a-84d3-4975-caec-e08d7eae04c4"
      },
      "execution_count": 4,
      "outputs": [
        {
          "output_type": "execute_result",
          "data": {
            "text/plain": [
              "tensor([ 3.,  5., 10.])"
            ]
          },
          "metadata": {},
          "execution_count": 4
        }
      ]
    },
    {
      "cell_type": "code",
      "source": [
        "float_32_tensor.dtype  ##default"
      ],
      "metadata": {
        "colab": {
          "base_uri": "https://localhost:8080/"
        },
        "id": "aJfBJWrwnQeR",
        "outputId": "6f905254-f132-4078-c734-cd0a29a33dd1"
      },
      "execution_count": 5,
      "outputs": [
        {
          "output_type": "execute_result",
          "data": {
            "text/plain": [
              "torch.float32"
            ]
          },
          "metadata": {},
          "execution_count": 5
        }
      ]
    },
    {
      "cell_type": "code",
      "source": [
        "float_32_t=torch.tensor([3.0,5.0,10.0],dtype=torch.float16)\n",
        "float_32_t"
      ],
      "metadata": {
        "colab": {
          "base_uri": "https://localhost:8080/"
        },
        "id": "wBxRuQW7nQjp",
        "outputId": "86ab32eb-41e8-4b6f-89a9-bdf071ce807b"
      },
      "execution_count": 6,
      "outputs": [
        {
          "output_type": "execute_result",
          "data": {
            "text/plain": [
              "tensor([ 3.,  5., 10.], dtype=torch.float16)"
            ]
          },
          "metadata": {},
          "execution_count": 6
        }
      ]
    },
    {
      "cell_type": "code",
      "source": [
        "float_32_t.dtype"
      ],
      "metadata": {
        "colab": {
          "base_uri": "https://localhost:8080/"
        },
        "id": "rsSi3kVXnQmR",
        "outputId": "e60688e5-9d29-4fa2-ef1c-aa2d55273431"
      },
      "execution_count": 7,
      "outputs": [
        {
          "output_type": "execute_result",
          "data": {
            "text/plain": [
              "torch.float16"
            ]
          },
          "metadata": {},
          "execution_count": 7
        }
      ]
    },
    {
      "cell_type": "code",
      "source": [
        "f=torch.tensor([1.0,2.0,3.0],dtype=None,# what datatype  is the tensor\n",
        "                            device=None,#what device is ur tensor on\n",
        "                            requires_grad=False  )#whether or not to track gradients with this tensors operatns\n",
        "##tensor imp parameters\n",
        "f\n",
        "##32-bit floating point->torch.float or torch.float32\n",
        "#64-bit floating point ->torch.float64 or torch.double\n",
        "#16-bit floating point ->torch.float16 or torch.half"
      ],
      "metadata": {
        "colab": {
          "base_uri": "https://localhost:8080/"
        },
        "id": "j-0qMDMTnQo2",
        "outputId": "6d93be17-a960-4203-d8d8-a4c058e33650"
      },
      "execution_count": 8,
      "outputs": [
        {
          "output_type": "execute_result",
          "data": {
            "text/plain": [
              "tensor([1., 2., 3.])"
            ]
          },
          "metadata": {},
          "execution_count": 8
        }
      ]
    },
    {
      "cell_type": "markdown",
      "source": [
        "tensor datatypes are the 3 big errors you will run into with pytorch or deeplearning\n",
        "\n",
        "* tensors not right datatype\n",
        "* tensors not right shape\n",
        "* tensors not on the right device"
      ],
      "metadata": {
        "id": "EvosI6Tjnv_e"
      }
    },
    {
      "cell_type": "code",
      "source": [
        "f_16_t=float_32_t.type(torch.float16)\n",
        "f_16_t"
      ],
      "metadata": {
        "colab": {
          "base_uri": "https://localhost:8080/"
        },
        "id": "hQ558no7nu-9",
        "outputId": "e8e4e57e-5d41-4940-c72e-fe2ec6f01ca4"
      },
      "execution_count": 9,
      "outputs": [
        {
          "output_type": "execute_result",
          "data": {
            "text/plain": [
              "tensor([ 3.,  5., 10.], dtype=torch.float16)"
            ]
          },
          "metadata": {},
          "execution_count": 9
        }
      ]
    },
    {
      "cell_type": "code",
      "source": [
        "f_16_t*float_32_t"
      ],
      "metadata": {
        "colab": {
          "base_uri": "https://localhost:8080/"
        },
        "id": "Z3HJip_jnQrM",
        "outputId": "b493fb9a-b9b9-4f52-b9af-2a1e683b1951"
      },
      "execution_count": 10,
      "outputs": [
        {
          "output_type": "execute_result",
          "data": {
            "text/plain": [
              "tensor([  9.,  25., 100.], dtype=torch.float16)"
            ]
          },
          "metadata": {},
          "execution_count": 10
        }
      ]
    },
    {
      "cell_type": "code",
      "source": [
        "float_32_t*f_16_t"
      ],
      "metadata": {
        "colab": {
          "base_uri": "https://localhost:8080/"
        },
        "id": "204XtPXHnQtj",
        "outputId": "fccb46aa-f95d-415a-e70a-3335a327640f"
      },
      "execution_count": 11,
      "outputs": [
        {
          "output_type": "execute_result",
          "data": {
            "text/plain": [
              "tensor([  9.,  25., 100.], dtype=torch.float16)"
            ]
          },
          "metadata": {},
          "execution_count": 11
        }
      ]
    },
    {
      "cell_type": "code",
      "source": [
        "int_32_tensor=torch.tensor([1,3,6],dtype=torch.int32)\n",
        "int_32_tensor"
      ],
      "metadata": {
        "colab": {
          "base_uri": "https://localhost:8080/"
        },
        "id": "2GQPLrh1nQvj",
        "outputId": "f7a987bd-6bb6-40d2-c21c-377b6b24e8ed"
      },
      "execution_count": 12,
      "outputs": [
        {
          "output_type": "execute_result",
          "data": {
            "text/plain": [
              "tensor([1, 3, 6], dtype=torch.int32)"
            ]
          },
          "metadata": {},
          "execution_count": 12
        }
      ]
    },
    {
      "cell_type": "code",
      "source": [
        "float_32_t*int_32_tensor"
      ],
      "metadata": {
        "colab": {
          "base_uri": "https://localhost:8080/"
        },
        "id": "p-5kAuO0nQxg",
        "outputId": "c01e9dff-bff3-4e7e-a234-c4ea9d3102e1"
      },
      "execution_count": 13,
      "outputs": [
        {
          "output_type": "execute_result",
          "data": {
            "text/plain": [
              "tensor([ 3., 15., 60.], dtype=torch.float16)"
            ]
          },
          "metadata": {},
          "execution_count": 13
        }
      ]
    },
    {
      "cell_type": "code",
      "source": [
        "int_64_tensor=torch.tensor([1,3,6],dtype=torch.int64)\n",
        "int_64_tensor"
      ],
      "metadata": {
        "colab": {
          "base_uri": "https://localhost:8080/"
        },
        "id": "0cqkgcqdnQ1G",
        "outputId": "af63cf1e-00a3-487a-caee-dead69e40483"
      },
      "execution_count": 14,
      "outputs": [
        {
          "output_type": "execute_result",
          "data": {
            "text/plain": [
              "tensor([1, 3, 6])"
            ]
          },
          "metadata": {},
          "execution_count": 14
        }
      ]
    },
    {
      "cell_type": "code",
      "source": [
        "float_32_t*int_64_tensor"
      ],
      "metadata": {
        "colab": {
          "base_uri": "https://localhost:8080/"
        },
        "id": "gDE8NHARoGws",
        "outputId": "78deca4b-9ffe-4bd3-c4ad-168b405122fc"
      },
      "execution_count": 15,
      "outputs": [
        {
          "output_type": "execute_result",
          "data": {
            "text/plain": [
              "tensor([ 3., 15., 60.], dtype=torch.float16)"
            ]
          },
          "metadata": {},
          "execution_count": 15
        }
      ]
    },
    {
      "cell_type": "code",
      "source": [
        "long=torch.tensor([4,5,6],dtype=torch.long)\n",
        "long"
      ],
      "metadata": {
        "colab": {
          "base_uri": "https://localhost:8080/"
        },
        "id": "EB9eQvJpoGy-",
        "outputId": "e7d7be60-e985-4f67-d963-ebfa72a873ea"
      },
      "execution_count": 16,
      "outputs": [
        {
          "output_type": "execute_result",
          "data": {
            "text/plain": [
              "tensor([4, 5, 6])"
            ]
          },
          "metadata": {},
          "execution_count": 16
        }
      ]
    },
    {
      "cell_type": "code",
      "source": [
        "long*float_32_t"
      ],
      "metadata": {
        "colab": {
          "base_uri": "https://localhost:8080/"
        },
        "id": "MWLWBcg3oG1Y",
        "outputId": "1159d187-1e6c-4464-bb7e-c81e4548271f"
      },
      "execution_count": 17,
      "outputs": [
        {
          "output_type": "execute_result",
          "data": {
            "text/plain": [
              "tensor([12., 25., 60.], dtype=torch.float16)"
            ]
          },
          "metadata": {},
          "execution_count": 17
        }
      ]
    },
    {
      "cell_type": "markdown",
      "source": [
        "GETTING TENSOR ATTRIBUTES(INFO ABOUT TENSORS)\n",
        "\n",
        "* tensors not right datatype=toget data type from tensor,can use 'tensor.dtype'\n",
        "\n",
        "* tensors not right shape=to get shape of tensor,can use'tensor.shape'\n",
        "\n",
        "* tensors not on the right device=to get device from a tensor,can use 'tensor.device'\n"
      ],
      "metadata": {
        "id": "KKq3fnzhoPUP"
      }
    },
    {
      "cell_type": "code",
      "source": [
        "##creating a tensor\n",
        "some=torch.rand(3,4)\n",
        "some"
      ],
      "metadata": {
        "colab": {
          "base_uri": "https://localhost:8080/"
        },
        "id": "kKX0NPWBoG43",
        "outputId": "5de718e3-f5db-43cf-a0d5-76284b65f8be"
      },
      "execution_count": 18,
      "outputs": [
        {
          "output_type": "execute_result",
          "data": {
            "text/plain": [
              "tensor([[0.6835, 0.6890, 0.2582, 0.5567],\n",
              "        [0.0741, 0.5399, 0.1617, 0.4927],\n",
              "        [0.3271, 0.0409, 0.3751, 0.2274]])"
            ]
          },
          "metadata": {},
          "execution_count": 18
        }
      ]
    },
    {
      "cell_type": "code",
      "source": [
        "some.dtype"
      ],
      "metadata": {
        "colab": {
          "base_uri": "https://localhost:8080/"
        },
        "id": "x2t0bu0Coczz",
        "outputId": "d3e24de1-ae6f-49e0-cfb5-2a8a36e7ef1e"
      },
      "execution_count": 19,
      "outputs": [
        {
          "output_type": "execute_result",
          "data": {
            "text/plain": [
              "torch.float32"
            ]
          },
          "metadata": {},
          "execution_count": 19
        }
      ]
    },
    {
      "cell_type": "code",
      "source": [
        "some.shape"
      ],
      "metadata": {
        "colab": {
          "base_uri": "https://localhost:8080/"
        },
        "id": "DqnZ7CC2oc3J",
        "outputId": "b7062e5d-4aa5-49c5-9708-ef3749176d90"
      },
      "execution_count": 20,
      "outputs": [
        {
          "output_type": "execute_result",
          "data": {
            "text/plain": [
              "torch.Size([3, 4])"
            ]
          },
          "metadata": {},
          "execution_count": 20
        }
      ]
    },
    {
      "cell_type": "code",
      "source": [
        "some.device"
      ],
      "metadata": {
        "colab": {
          "base_uri": "https://localhost:8080/"
        },
        "id": "lf4yQkipohFO",
        "outputId": "8537fec6-029d-4f61-c1d6-5a0053abe0dd"
      },
      "execution_count": 21,
      "outputs": [
        {
          "output_type": "execute_result",
          "data": {
            "text/plain": [
              "device(type='cpu')"
            ]
          },
          "metadata": {},
          "execution_count": 21
        }
      ]
    },
    {
      "cell_type": "code",
      "source": [
        "some.size()##function"
      ],
      "metadata": {
        "colab": {
          "base_uri": "https://localhost:8080/"
        },
        "id": "mDB87YYPohIo",
        "outputId": "472e7758-4430-415d-80fb-55e3c62d041a"
      },
      "execution_count": 22,
      "outputs": [
        {
          "output_type": "execute_result",
          "data": {
            "text/plain": [
              "torch.Size([3, 4])"
            ]
          },
          "metadata": {},
          "execution_count": 22
        }
      ]
    },
    {
      "cell_type": "code",
      "source": [
        "print(some)\n",
        "print(f\"datatype of tensor : {some.dtype}\")\n",
        "print(f\"size of tensor : {some.size()}\")\n",
        "print(f\"shape of tensor : {some.shape}\")\n",
        "print(f\"device of tensor : {some.device}\")"
      ],
      "metadata": {
        "colab": {
          "base_uri": "https://localhost:8080/"
        },
        "id": "w7g6z6gCoo14",
        "outputId": "7b3c885c-5c53-4652-815c-a8d50e5eb3ca"
      },
      "execution_count": 23,
      "outputs": [
        {
          "output_type": "stream",
          "name": "stdout",
          "text": [
            "tensor([[0.6835, 0.6890, 0.2582, 0.5567],\n",
            "        [0.0741, 0.5399, 0.1617, 0.4927],\n",
            "        [0.3271, 0.0409, 0.3751, 0.2274]])\n",
            "datatype of tensor : torch.float32\n",
            "size of tensor : torch.Size([3, 4])\n",
            "shape of tensor : torch.Size([3, 4])\n",
            "device of tensor : cpu\n"
          ]
        }
      ]
    },
    {
      "cell_type": "markdown",
      "source": [
        "MANIPULATING TENSORS AND TENSORS OPERATNS tensor operatns include\n",
        "\n",
        "* addition\n",
        "* subtraction\n",
        "* multiplicatn\n",
        "* division\n",
        "* matrix multipilcatn\n"
      ],
      "metadata": {
        "id": "RqP7dlv3ori1"
      }
    },
    {
      "cell_type": "code",
      "source": [
        "#create tensor\n",
        "tensor=torch.tensor([2,3,4])\n",
        "tensor+10"
      ],
      "metadata": {
        "colab": {
          "base_uri": "https://localhost:8080/"
        },
        "id": "TIMP2-zloo5V",
        "outputId": "28257434-4702-4ba3-c13f-7172e3622e1a"
      },
      "execution_count": 24,
      "outputs": [
        {
          "output_type": "execute_result",
          "data": {
            "text/plain": [
              "tensor([12, 13, 14])"
            ]
          },
          "metadata": {},
          "execution_count": 24
        }
      ]
    },
    {
      "cell_type": "code",
      "source": [
        "tensor+100\n",
        "\n"
      ],
      "metadata": {
        "colab": {
          "base_uri": "https://localhost:8080/"
        },
        "id": "Ffh0dmEAoz_Z",
        "outputId": "0afa3a86-4d67-496c-e375-524c115abf20"
      },
      "execution_count": 25,
      "outputs": [
        {
          "output_type": "execute_result",
          "data": {
            "text/plain": [
              "tensor([102, 103, 104])"
            ]
          },
          "metadata": {},
          "execution_count": 25
        }
      ]
    },
    {
      "cell_type": "code",
      "source": [
        "tensor*10"
      ],
      "metadata": {
        "colab": {
          "base_uri": "https://localhost:8080/"
        },
        "id": "CWjcNbgDo0B4",
        "outputId": "65e35332-e67f-4b43-9802-700efdd7911a"
      },
      "execution_count": 26,
      "outputs": [
        {
          "output_type": "execute_result",
          "data": {
            "text/plain": [
              "tensor([20, 30, 40])"
            ]
          },
          "metadata": {},
          "execution_count": 26
        }
      ]
    },
    {
      "cell_type": "code",
      "source": [
        "tensor"
      ],
      "metadata": {
        "colab": {
          "base_uri": "https://localhost:8080/"
        },
        "id": "fTz70Lcto0EU",
        "outputId": "50dd5649-f716-428a-d997-3bbb54391eae"
      },
      "execution_count": 27,
      "outputs": [
        {
          "output_type": "execute_result",
          "data": {
            "text/plain": [
              "tensor([2, 3, 4])"
            ]
          },
          "metadata": {},
          "execution_count": 27
        }
      ]
    },
    {
      "cell_type": "code",
      "source": [
        "tensor-10"
      ],
      "metadata": {
        "colab": {
          "base_uri": "https://localhost:8080/"
        },
        "id": "3wWoTUoQo0GZ",
        "outputId": "d33a3c9e-ce73-4961-9cc7-e7ec0a3baeb7"
      },
      "execution_count": 28,
      "outputs": [
        {
          "output_type": "execute_result",
          "data": {
            "text/plain": [
              "tensor([-8, -7, -6])"
            ]
          },
          "metadata": {},
          "execution_count": 28
        }
      ]
    },
    {
      "cell_type": "code",
      "source": [
        "#pytorch in built functns\n",
        "torch.mul(tensor,10)"
      ],
      "metadata": {
        "colab": {
          "base_uri": "https://localhost:8080/"
        },
        "id": "kWVBOWd5o0I1",
        "outputId": "4d3df312-ea2d-4070-9633-54f8b54ae9a5"
      },
      "execution_count": 29,
      "outputs": [
        {
          "output_type": "execute_result",
          "data": {
            "text/plain": [
              "tensor([20, 30, 40])"
            ]
          },
          "metadata": {},
          "execution_count": 29
        }
      ]
    },
    {
      "cell_type": "code",
      "source": [],
      "metadata": {
        "id": "Q6d2BKfto0LQ"
      },
      "execution_count": null,
      "outputs": []
    },
    {
      "cell_type": "code",
      "source": [],
      "metadata": {
        "id": "13-j5Sbso0Op"
      },
      "execution_count": null,
      "outputs": []
    }
  ]
}