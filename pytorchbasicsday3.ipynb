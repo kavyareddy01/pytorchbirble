{
  "nbformat": 4,
  "nbformat_minor": 0,
  "metadata": {
    "colab": {
      "provenance": [],
      "gpuType": "T4",
      "authorship_tag": "ABX9TyMLDzc0bIW39+U1MdSd1ppm",
      "include_colab_link": true
    },
    "kernelspec": {
      "name": "python3",
      "display_name": "Python 3"
    },
    "language_info": {
      "name": "python"
    },
    "accelerator": "GPU"
  },
  "cells": [
    {
      "cell_type": "markdown",
      "metadata": {
        "id": "view-in-github",
        "colab_type": "text"
      },
      "source": [
        "<a href=\"https://colab.research.google.com/github/kavyareddy01/pytorchbirble/blob/main/pytorchbasicsday3.ipynb\" target=\"_parent\"><img src=\"https://colab.research.google.com/assets/colab-badge.svg\" alt=\"Open In Colab\"/></a>"
      ]
    },
    {
      "cell_type": "code",
      "execution_count": 1,
      "metadata": {
        "id": "emC9sKOgp1gg"
      },
      "outputs": [],
      "source": [
        "import torch"
      ]
    },
    {
      "cell_type": "markdown",
      "source": [
        "**SELECTING DATA FROM TENSORS (INDEXING)**"
      ],
      "metadata": {
        "id": "vKiSfMaAqyWC"
      }
    },
    {
      "cell_type": "code",
      "source": [
        "##INDEXING WITH PYTORCH IS SIMILAR TO NUMPY\n",
        "x=torch.arange(1,10).reshape(1,3,3)\n",
        "x"
      ],
      "metadata": {
        "colab": {
          "base_uri": "https://localhost:8080/"
        },
        "id": "7Zs2grS8qU-N",
        "outputId": "8386121e-ffa6-42cd-a87b-2e6d0d562aaa"
      },
      "execution_count": 2,
      "outputs": [
        {
          "output_type": "execute_result",
          "data": {
            "text/plain": [
              "tensor([[[1, 2, 3],\n",
              "         [4, 5, 6],\n",
              "         [7, 8, 9]]])"
            ]
          },
          "metadata": {},
          "execution_count": 2
        }
      ]
    },
    {
      "cell_type": "code",
      "source": [
        "x.shape"
      ],
      "metadata": {
        "colab": {
          "base_uri": "https://localhost:8080/"
        },
        "id": "FWEdjpWeqVAk",
        "outputId": "04c1d3be-190b-4e62-d3ff-13c6ca942002"
      },
      "execution_count": 3,
      "outputs": [
        {
          "output_type": "execute_result",
          "data": {
            "text/plain": [
              "torch.Size([1, 3, 3])"
            ]
          },
          "metadata": {},
          "execution_count": 3
        }
      ]
    },
    {
      "cell_type": "code",
      "source": [
        "x[0]"
      ],
      "metadata": {
        "colab": {
          "base_uri": "https://localhost:8080/"
        },
        "id": "yEfcwwaNqVDT",
        "outputId": "2098cbb1-5a41-4767-c3be-1981a6fa9edc"
      },
      "execution_count": 4,
      "outputs": [
        {
          "output_type": "execute_result",
          "data": {
            "text/plain": [
              "tensor([[1, 2, 3],\n",
              "        [4, 5, 6],\n",
              "        [7, 8, 9]])"
            ]
          },
          "metadata": {},
          "execution_count": 4
        }
      ]
    },
    {
      "cell_type": "code",
      "source": [
        "#middle bracket\n",
        "x[0][0]"
      ],
      "metadata": {
        "colab": {
          "base_uri": "https://localhost:8080/"
        },
        "id": "F0YE_t--qVGF",
        "outputId": "e90a8fdc-6497-4af5-80eb-fc79625e7e6a"
      },
      "execution_count": 5,
      "outputs": [
        {
          "output_type": "execute_result",
          "data": {
            "text/plain": [
              "tensor([1, 2, 3])"
            ]
          },
          "metadata": {},
          "execution_count": 5
        }
      ]
    },
    {
      "cell_type": "code",
      "source": [
        "x[0,0]"
      ],
      "metadata": {
        "colab": {
          "base_uri": "https://localhost:8080/"
        },
        "id": "zsQmeXJqqVIg",
        "outputId": "f002a19f-a1ed-4de5-cd3a-dfdd615fc680"
      },
      "execution_count": 7,
      "outputs": [
        {
          "output_type": "execute_result",
          "data": {
            "text/plain": [
              "tensor([1, 2, 3])"
            ]
          },
          "metadata": {},
          "execution_count": 7
        }
      ]
    },
    {
      "cell_type": "code",
      "source": [
        "#inner bracket\n",
        "x[0][0][0]"
      ],
      "metadata": {
        "colab": {
          "base_uri": "https://localhost:8080/"
        },
        "id": "R_ERsjKuqVK6",
        "outputId": "005c5f2b-a6a4-4600-cb73-9030d3f44707"
      },
      "execution_count": 8,
      "outputs": [
        {
          "output_type": "execute_result",
          "data": {
            "text/plain": [
              "tensor(1)"
            ]
          },
          "metadata": {},
          "execution_count": 8
        }
      ]
    },
    {
      "cell_type": "code",
      "source": [
        "x[0][1][1]"
      ],
      "metadata": {
        "colab": {
          "base_uri": "https://localhost:8080/"
        },
        "id": "9HRSadPAqVOf",
        "outputId": "4f988819-c50f-4bd2-cebf-7e30e847b915"
      },
      "execution_count": 9,
      "outputs": [
        {
          "output_type": "execute_result",
          "data": {
            "text/plain": [
              "tensor(5)"
            ]
          },
          "metadata": {},
          "execution_count": 9
        }
      ]
    },
    {
      "cell_type": "code",
      "source": [
        "x[0][0][1]"
      ],
      "metadata": {
        "colab": {
          "base_uri": "https://localhost:8080/"
        },
        "id": "kgVTGWGI0xuI",
        "outputId": "e4f6d03a-5207-43a5-cd9a-22acf5fc4750"
      },
      "execution_count": 10,
      "outputs": [
        {
          "output_type": "execute_result",
          "data": {
            "text/plain": [
              "tensor(2)"
            ]
          },
          "metadata": {},
          "execution_count": 10
        }
      ]
    },
    {
      "cell_type": "code",
      "source": [
        "##You can use \":\" to select \"all\" of a target dimension\n",
        "x[:,0]"
      ],
      "metadata": {
        "colab": {
          "base_uri": "https://localhost:8080/"
        },
        "id": "-Uh73Y220xv1",
        "outputId": "c2eb76aa-3fa5-4473-c6b5-1149013872d7"
      },
      "execution_count": 11,
      "outputs": [
        {
          "output_type": "execute_result",
          "data": {
            "text/plain": [
              "tensor([[1, 2, 3]])"
            ]
          },
          "metadata": {},
          "execution_count": 11
        }
      ]
    },
    {
      "cell_type": "code",
      "source": [
        "x[:,:,:]"
      ],
      "metadata": {
        "colab": {
          "base_uri": "https://localhost:8080/"
        },
        "id": "h8Q8tkNK0xye",
        "outputId": "a8e574cd-6d68-41f6-93a3-e04befa809cb"
      },
      "execution_count": 12,
      "outputs": [
        {
          "output_type": "execute_result",
          "data": {
            "text/plain": [
              "tensor([[[1, 2, 3],\n",
              "         [4, 5, 6],\n",
              "         [7, 8, 9]]])"
            ]
          },
          "metadata": {},
          "execution_count": 12
        }
      ]
    },
    {
      "cell_type": "code",
      "source": [
        "x[:,0,0]"
      ],
      "metadata": {
        "colab": {
          "base_uri": "https://localhost:8080/"
        },
        "id": "IMIwMqx_0x1E",
        "outputId": "539b4eec-61c9-465a-87ad-a8442ccc0fef"
      },
      "execution_count": 13,
      "outputs": [
        {
          "output_type": "execute_result",
          "data": {
            "text/plain": [
              "tensor([1])"
            ]
          },
          "metadata": {},
          "execution_count": 13
        }
      ]
    },
    {
      "cell_type": "code",
      "source": [
        "# Get all values of 0th & 1st dimensions but only index 1 of 2nd dimension\n",
        "x[:,:,1]"
      ],
      "metadata": {
        "colab": {
          "base_uri": "https://localhost:8080/"
        },
        "id": "wmimis851dq5",
        "outputId": "f3cd18eb-85c1-447f-e26a-98a34461c32a"
      },
      "execution_count": 15,
      "outputs": [
        {
          "output_type": "execute_result",
          "data": {
            "text/plain": [
              "tensor([[2, 5, 8]])"
            ]
          },
          "metadata": {},
          "execution_count": 15
        }
      ]
    },
    {
      "cell_type": "code",
      "source": [
        "# Get all values of the 0 dimension but only the 1 index value of the 1st and 2nd dimension\n",
        "x[:,1,1]"
      ],
      "metadata": {
        "colab": {
          "base_uri": "https://localhost:8080/"
        },
        "id": "OwwtAQao1dtE",
        "outputId": "28bef674-82d7-4b11-f0d2-d61b2c1614ce"
      },
      "execution_count": 16,
      "outputs": [
        {
          "output_type": "execute_result",
          "data": {
            "text/plain": [
              "tensor([5])"
            ]
          },
          "metadata": {},
          "execution_count": 16
        }
      ]
    },
    {
      "cell_type": "code",
      "source": [
        "x[0,1,1]"
      ],
      "metadata": {
        "colab": {
          "base_uri": "https://localhost:8080/"
        },
        "id": "q9BQgE631dwm",
        "outputId": "ecd6af0b-d9d4-41e1-8b0c-4ba15b91e1c4"
      },
      "execution_count": 17,
      "outputs": [
        {
          "output_type": "execute_result",
          "data": {
            "text/plain": [
              "tensor(5)"
            ]
          },
          "metadata": {},
          "execution_count": 17
        }
      ]
    },
    {
      "cell_type": "code",
      "source": [
        "# Get index 0 of 0th and 1st dimension and all values of 2nd dimension\n",
        "x[0,0,:]"
      ],
      "metadata": {
        "colab": {
          "base_uri": "https://localhost:8080/"
        },
        "id": "Rupf1VqT0x4d",
        "outputId": "ee6cc0ce-81f7-458e-9fc8-12c85e00c3c2"
      },
      "execution_count": 18,
      "outputs": [
        {
          "output_type": "execute_result",
          "data": {
            "text/plain": [
              "tensor([1, 2, 3])"
            ]
          },
          "metadata": {},
          "execution_count": 18
        }
      ]
    },
    {
      "cell_type": "code",
      "source": [
        "##index on x to return 9\n",
        "x[0,2,2]"
      ],
      "metadata": {
        "id": "SQLuTpFS2oCP"
      },
      "execution_count": null,
      "outputs": []
    },
    {
      "cell_type": "code",
      "source": [
        "#index on x to return 3,6,9\n",
        "x[0,:,2] #x[:,:,2]"
      ],
      "metadata": {
        "colab": {
          "base_uri": "https://localhost:8080/"
        },
        "id": "RfxvB8lA2oIL",
        "outputId": "0694113b-4530-4a86-b956-c7f36c30b2fd"
      },
      "execution_count": 23,
      "outputs": [
        {
          "output_type": "execute_result",
          "data": {
            "text/plain": [
              "tensor([3, 6, 9])"
            ]
          },
          "metadata": {},
          "execution_count": 23
        }
      ]
    },
    {
      "cell_type": "markdown",
      "source": [
        "**PYTORCH** **AND** **NUMPY**\n",
        "\n",
        "\n",
        "*   NumPy is a popular scientific python numerical computing library because of this pytorch has functionality to interact with it\n",
        "*    data in NumPy ,want in pytorch tensor   \n",
        "     torch.from_numpy(ndarray) - NumPy array -> PyTorch tensor.\n",
        "*   torch.Tensor.numpy() - PyTorch tensor -> NumPy array.\n",
        "\n"
      ],
      "metadata": {
        "id": "gTO7w37C3PeG"
      }
    },
    {
      "cell_type": "code",
      "source": [
        "import numpy as np\n",
        "array=np.arange(1.0,8.0)\n",
        "t=torch.from_numpy(array)\n",
        "array,t"
      ],
      "metadata": {
        "colab": {
          "base_uri": "https://localhost:8080/"
        },
        "id": "GIXwQYvQ2oNB",
        "outputId": "b1f4efda-d748-44de-f961-abe6194e7041"
      },
      "execution_count": 25,
      "outputs": [
        {
          "output_type": "execute_result",
          "data": {
            "text/plain": [
              "(array([1., 2., 3., 4., 5., 6., 7.]),\n",
              " tensor([1., 2., 3., 4., 5., 6., 7.], dtype=torch.float64))"
            ]
          },
          "metadata": {},
          "execution_count": 25
        }
      ]
    },
    {
      "cell_type": "code",
      "source": [
        "array.dtype"
      ],
      "metadata": {
        "colab": {
          "base_uri": "https://localhost:8080/"
        },
        "id": "V8piOx2W2oQb",
        "outputId": "0b6d3da0-61ba-49fc-c736-63b686539d25"
      },
      "execution_count": 26,
      "outputs": [
        {
          "output_type": "execute_result",
          "data": {
            "text/plain": [
              "dtype('float64')"
            ]
          },
          "metadata": {},
          "execution_count": 26
        }
      ]
    },
    {
      "cell_type": "code",
      "source": [
        "torch.arange(1.0,8.0).dtype"
      ],
      "metadata": {
        "colab": {
          "base_uri": "https://localhost:8080/"
        },
        "id": "awYAm_bx5hR_",
        "outputId": "56bb31ae-94d2-4a25-a84d-c8addefc55a1"
      },
      "execution_count": 27,
      "outputs": [
        {
          "output_type": "execute_result",
          "data": {
            "text/plain": [
              "torch.float32"
            ]
          },
          "metadata": {},
          "execution_count": 27
        }
      ]
    },
    {
      "cell_type": "markdown",
      "source": [
        "* By default, NumPy arrays are created with the datatype float64 and if you convert it to a PyTorch tensor, it'll keep the same datatype\n",
        "* However, many PyTorch calculations default to using float32.\n",
        "* So if you want to convert your NumPy array (float64) -> PyTorch tensor (float64) -> PyTorch tensor (float32), you can use tensor = torch.from_numpy(array).type(torch.float32)."
      ],
      "metadata": {
        "id": "TY7AH1aN6EOp"
      }
    },
    {
      "cell_type": "code",
      "source": [
        "import numpy as np\n",
        "a=np.arange(1.0,8.0)\n",
        "te=torch.from_numpy(a).type(torch.float32)\n",
        "a,te,te.dtype"
      ],
      "metadata": {
        "colab": {
          "base_uri": "https://localhost:8080/"
        },
        "id": "i1tg8QHP54IQ",
        "outputId": "359b010d-e927-4a8b-fe95-81aa85948d4b"
      },
      "execution_count": 50,
      "outputs": [
        {
          "output_type": "execute_result",
          "data": {
            "text/plain": [
              "(array([1., 2., 3., 4., 5., 6., 7.]),\n",
              " tensor([1., 2., 3., 4., 5., 6., 7.]),\n",
              " torch.float32)"
            ]
          },
          "metadata": {},
          "execution_count": 50
        }
      ]
    },
    {
      "cell_type": "code",
      "source": [
        "a= a + 1\n",
        "a,te"
      ],
      "metadata": {
        "colab": {
          "base_uri": "https://localhost:8080/"
        },
        "id": "DAhsigsQ54Lq",
        "outputId": "bacb7f54-ede2-4f71-c715-7106e728017e"
      },
      "execution_count": 51,
      "outputs": [
        {
          "output_type": "execute_result",
          "data": {
            "text/plain": [
              "(array([2., 3., 4., 5., 6., 7., 8.]), tensor([1., 2., 3., 4., 5., 6., 7.]))"
            ]
          },
          "metadata": {},
          "execution_count": 51
        }
      ]
    },
    {
      "cell_type": "markdown",
      "source": [
        "if you change the array,tensor remains the same"
      ],
      "metadata": {
        "id": "mQZhTURF7rSE"
      }
    },
    {
      "cell_type": "code",
      "source": [
        "##tensor to numpy\n",
        "tensor=torch.ones(7)\n",
        "numpy_t=tensor.numpy()\n",
        "tensor,numpy_t"
      ],
      "metadata": {
        "colab": {
          "base_uri": "https://localhost:8080/"
        },
        "id": "MP5hvfha7vsy",
        "outputId": "7f7f4360-859f-4ea4-d6be-73d0f99c9d63"
      },
      "execution_count": 52,
      "outputs": [
        {
          "output_type": "execute_result",
          "data": {
            "text/plain": [
              "(tensor([1., 1., 1., 1., 1., 1., 1.]),\n",
              " array([1., 1., 1., 1., 1., 1., 1.], dtype=float32))"
            ]
          },
          "metadata": {},
          "execution_count": 52
        }
      ]
    },
    {
      "cell_type": "code",
      "source": [
        "tensor.dtype,numpy_t.dtype"
      ],
      "metadata": {
        "colab": {
          "base_uri": "https://localhost:8080/"
        },
        "id": "7663ABIs7vv0",
        "outputId": "c493919d-9cc2-47e8-c571-2e076e248da9"
      },
      "execution_count": 53,
      "outputs": [
        {
          "output_type": "execute_result",
          "data": {
            "text/plain": [
              "(torch.float32, dtype('float32'))"
            ]
          },
          "metadata": {},
          "execution_count": 53
        }
      ]
    },
    {
      "cell_type": "code",
      "source": [
        "##change the tensor what happens to array\n",
        "tensor=tensor+1\n",
        "tensor,numpy_t"
      ],
      "metadata": {
        "colab": {
          "base_uri": "https://localhost:8080/"
        },
        "id": "qLpNwbam8NtL",
        "outputId": "ed92c280-7d67-478e-edb6-f679356dd019"
      },
      "execution_count": 54,
      "outputs": [
        {
          "output_type": "execute_result",
          "data": {
            "text/plain": [
              "(tensor([2., 2., 2., 2., 2., 2., 2.]),\n",
              " array([1., 1., 1., 1., 1., 1., 1.], dtype=float32))"
            ]
          },
          "metadata": {},
          "execution_count": 54
        }
      ]
    },
    {
      "cell_type": "markdown",
      "source": [
        "if you change the tensor,array remains the same"
      ],
      "metadata": {
        "id": "XDj7cKMp8Yfd"
      }
    },
    {
      "cell_type": "markdown",
      "source": [
        "**REPRODUCIBILITY**\n",
        "in short how a neural network learns :\n",
        "* start with random numbers -> tensor operations ->update random numbers to try and make them better representations of data->again->again->again\n",
        "* to reduce randomness in neural network and pytorch comes the concept of **random seed**.\n",
        "* essentially what random seed does is \"flavour\" the randomness.\n"
      ],
      "metadata": {
        "id": "B-Kw90HHD4yE"
      }
    },
    {
      "cell_type": "code",
      "source": [
        "##trying to take the random out of random\n",
        "torch.rand(3,3)"
      ],
      "metadata": {
        "colab": {
          "base_uri": "https://localhost:8080/"
        },
        "id": "WNWEYb-k8Nwu",
        "outputId": "5bef3598-b3ff-4c94-ed77-093f209cda48"
      },
      "execution_count": 57,
      "outputs": [
        {
          "output_type": "execute_result",
          "data": {
            "text/plain": [
              "tensor([[0.6284, 0.0936, 0.4289],\n",
              "        [0.3150, 0.2216, 0.1679],\n",
              "        [0.8223, 0.8781, 0.6060]])"
            ]
          },
          "metadata": {},
          "execution_count": 57
        }
      ]
    },
    {
      "cell_type": "code",
      "source": [
        "#create two random tensor\n",
        "t1=torch.rand(3,4)\n",
        "t2=torch.rand(3,4)\n",
        "print(t1)\n",
        "print(t2)\n",
        "print(t1==t2)"
      ],
      "metadata": {
        "colab": {
          "base_uri": "https://localhost:8080/"
        },
        "id": "tUwAsehvGONh",
        "outputId": "c418731e-6fac-43a1-920d-492b0c011530"
      },
      "execution_count": 58,
      "outputs": [
        {
          "output_type": "stream",
          "name": "stdout",
          "text": [
            "tensor([[0.9981, 0.5051, 0.6652, 0.7584],\n",
            "        [0.0234, 0.3372, 0.4695, 0.5622],\n",
            "        [0.5130, 0.8025, 0.0732, 0.0311]])\n",
            "tensor([[0.8184, 0.0623, 0.8087, 0.4353],\n",
            "        [0.3034, 0.9578, 0.7287, 0.5003],\n",
            "        [0.7878, 0.4279, 0.7749, 0.2312]])\n",
            "tensor([[False, False, False, False],\n",
            "        [False, False, False, False],\n",
            "        [False, False, False, False]])\n"
          ]
        }
      ]
    },
    {
      "cell_type": "markdown",
      "source": [
        "The tensors come out with different values.\n",
        "\n",
        "But what if we wanted to created two random tensors with the same values.\n",
        "\n",
        "As in, the tensors would still contain random values but they would be of the same flavour.\n",
        "\n",
        "That's where torch.manual_seed(seed) comes in, where seed is an integer (like 42 but it could be anything) that flavours the randomness.\n",
        "\n"
      ],
      "metadata": {
        "id": "-FoP-zfPGoq6"
      }
    },
    {
      "cell_type": "code",
      "source": [
        "random_seed=43\n",
        "torch.manual_seed(random_seed)\n",
        "t3=torch.rand(3,4)\n",
        "t4=torch.rand(3,4)\n",
        "t3,t4,t3==t4"
      ],
      "metadata": {
        "colab": {
          "base_uri": "https://localhost:8080/"
        },
        "id": "Aa0rXBTSGOQ3",
        "outputId": "b0603bc7-e7fe-49f2-8803-d0a866ffb6c5"
      },
      "execution_count": 60,
      "outputs": [
        {
          "output_type": "execute_result",
          "data": {
            "text/plain": [
              "(tensor([[0.4540, 0.1965, 0.9210, 0.3462],\n",
              "         [0.1481, 0.0858, 0.5909, 0.0659],\n",
              "         [0.7476, 0.6253, 0.9392, 0.1338]]),\n",
              " tensor([[0.5191, 0.5335, 0.5375, 0.7058],\n",
              "         [0.4275, 0.2761, 0.8396, 0.1563],\n",
              "         [0.1072, 0.7261, 0.3241, 0.8892]]),\n",
              " tensor([[False, False, False, False],\n",
              "         [False, False, False, False],\n",
              "         [False, False, False, False]]))"
            ]
          },
          "metadata": {},
          "execution_count": 60
        }
      ]
    },
    {
      "cell_type": "code",
      "source": [
        "random_seed=43\n",
        "torch.manual_seed(random_seed)\n",
        "t3=torch.rand(3,4)\n",
        "torch.manual_seed(random_seed)\n",
        "\n",
        "t4=torch.rand(3,4)\n",
        "t3,t4,t3==t4"
      ],
      "metadata": {
        "colab": {
          "base_uri": "https://localhost:8080/"
        },
        "id": "BNvsOW9lHLqj",
        "outputId": "b63994b6-b9cb-482e-b7ba-4cff675f93bb"
      },
      "execution_count": 61,
      "outputs": [
        {
          "output_type": "execute_result",
          "data": {
            "text/plain": [
              "(tensor([[0.4540, 0.1965, 0.9210, 0.3462],\n",
              "         [0.1481, 0.0858, 0.5909, 0.0659],\n",
              "         [0.7476, 0.6253, 0.9392, 0.1338]]),\n",
              " tensor([[0.4540, 0.1965, 0.9210, 0.3462],\n",
              "         [0.1481, 0.0858, 0.5909, 0.0659],\n",
              "         [0.7476, 0.6253, 0.9392, 0.1338]]),\n",
              " tensor([[True, True, True, True],\n",
              "         [True, True, True, True],\n",
              "         [True, True, True, True]]))"
            ]
          },
          "metadata": {},
          "execution_count": 61
        }
      ]
    },
    {
      "cell_type": "markdown",
      "source": [
        "**ACCESSING** **TO** **GPUs**"
      ],
      "metadata": {
        "id": "GWHBCh7jIK-7"
      }
    },
    {
      "cell_type": "markdown",
      "source": [
        "Running tensors and pytorch objs o the gpus(and making the faster computations)\n",
        "GPUs = faster computations of numbers ,thanks to nvidia h/w+cuda+pytorch working behind the scenes to make everything hunky\n",
        "\n",
        "Method\tDifficulty to setup\tPros\tCons\tHow to setup\n",
        "* Google Colab ::\tEasy\tFree to use, almost zero setup required, can share work with others as easy as a link\tDoesn't save your data outputs, limited compute, subject to timeouts\tFollow the Google Colab Guide\n",
        "* Use your own\tMedium::Run everything locally on your own machine\tGPUs aren't free, require upfront cost\tFollow the PyTorch installation guidelines\n",
        "* Cloud computing (AWS, GCP, Azure): Medium-Hard\tSmall upfront cost, access to almost infinite compute\tCan get expensive if running continually, takes some time to setup right\tFollow the PyTorch installation guidelines\n"
      ],
      "metadata": {
        "id": "KVzGnAGFHi1x"
      }
    },
    {
      "cell_type": "code",
      "source": [
        "!nvidia-smi\n"
      ],
      "metadata": {
        "colab": {
          "base_uri": "https://localhost:8080/"
        },
        "id": "W76ZedVxJrA9",
        "outputId": "a050beca-b540-4b53-b887-32802e814b8e"
      },
      "execution_count": 2,
      "outputs": [
        {
          "output_type": "stream",
          "name": "stdout",
          "text": [
            "Sun Feb 11 12:31:35 2024       \n",
            "+---------------------------------------------------------------------------------------+\n",
            "| NVIDIA-SMI 535.104.05             Driver Version: 535.104.05   CUDA Version: 12.2     |\n",
            "|-----------------------------------------+----------------------+----------------------+\n",
            "| GPU  Name                 Persistence-M | Bus-Id        Disp.A | Volatile Uncorr. ECC |\n",
            "| Fan  Temp   Perf          Pwr:Usage/Cap |         Memory-Usage | GPU-Util  Compute M. |\n",
            "|                                         |                      |               MIG M. |\n",
            "|=========================================+======================+======================|\n",
            "|   0  Tesla T4                       Off | 00000000:00:04.0 Off |                    0 |\n",
            "| N/A   38C    P8               9W /  70W |      3MiB / 15360MiB |      0%      Default |\n",
            "|                                         |                      |                  N/A |\n",
            "+-----------------------------------------+----------------------+----------------------+\n",
            "                                                                                         \n",
            "+---------------------------------------------------------------------------------------+\n",
            "| Processes:                                                                            |\n",
            "|  GPU   GI   CI        PID   Type   Process name                            GPU Memory |\n",
            "|        ID   ID                                                             Usage      |\n",
            "|=======================================================================================|\n",
            "|  No running processes found                                                           |\n",
            "+---------------------------------------------------------------------------------------+\n"
          ]
        }
      ]
    },
    {
      "cell_type": "code",
      "source": [
        "#check for gpu access with pytorch\n",
        "import torch\n",
        "torch.cuda.is_available()"
      ],
      "metadata": {
        "colab": {
          "base_uri": "https://localhost:8080/"
        },
        "id": "nBycvup9IELx",
        "outputId": "d78d460b-0455-4eed-947d-95caf21be89e"
      },
      "execution_count": 1,
      "outputs": [
        {
          "output_type": "execute_result",
          "data": {
            "text/plain": [
              "True"
            ]
          },
          "metadata": {},
          "execution_count": 1
        }
      ]
    },
    {
      "cell_type": "code",
      "source": [
        "#setup device agnostic code\n",
        "device=\"cuda\" if torch.cuda.is_available() else \"cpu\"\n",
        "device"
      ],
      "metadata": {
        "colab": {
          "base_uri": "https://localhost:8080/",
          "height": 36
        },
        "id": "4Uw0VHwGJrEQ",
        "outputId": "86ef8541-6b16-44a3-c670-92c9d2ed7748"
      },
      "execution_count": 3,
      "outputs": [
        {
          "output_type": "execute_result",
          "data": {
            "text/plain": [
              "'cuda'"
            ],
            "application/vnd.google.colaboratory.intrinsic+json": {
              "type": "string"
            }
          },
          "metadata": {},
          "execution_count": 3
        }
      ]
    },
    {
      "cell_type": "code",
      "source": [
        "#count no of devices\n",
        "torch.cuda.device_count()"
      ],
      "metadata": {
        "colab": {
          "base_uri": "https://localhost:8080/"
        },
        "id": "rnsAzSdNKGz3",
        "outputId": "54311b4a-a577-47bc-bf10-06d8875587c8"
      },
      "execution_count": 4,
      "outputs": [
        {
          "output_type": "execute_result",
          "data": {
            "text/plain": [
              "1"
            ]
          },
          "metadata": {},
          "execution_count": 4
        }
      ]
    },
    {
      "cell_type": "code",
      "source": [
        "##3.putting tensors (and models) on the GPU\n",
        "#the reason we want our tensors or models on the gpu is that gpu results in faster computation"
      ],
      "metadata": {
        "id": "8gbHJYCJKN3c"
      },
      "execution_count": null,
      "outputs": []
    },
    {
      "cell_type": "code",
      "source": [
        "#create a tensor and the default ion the cpu\n",
        "t=torch.tensor([1,2,3])\n",
        "#tensor not on the gpu\n",
        "print(t,t.device)"
      ],
      "metadata": {
        "colab": {
          "base_uri": "https://localhost:8080/"
        },
        "id": "57Befq81KN7F",
        "outputId": "05adc23f-1f98-4125-b3f9-7d4ff3183d66"
      },
      "execution_count": 5,
      "outputs": [
        {
          "output_type": "stream",
          "name": "stdout",
          "text": [
            "tensor([1, 2, 3]) cpu\n"
          ]
        }
      ]
    },
    {
      "cell_type": "code",
      "source": [
        "t_on_gpu=t.to(device)\n",
        "t_on_gpu"
      ],
      "metadata": {
        "colab": {
          "base_uri": "https://localhost:8080/"
        },
        "id": "C0jd7sKvLfi6",
        "outputId": "4d60af2d-df60-4960-8322-c0284165ebd1"
      },
      "execution_count": 6,
      "outputs": [
        {
          "output_type": "execute_result",
          "data": {
            "text/plain": [
              "tensor([1, 2, 3], device='cuda:0')"
            ]
          },
          "metadata": {},
          "execution_count": 6
        }
      ]
    },
    {
      "cell_type": "code",
      "source": [
        "##moving tensors back to the cpu\n",
        "t_on_gpu.numpy()"
      ],
      "metadata": {
        "colab": {
          "base_uri": "https://localhost:8080/",
          "height": 192
        },
        "id": "QsePzklFLyeu",
        "outputId": "ed0174e7-d42f-4eb2-c9a0-eb3f8d070f3e"
      },
      "execution_count": 7,
      "outputs": [
        {
          "output_type": "error",
          "ename": "TypeError",
          "evalue": "can't convert cuda:0 device type tensor to numpy. Use Tensor.cpu() to copy the tensor to host memory first.",
          "traceback": [
            "\u001b[0;31m---------------------------------------------------------------------------\u001b[0m",
            "\u001b[0;31mTypeError\u001b[0m                                 Traceback (most recent call last)",
            "\u001b[0;32m<ipython-input-7-99d4a8e5fc36>\u001b[0m in \u001b[0;36m<cell line: 2>\u001b[0;34m()\u001b[0m\n\u001b[1;32m      1\u001b[0m \u001b[0;31m##moving tensors back to the cpu\u001b[0m\u001b[0;34m\u001b[0m\u001b[0;34m\u001b[0m\u001b[0m\n\u001b[0;32m----> 2\u001b[0;31m \u001b[0mt_on_gpu\u001b[0m\u001b[0;34m.\u001b[0m\u001b[0mnumpy\u001b[0m\u001b[0;34m(\u001b[0m\u001b[0;34m)\u001b[0m\u001b[0;34m\u001b[0m\u001b[0;34m\u001b[0m\u001b[0m\n\u001b[0m",
            "\u001b[0;31mTypeError\u001b[0m: can't convert cuda:0 device type tensor to numpy. Use Tensor.cpu() to copy the tensor to host memory first."
          ]
        }
      ]
    },
    {
      "cell_type": "code",
      "source": [
        "t_on_cpu=t_on_gpu.cpu()\n",
        "t_on_cpu.numpy()"
      ],
      "metadata": {
        "colab": {
          "base_uri": "https://localhost:8080/"
        },
        "id": "bKSXaOHpLyiP",
        "outputId": "7466cca0-1db8-40bc-b060-5c15d5627e85"
      },
      "execution_count": 8,
      "outputs": [
        {
          "output_type": "execute_result",
          "data": {
            "text/plain": [
              "array([1, 2, 3])"
            ]
          },
          "metadata": {},
          "execution_count": 8
        }
      ]
    },
    {
      "cell_type": "code",
      "source": [
        "t_on_gpu"
      ],
      "metadata": {
        "colab": {
          "base_uri": "https://localhost:8080/"
        },
        "id": "riF3l-8iMTWT",
        "outputId": "38f0c9e6-ddd2-41c6-c111-b226f2659d33"
      },
      "execution_count": 9,
      "outputs": [
        {
          "output_type": "execute_result",
          "data": {
            "text/plain": [
              "tensor([1, 2, 3], device='cuda:0')"
            ]
          },
          "metadata": {},
          "execution_count": 9
        }
      ]
    },
    {
      "cell_type": "code",
      "source": [
        "##creating a random tensor of shape(7,7\n",
        "torch.rand(7,7)"
      ],
      "metadata": {
        "colab": {
          "base_uri": "https://localhost:8080/"
        },
        "id": "08KM_tqFM1xG",
        "outputId": "b18d766c-5116-442d-d4fb-096ffd76fbd3"
      },
      "execution_count": 10,
      "outputs": [
        {
          "output_type": "execute_result",
          "data": {
            "text/plain": [
              "tensor([[1.1712e-02, 5.2730e-01, 5.2093e-01, 4.0999e-01, 9.5788e-01, 4.5478e-04,\n",
              "         1.0881e-01],\n",
              "        [2.5095e-01, 7.3971e-01, 5.8482e-02, 1.6019e-02, 4.1569e-01, 1.3043e-01,\n",
              "         4.8200e-01],\n",
              "        [8.6738e-01, 6.9274e-01, 6.7350e-01, 2.5896e-01, 9.3997e-01, 9.8847e-01,\n",
              "         3.6005e-01],\n",
              "        [1.3693e-01, 2.9776e-02, 2.6372e-01, 2.5454e-01, 5.4644e-01, 4.8215e-01,\n",
              "         6.3942e-01],\n",
              "        [3.2044e-01, 7.8399e-02, 4.5399e-01, 8.7992e-01, 1.7378e-01, 9.0416e-02,\n",
              "         6.5022e-01],\n",
              "        [9.4676e-01, 9.1449e-02, 1.7086e-01, 4.1124e-01, 5.0517e-01, 8.5114e-01,\n",
              "         8.6543e-01],\n",
              "        [6.9665e-01, 5.6359e-01, 2.5244e-01, 8.8188e-01, 5.4416e-01, 9.8576e-01,\n",
              "         7.8809e-02]])"
            ]
          },
          "metadata": {},
          "execution_count": 10
        }
      ]
    },
    {
      "cell_type": "code",
      "source": [
        "#Perform a matrix multiplication on the tensor from 2 with another random tensor with shape (1, 7) (hint: you may have to transpose the second tensor).\n",
        "torch.matmul(torch.rand(7,7),torch.rand(1,7).T)"
      ],
      "metadata": {
        "colab": {
          "base_uri": "https://localhost:8080/"
        },
        "id": "-ykhzS5YM10w",
        "outputId": "945cb58c-4911-4e90-8cf8-2202953619cb"
      },
      "execution_count": 11,
      "outputs": [
        {
          "output_type": "execute_result",
          "data": {
            "text/plain": [
              "tensor([[1.7408],\n",
              "        [2.1890],\n",
              "        [2.9920],\n",
              "        [1.7926],\n",
              "        [1.5739],\n",
              "        [2.1797],\n",
              "        [1.6262]])"
            ]
          },
          "metadata": {},
          "execution_count": 11
        }
      ]
    },
    {
      "cell_type": "code",
      "source": [
        "##Set the random seed to 0 and do exercises 2 & 3 over again.\n",
        "\n",
        "random_seed=0\n",
        "torch.manual_seed(random_seed)\n",
        "print(torch.rand(7,7))\n",
        "\n",
        "torch.manual_seed(random_seed)\n",
        "torch.matmul(torch.rand(7,7),torch.rand(1,7).T)"
      ],
      "metadata": {
        "colab": {
          "base_uri": "https://localhost:8080/"
        },
        "id": "CGNKeRggNUzO",
        "outputId": "9bd1d21e-dc97-49f6-86b3-e074dde2b0f7"
      },
      "execution_count": 14,
      "outputs": [
        {
          "output_type": "stream",
          "name": "stdout",
          "text": [
            "tensor([[0.4963, 0.7682, 0.0885, 0.1320, 0.3074, 0.6341, 0.4901],\n",
            "        [0.8964, 0.4556, 0.6323, 0.3489, 0.4017, 0.0223, 0.1689],\n",
            "        [0.2939, 0.5185, 0.6977, 0.8000, 0.1610, 0.2823, 0.6816],\n",
            "        [0.9152, 0.3971, 0.8742, 0.4194, 0.5529, 0.9527, 0.0362],\n",
            "        [0.1852, 0.3734, 0.3051, 0.9320, 0.1759, 0.2698, 0.1507],\n",
            "        [0.0317, 0.2081, 0.9298, 0.7231, 0.7423, 0.5263, 0.2437],\n",
            "        [0.5846, 0.0332, 0.1387, 0.2422, 0.8155, 0.7932, 0.2783]])\n"
          ]
        },
        {
          "output_type": "execute_result",
          "data": {
            "text/plain": [
              "tensor([[1.8542],\n",
              "        [1.9611],\n",
              "        [2.2884],\n",
              "        [3.0481],\n",
              "        [1.7067],\n",
              "        [2.5290],\n",
              "        [1.7989]])"
            ]
          },
          "metadata": {},
          "execution_count": 14
        }
      ]
    },
    {
      "cell_type": "code",
      "source": [],
      "metadata": {
        "id": "ORUEivP6N-Aw"
      },
      "execution_count": null,
      "outputs": []
    }
  ]
}