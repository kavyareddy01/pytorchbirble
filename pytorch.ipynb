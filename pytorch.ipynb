{
  "nbformat": 4,
  "nbformat_minor": 0,
  "metadata": {
    "colab": {
      "provenance": [],
      "authorship_tag": "ABX9TyMuJ4o1SDjltW1a/j5BlsPU",
      "include_colab_link": true
    },
    "kernelspec": {
      "name": "python3",
      "display_name": "Python 3"
    },
    "language_info": {
      "name": "python"
    }
  },
  "cells": [
    {
      "cell_type": "markdown",
      "metadata": {
        "id": "view-in-github",
        "colab_type": "text"
      },
      "source": [
        "<a href=\"https://colab.research.google.com/github/kavyareddy01/pytorchbirble/blob/main/pytorch.ipynb\" target=\"_parent\"><img src=\"https://colab.research.google.com/assets/colab-badge.svg\" alt=\"Open In Colab\"/></a>"
      ]
    },
    {
      "cell_type": "code",
      "execution_count": 3,
      "metadata": {
        "colab": {
          "base_uri": "https://localhost:8080/"
        },
        "id": "R_U8892LKm13",
        "outputId": "d48198ab-1dd8-4840-c323-35357f5d7016"
      },
      "outputs": [
        {
          "output_type": "stream",
          "name": "stdout",
          "text": [
            "I am wish to learn pytorch\n"
          ]
        }
      ],
      "source": [
        "print(\"I am wish to learn pytorch\")"
      ]
    },
    {
      "cell_type": "code",
      "source": [
        "import torch\n",
        "print(torch.__version__)"
      ],
      "metadata": {
        "colab": {
          "base_uri": "https://localhost:8080/"
        },
        "id": "1DypMCJaL_Ux",
        "outputId": "91986ffb-2b58-496d-e51f-53a47a5ace14"
      },
      "execution_count": 4,
      "outputs": [
        {
          "output_type": "stream",
          "name": "stdout",
          "text": [
            "2.1.0+cu121\n"
          ]
        }
      ]
    },
    {
      "cell_type": "code",
      "source": [
        "import torch\n",
        "import pandas as pd\n",
        "import numpy as np\n",
        "import matplotlib.pyplot as plt\n",
        "print(torch.__version__)"
      ],
      "metadata": {
        "colab": {
          "base_uri": "https://localhost:8080/"
        },
        "id": "L8ZAeY05NyVr",
        "outputId": "c028ffaa-9b8c-4d30-e00f-0ecbbdadb93c"
      },
      "execution_count": 5,
      "outputs": [
        {
          "output_type": "stream",
          "name": "stdout",
          "text": [
            "2.1.0+cu121\n"
          ]
        }
      ]
    },
    {
      "cell_type": "code",
      "source": [
        "#tensor\n",
        "#scalar\n",
        "s=torch.tensor(7)\n",
        "s"
      ],
      "metadata": {
        "colab": {
          "base_uri": "https://localhost:8080/"
        },
        "id": "1nxELT2dSlJd",
        "outputId": "a7490af7-1f44-4055-c25a-13e972b8323a"
      },
      "execution_count": 6,
      "outputs": [
        {
          "output_type": "execute_result",
          "data": {
            "text/plain": [
              "tensor(7)"
            ]
          },
          "metadata": {},
          "execution_count": 6
        }
      ]
    },
    {
      "cell_type": "code",
      "source": [
        "\n",
        "s.ndim"
      ],
      "metadata": {
        "colab": {
          "base_uri": "https://localhost:8080/"
        },
        "id": "5AS_q7n1P778",
        "outputId": "b9b0864e-9288-4f54-fd67-267532b2450f"
      },
      "execution_count": 7,
      "outputs": [
        {
          "output_type": "execute_result",
          "data": {
            "text/plain": [
              "0"
            ]
          },
          "metadata": {},
          "execution_count": 7
        }
      ]
    },
    {
      "cell_type": "code",
      "source": [
        "#get tensor back as python int\n",
        "s.item()"
      ],
      "metadata": {
        "colab": {
          "base_uri": "https://localhost:8080/"
        },
        "id": "zsb9SmPGQMD_",
        "outputId": "62f69e0c-5f81-426f-f15a-06a24160caf9"
      },
      "execution_count": 8,
      "outputs": [
        {
          "output_type": "execute_result",
          "data": {
            "text/plain": [
              "7"
            ]
          },
          "metadata": {},
          "execution_count": 8
        }
      ]
    },
    {
      "cell_type": "code",
      "source": [
        "#vector\n",
        "v=torch.tensor([9,9])\n",
        "v"
      ],
      "metadata": {
        "colab": {
          "base_uri": "https://localhost:8080/"
        },
        "id": "nYYVju4iQWbv",
        "outputId": "1077864c-b02f-456f-9c34-d2dc134bf35e"
      },
      "execution_count": 9,
      "outputs": [
        {
          "output_type": "execute_result",
          "data": {
            "text/plain": [
              "tensor([9, 9])"
            ]
          },
          "metadata": {},
          "execution_count": 9
        }
      ]
    },
    {
      "cell_type": "code",
      "source": [
        "v.ndim\n"
      ],
      "metadata": {
        "colab": {
          "base_uri": "https://localhost:8080/"
        },
        "id": "VavScEZdQ4h-",
        "outputId": "8c04195d-540d-41c3-8114-0a337747a0ae"
      },
      "execution_count": 10,
      "outputs": [
        {
          "output_type": "execute_result",
          "data": {
            "text/plain": [
              "1"
            ]
          },
          "metadata": {},
          "execution_count": 10
        }
      ]
    },
    {
      "cell_type": "code",
      "source": [
        "v.shape"
      ],
      "metadata": {
        "colab": {
          "base_uri": "https://localhost:8080/"
        },
        "id": "cyEUvwitRE4Z",
        "outputId": "e8d525f6-4f3f-4d79-a9b8-ad3db483da95"
      },
      "execution_count": 11,
      "outputs": [
        {
          "output_type": "execute_result",
          "data": {
            "text/plain": [
              "torch.Size([2])"
            ]
          },
          "metadata": {},
          "execution_count": 11
        }
      ]
    },
    {
      "cell_type": "code",
      "source": [
        "##matrix\n",
        "m=torch.tensor([[7,6],[9,8]])\n",
        "m"
      ],
      "metadata": {
        "colab": {
          "base_uri": "https://localhost:8080/"
        },
        "id": "6iVCcuqKRYjI",
        "outputId": "23110094-b0a7-46af-8667-0ef98f8d30a3"
      },
      "execution_count": 12,
      "outputs": [
        {
          "output_type": "execute_result",
          "data": {
            "text/plain": [
              "tensor([[7, 6],\n",
              "        [9, 8]])"
            ]
          },
          "metadata": {},
          "execution_count": 12
        }
      ]
    },
    {
      "cell_type": "code",
      "source": [
        "m.shape\n"
      ],
      "metadata": {
        "colab": {
          "base_uri": "https://localhost:8080/"
        },
        "id": "-ROMdRpNRque",
        "outputId": "bf0099b7-cf42-4e70-cded-6d95b71d2dd9"
      },
      "execution_count": 13,
      "outputs": [
        {
          "output_type": "execute_result",
          "data": {
            "text/plain": [
              "torch.Size([2, 2])"
            ]
          },
          "metadata": {},
          "execution_count": 13
        }
      ]
    },
    {
      "cell_type": "code",
      "source": [
        "m.ndim\n"
      ],
      "metadata": {
        "colab": {
          "base_uri": "https://localhost:8080/"
        },
        "id": "Mmduj6hNSzIr",
        "outputId": "5b285a72-975c-4ee8-b78c-ae5ce0316175"
      },
      "execution_count": 14,
      "outputs": [
        {
          "output_type": "execute_result",
          "data": {
            "text/plain": [
              "2"
            ]
          },
          "metadata": {},
          "execution_count": 14
        }
      ]
    },
    {
      "cell_type": "code",
      "source": [
        "m[0]"
      ],
      "metadata": {
        "colab": {
          "base_uri": "https://localhost:8080/"
        },
        "id": "2dik2zAES8Aj",
        "outputId": "e5b44361-746d-46c9-c61c-0dacf47f951c"
      },
      "execution_count": 15,
      "outputs": [
        {
          "output_type": "execute_result",
          "data": {
            "text/plain": [
              "tensor([7, 6])"
            ]
          },
          "metadata": {},
          "execution_count": 15
        }
      ]
    },
    {
      "cell_type": "code",
      "source": [
        "m[1]"
      ],
      "metadata": {
        "colab": {
          "base_uri": "https://localhost:8080/"
        },
        "id": "C_meJAzNS91f",
        "outputId": "d83ba8f7-61c1-4db0-978c-b97c9db9c52c"
      },
      "execution_count": 16,
      "outputs": [
        {
          "output_type": "execute_result",
          "data": {
            "text/plain": [
              "tensor([9, 8])"
            ]
          },
          "metadata": {},
          "execution_count": 16
        }
      ]
    },
    {
      "cell_type": "code",
      "source": [
        "#tensor\n",
        "t=torch.tensor([[[1,2,3],[2,3,4],[3,4,5]]])\n",
        "t"
      ],
      "metadata": {
        "colab": {
          "base_uri": "https://localhost:8080/"
        },
        "id": "OFlqUn2jTL4c",
        "outputId": "a5df5cc6-60c0-4e8b-f582-cdeb4b97c111"
      },
      "execution_count": 17,
      "outputs": [
        {
          "output_type": "execute_result",
          "data": {
            "text/plain": [
              "tensor([[[1, 2, 3],\n",
              "         [2, 3, 4],\n",
              "         [3, 4, 5]]])"
            ]
          },
          "metadata": {},
          "execution_count": 17
        }
      ]
    },
    {
      "cell_type": "code",
      "source": [
        "t.shape"
      ],
      "metadata": {
        "colab": {
          "base_uri": "https://localhost:8080/"
        },
        "id": "q0hbyWxdTZ0c",
        "outputId": "bd416333-3c90-489d-852b-ad1eaf91fd4f"
      },
      "execution_count": 18,
      "outputs": [
        {
          "output_type": "execute_result",
          "data": {
            "text/plain": [
              "torch.Size([1, 3, 3])"
            ]
          },
          "metadata": {},
          "execution_count": 18
        }
      ]
    },
    {
      "cell_type": "code",
      "source": [
        "t.ndim"
      ],
      "metadata": {
        "colab": {
          "base_uri": "https://localhost:8080/"
        },
        "id": "RjWK13iETeOM",
        "outputId": "5fa96cb0-3d6d-4734-b351-06e951d58d4f"
      },
      "execution_count": 19,
      "outputs": [
        {
          "output_type": "execute_result",
          "data": {
            "text/plain": [
              "3"
            ]
          },
          "metadata": {},
          "execution_count": 19
        }
      ]
    },
    {
      "cell_type": "code",
      "source": [
        "t[0]"
      ],
      "metadata": {
        "id": "ITggd8oiT-Bt",
        "colab": {
          "base_uri": "https://localhost:8080/"
        },
        "outputId": "82c0b31e-5723-4a3d-dbb1-c82912700a51"
      },
      "execution_count": 20,
      "outputs": [
        {
          "output_type": "execute_result",
          "data": {
            "text/plain": [
              "tensor([[1, 2, 3],\n",
              "        [2, 3, 4],\n",
              "        [3, 4, 5]])"
            ]
          },
          "metadata": {},
          "execution_count": 20
        }
      ]
    },
    {
      "cell_type": "code",
      "source": [
        "# @title Intro to tensors\n"
      ],
      "metadata": {
        "id": "wdS0yBrmYP41"
      },
      "execution_count": 21,
      "outputs": []
    },
    {
      "cell_type": "code",
      "source": [
        "t_rand=torch.rand(3,4)\n",
        "t_rand"
      ],
      "metadata": {
        "colab": {
          "base_uri": "https://localhost:8080/"
        },
        "id": "l8EANL5sYVGt",
        "outputId": "0ce08b03-a8a0-41f1-b244-34b70e06c28a"
      },
      "execution_count": 22,
      "outputs": [
        {
          "output_type": "execute_result",
          "data": {
            "text/plain": [
              "tensor([[0.2916, 0.6914, 0.5976, 0.4243],\n",
              "        [0.6295, 0.2695, 0.9911, 0.1992],\n",
              "        [0.4942, 0.1181, 0.2585, 0.5056]])"
            ]
          },
          "metadata": {},
          "execution_count": 22
        }
      ]
    },
    {
      "cell_type": "code",
      "source": [
        "t_rand.ndim"
      ],
      "metadata": {
        "colab": {
          "base_uri": "https://localhost:8080/"
        },
        "id": "ugnoFTCMZM6y",
        "outputId": "25dad4ae-9fd6-48ea-e29c-8df7743e5a86"
      },
      "execution_count": 23,
      "outputs": [
        {
          "output_type": "execute_result",
          "data": {
            "text/plain": [
              "2"
            ]
          },
          "metadata": {},
          "execution_count": 23
        }
      ]
    },
    {
      "cell_type": "code",
      "source": [
        "rand_t=torch.rand(1,10,10)\n",
        "rand_t"
      ],
      "metadata": {
        "colab": {
          "base_uri": "https://localhost:8080/"
        },
        "id": "YyzZPtKEZVGf",
        "outputId": "500ecaa2-51ff-4246-9112-421fe2f62e42"
      },
      "execution_count": 24,
      "outputs": [
        {
          "output_type": "execute_result",
          "data": {
            "text/plain": [
              "tensor([[[0.3572, 0.6249, 0.9125, 0.0426, 0.6306, 0.3866, 0.3924, 0.5114,\n",
              "          0.1473, 0.0801],\n",
              "         [0.2268, 0.8761, 0.7010, 0.4917, 0.7859, 0.5944, 0.5155, 0.5457,\n",
              "          0.6364, 0.8459],\n",
              "         [0.9146, 0.7153, 0.6781, 0.2656, 0.3809, 0.1150, 0.8364, 0.4923,\n",
              "          0.2611, 0.1696],\n",
              "         [0.0434, 0.3685, 0.5621, 0.7046, 0.4030, 0.9243, 0.7090, 0.3509,\n",
              "          0.8111, 0.1308],\n",
              "         [0.3765, 0.8450, 0.9693, 0.4625, 0.9139, 0.3770, 0.8949, 0.3051,\n",
              "          0.4310, 0.0228],\n",
              "         [0.6357, 0.6377, 0.5630, 0.9467, 0.9273, 0.5058, 0.5585, 0.2001,\n",
              "          0.0105, 0.9324],\n",
              "         [0.7129, 0.7695, 0.2736, 0.1151, 0.7761, 0.9407, 0.9261, 0.1821,\n",
              "          0.6297, 0.1749],\n",
              "         [0.0510, 0.4607, 0.5973, 0.2753, 0.4981, 0.5224, 0.3360, 0.0441,\n",
              "          0.9848, 0.4598],\n",
              "         [0.1399, 0.8922, 0.0459, 0.7699, 0.3657, 0.4569, 0.2861, 0.0268,\n",
              "          0.9348, 0.5846],\n",
              "         [0.0433, 0.0548, 0.6432, 0.3028, 0.3661, 0.4456, 0.0188, 0.9110,\n",
              "          0.2133, 0.5393]]])"
            ]
          },
          "metadata": {},
          "execution_count": 24
        }
      ]
    },
    {
      "cell_type": "code",
      "source": [
        "rand_t.ndim"
      ],
      "metadata": {
        "colab": {
          "base_uri": "https://localhost:8080/"
        },
        "id": "4iQuArFAZcwG",
        "outputId": "40ca7bec-f4ee-49b7-c958-de5cf5617f5a"
      },
      "execution_count": 25,
      "outputs": [
        {
          "output_type": "execute_result",
          "data": {
            "text/plain": [
              "3"
            ]
          },
          "metadata": {},
          "execution_count": 25
        }
      ]
    },
    {
      "cell_type": "code",
      "source": [
        "r_i_s_tensor=torch.rand(size=(224,224,3))#height,width,color channels(R,G,B)\n",
        "r_i_s_tensor.shape,r_i_s_tensor.ndim"
      ],
      "metadata": {
        "colab": {
          "base_uri": "https://localhost:8080/"
        },
        "id": "FTiyWhi5Zr59",
        "outputId": "d3fa1097-a41e-4524-f1fd-406b023cafa4"
      },
      "execution_count": 26,
      "outputs": [
        {
          "output_type": "execute_result",
          "data": {
            "text/plain": [
              "(torch.Size([224, 224, 3]), 3)"
            ]
          },
          "metadata": {},
          "execution_count": 26
        }
      ]
    },
    {
      "cell_type": "code",
      "source": [
        "r_i_s_tensor"
      ],
      "metadata": {
        "colab": {
          "base_uri": "https://localhost:8080/"
        },
        "id": "GSbM8EF2bxBH",
        "outputId": "bacf0467-296d-43d6-ffba-c4785e0dbc8e"
      },
      "execution_count": 27,
      "outputs": [
        {
          "output_type": "execute_result",
          "data": {
            "text/plain": [
              "tensor([[[0.5564, 0.7673, 0.2267],\n",
              "         [0.7417, 0.5078, 0.3017],\n",
              "         [0.2021, 0.4913, 0.1392],\n",
              "         ...,\n",
              "         [0.7838, 0.6112, 0.3679],\n",
              "         [0.6572, 0.5099, 0.5228],\n",
              "         [0.0149, 0.5696, 0.8441]],\n",
              "\n",
              "        [[0.7945, 0.6168, 0.5684],\n",
              "         [0.9680, 0.3667, 0.4403],\n",
              "         [0.9926, 0.3665, 0.9300],\n",
              "         ...,\n",
              "         [0.5769, 0.1004, 0.8325],\n",
              "         [0.7515, 0.0885, 0.6947],\n",
              "         [0.5080, 0.9468, 0.3420]],\n",
              "\n",
              "        [[0.6756, 0.8390, 0.1206],\n",
              "         [0.3332, 0.0450, 0.2562],\n",
              "         [0.7441, 0.3914, 0.1842],\n",
              "         ...,\n",
              "         [0.7986, 0.5057, 0.5071],\n",
              "         [0.9809, 0.5619, 0.4292],\n",
              "         [0.8841, 0.6287, 0.9229]],\n",
              "\n",
              "        ...,\n",
              "\n",
              "        [[0.8422, 0.3036, 0.7045],\n",
              "         [0.2719, 0.5288, 0.5088],\n",
              "         [0.1506, 0.4681, 0.1933],\n",
              "         ...,\n",
              "         [0.8818, 0.4799, 0.8610],\n",
              "         [0.7017, 0.6207, 0.6815],\n",
              "         [0.8717, 0.8332, 0.7824]],\n",
              "\n",
              "        [[0.8038, 0.8835, 0.0734],\n",
              "         [0.4361, 0.1607, 0.2239],\n",
              "         [0.2927, 0.1604, 0.5057],\n",
              "         ...,\n",
              "         [0.1500, 0.9306, 0.2817],\n",
              "         [0.2186, 0.8016, 0.8052],\n",
              "         [0.3877, 0.6362, 0.9129]],\n",
              "\n",
              "        [[0.3673, 0.1729, 0.0831],\n",
              "         [0.3662, 0.7404, 0.5348],\n",
              "         [0.8055, 0.4232, 0.4673],\n",
              "         ...,\n",
              "         [0.6986, 0.5591, 0.9803],\n",
              "         [0.5946, 0.0569, 0.3609],\n",
              "         [0.7483, 0.3864, 0.5428]]])"
            ]
          },
          "metadata": {},
          "execution_count": 27
        }
      ]
    },
    {
      "cell_type": "code",
      "source": [
        "torch.rand(3,3)"
      ],
      "metadata": {
        "id": "N_F2tUJrb24L",
        "colab": {
          "base_uri": "https://localhost:8080/"
        },
        "outputId": "9e4b793b-e557-4604-ecac-0790cdd88663"
      },
      "execution_count": 28,
      "outputs": [
        {
          "output_type": "execute_result",
          "data": {
            "text/plain": [
              "tensor([[0.3732, 0.9158, 0.7933],\n",
              "        [0.1761, 0.9930, 0.5078],\n",
              "        [0.6229, 0.3415, 0.3443]])"
            ]
          },
          "metadata": {},
          "execution_count": 28
        }
      ]
    },
    {
      "cell_type": "code",
      "source": [
        "##zeros and ones tensors\n",
        "\n",
        "z=torch.zeros(size=(3,4))\n",
        "z"
      ],
      "metadata": {
        "colab": {
          "base_uri": "https://localhost:8080/"
        },
        "id": "cHYXaA2Jdioh",
        "outputId": "e5f91a50-0bee-446d-ff8f-256d55700d12"
      },
      "execution_count": 29,
      "outputs": [
        {
          "output_type": "execute_result",
          "data": {
            "text/plain": [
              "tensor([[0., 0., 0., 0.],\n",
              "        [0., 0., 0., 0.],\n",
              "        [0., 0., 0., 0.]])"
            ]
          },
          "metadata": {},
          "execution_count": 29
        }
      ]
    },
    {
      "cell_type": "code",
      "source": [
        "z*t_rand"
      ],
      "metadata": {
        "colab": {
          "base_uri": "https://localhost:8080/"
        },
        "id": "_FCbawexd0-t",
        "outputId": "5de7543f-e6af-4cf8-e49d-285634f61061"
      },
      "execution_count": 30,
      "outputs": [
        {
          "output_type": "execute_result",
          "data": {
            "text/plain": [
              "tensor([[0., 0., 0., 0.],\n",
              "        [0., 0., 0., 0.],\n",
              "        [0., 0., 0., 0.]])"
            ]
          },
          "metadata": {},
          "execution_count": 30
        }
      ]
    },
    {
      "cell_type": "code",
      "source": [
        "o=torch.ones(size=(3,4))\n",
        "o"
      ],
      "metadata": {
        "colab": {
          "base_uri": "https://localhost:8080/"
        },
        "id": "kmIJvbYSed6L",
        "outputId": "3010368e-fcbc-48c6-8177-c3b5e95828c9"
      },
      "execution_count": 31,
      "outputs": [
        {
          "output_type": "execute_result",
          "data": {
            "text/plain": [
              "tensor([[1., 1., 1., 1.],\n",
              "        [1., 1., 1., 1.],\n",
              "        [1., 1., 1., 1.]])"
            ]
          },
          "metadata": {},
          "execution_count": 31
        }
      ]
    },
    {
      "cell_type": "code",
      "source": [
        "o.dtype"
      ],
      "metadata": {
        "colab": {
          "base_uri": "https://localhost:8080/"
        },
        "id": "dE23-AkJek2A",
        "outputId": "cfb29e3d-268a-43d6-af4d-4939f68e57fe"
      },
      "execution_count": 32,
      "outputs": [
        {
          "output_type": "execute_result",
          "data": {
            "text/plain": [
              "torch.float32"
            ]
          },
          "metadata": {},
          "execution_count": 32
        }
      ]
    },
    {
      "cell_type": "code",
      "source": [
        "rand_t.dtype"
      ],
      "metadata": {
        "colab": {
          "base_uri": "https://localhost:8080/"
        },
        "id": "VQfrlfNOe5PD",
        "outputId": "b86b8618-9e9f-4e11-adae-18d70fd79053"
      },
      "execution_count": 33,
      "outputs": [
        {
          "output_type": "execute_result",
          "data": {
            "text/plain": [
              "torch.float32"
            ]
          },
          "metadata": {},
          "execution_count": 33
        }
      ]
    },
    {
      "cell_type": "code",
      "source": [
        "t_rand.dtype"
      ],
      "metadata": {
        "colab": {
          "base_uri": "https://localhost:8080/"
        },
        "id": "PlCWude3e75U",
        "outputId": "1a1975ce-6bc3-457a-9ec4-81df07b7794c"
      },
      "execution_count": 34,
      "outputs": [
        {
          "output_type": "execute_result",
          "data": {
            "text/plain": [
              "torch.float32"
            ]
          },
          "metadata": {},
          "execution_count": 34
        }
      ]
    },
    {
      "cell_type": "code",
      "source": [
        "z.dtype"
      ],
      "metadata": {
        "colab": {
          "base_uri": "https://localhost:8080/"
        },
        "id": "dq7vmWA4ek5X",
        "outputId": "009eb39f-aa7f-4105-9dd8-51fd778a4a66"
      },
      "execution_count": 35,
      "outputs": [
        {
          "output_type": "execute_result",
          "data": {
            "text/plain": [
              "torch.float32"
            ]
          },
          "metadata": {},
          "execution_count": 35
        }
      ]
    },
    {
      "cell_type": "code",
      "source": [
        "##creating a range of tensors\n",
        "torch.range(0,10)"
      ],
      "metadata": {
        "colab": {
          "base_uri": "https://localhost:8080/"
        },
        "id": "pj47CcQffH95",
        "outputId": "083f3a91-7378-41b8-a0a9-e5d67704e62f"
      },
      "execution_count": 36,
      "outputs": [
        {
          "output_type": "stream",
          "name": "stderr",
          "text": [
            "<ipython-input-36-df6a2ff44385>:2: UserWarning: torch.range is deprecated and will be removed in a future release because its behavior is inconsistent with Python's range builtin. Instead, use torch.arange, which produces values in [start, end).\n",
            "  torch.range(0,10)\n"
          ]
        },
        {
          "output_type": "execute_result",
          "data": {
            "text/plain": [
              "tensor([ 0.,  1.,  2.,  3.,  4.,  5.,  6.,  7.,  8.,  9., 10.])"
            ]
          },
          "metadata": {},
          "execution_count": 36
        }
      ]
    },
    {
      "cell_type": "code",
      "source": [
        "torch.__version__"
      ],
      "metadata": {
        "colab": {
          "base_uri": "https://localhost:8080/",
          "height": 36
        },
        "id": "6OS7qZU_fhKX",
        "outputId": "dd391d7e-4d09-4ba3-e2da-7ee13053bd01"
      },
      "execution_count": 37,
      "outputs": [
        {
          "output_type": "execute_result",
          "data": {
            "text/plain": [
              "'2.1.0+cu121'"
            ],
            "application/vnd.google.colaboratory.intrinsic+json": {
              "type": "string"
            }
          },
          "metadata": {},
          "execution_count": 37
        }
      ]
    },
    {
      "cell_type": "code",
      "source": [
        "torch.arange(0,10)"
      ],
      "metadata": {
        "colab": {
          "base_uri": "https://localhost:8080/"
        },
        "id": "tywqYVsEfqeZ",
        "outputId": "8b422eb2-e2d8-4c95-b673-a7ce90c315ce"
      },
      "execution_count": 38,
      "outputs": [
        {
          "output_type": "execute_result",
          "data": {
            "text/plain": [
              "tensor([0, 1, 2, 3, 4, 5, 6, 7, 8, 9])"
            ]
          },
          "metadata": {},
          "execution_count": 38
        }
      ]
    },
    {
      "cell_type": "code",
      "source": [
        "one_to_ten=torch.arange(1,11)\n",
        "one_to_ten"
      ],
      "metadata": {
        "colab": {
          "base_uri": "https://localhost:8080/"
        },
        "id": "sXjwC3wbf8f5",
        "outputId": "5ac84be0-2289-4b9a-f439-3fcb48e57aab"
      },
      "execution_count": 39,
      "outputs": [
        {
          "output_type": "execute_result",
          "data": {
            "text/plain": [
              "tensor([ 1,  2,  3,  4,  5,  6,  7,  8,  9, 10])"
            ]
          },
          "metadata": {},
          "execution_count": 39
        }
      ]
    },
    {
      "cell_type": "code",
      "source": [
        "torch.arange(start=1,end=1000,step=77)"
      ],
      "metadata": {
        "colab": {
          "base_uri": "https://localhost:8080/"
        },
        "id": "dl15daSagNkX",
        "outputId": "5ffc9a94-6d49-4016-f8ad-c5cd451733c5"
      },
      "execution_count": 40,
      "outputs": [
        {
          "output_type": "execute_result",
          "data": {
            "text/plain": [
              "tensor([  1,  78, 155, 232, 309, 386, 463, 540, 617, 694, 771, 848, 925])"
            ]
          },
          "metadata": {},
          "execution_count": 40
        }
      ]
    },
    {
      "cell_type": "code",
      "source": [
        "torch.arange(start=1,end=11,step=1)##end is exclusive"
      ],
      "metadata": {
        "colab": {
          "base_uri": "https://localhost:8080/"
        },
        "id": "Btz7W9NpgZlm",
        "outputId": "e72b4123-495a-49ba-be46-457b46cbee9f"
      },
      "execution_count": 41,
      "outputs": [
        {
          "output_type": "execute_result",
          "data": {
            "text/plain": [
              "tensor([ 1,  2,  3,  4,  5,  6,  7,  8,  9, 10])"
            ]
          },
          "metadata": {},
          "execution_count": 41
        }
      ]
    },
    {
      "cell_type": "code",
      "source": [
        "ten_0s=torch.zeros_like(input=one_to_ten)\n",
        "ten_0s"
      ],
      "metadata": {
        "colab": {
          "base_uri": "https://localhost:8080/"
        },
        "id": "FDlcNLcDghvo",
        "outputId": "76af01a2-d052-43c0-f58e-af9c69d3d6c5"
      },
      "execution_count": 42,
      "outputs": [
        {
          "output_type": "execute_result",
          "data": {
            "text/plain": [
              "tensor([0, 0, 0, 0, 0, 0, 0, 0, 0, 0])"
            ]
          },
          "metadata": {},
          "execution_count": 42
        }
      ]
    },
    {
      "cell_type": "code",
      "source": [
        "##tensor datatypes"
      ],
      "metadata": {
        "id": "m5G2pKI-ghyH"
      },
      "execution_count": 43,
      "outputs": []
    },
    {
      "cell_type": "code",
      "source": [
        "float_32_tensor=torch.tensor([3.0,5.0,10.0],dtype=None)\n",
        "float_32_tensor"
      ],
      "metadata": {
        "id": "uyrR6FWegh1G",
        "colab": {
          "base_uri": "https://localhost:8080/"
        },
        "outputId": "a7a62fc5-c5df-4f61-af9c-d05726989395"
      },
      "execution_count": 44,
      "outputs": [
        {
          "output_type": "execute_result",
          "data": {
            "text/plain": [
              "tensor([ 3.,  5., 10.])"
            ]
          },
          "metadata": {},
          "execution_count": 44
        }
      ]
    },
    {
      "cell_type": "code",
      "source": [
        "float_32_tensor.dtype"
      ],
      "metadata": {
        "id": "VGwkuho8lE4l",
        "colab": {
          "base_uri": "https://localhost:8080/"
        },
        "outputId": "4f2f64c6-e495-417e-9630-dfe26f2a9a55"
      },
      "execution_count": 46,
      "outputs": [
        {
          "output_type": "execute_result",
          "data": {
            "text/plain": [
              "torch.float32"
            ]
          },
          "metadata": {},
          "execution_count": 46
        }
      ]
    },
    {
      "cell_type": "code",
      "source": [],
      "metadata": {
        "id": "Q8GbnPnEgh4k"
      },
      "execution_count": null,
      "outputs": []
    }
  ]
}