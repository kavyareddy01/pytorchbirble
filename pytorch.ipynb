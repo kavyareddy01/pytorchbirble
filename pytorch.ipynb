{
  "nbformat": 4,
  "nbformat_minor": 0,
  "metadata": {
    "colab": {
      "provenance": [],
      "authorship_tag": "ABX9TyO1wTBiwC22jQVRDvyZ66OM",
      "include_colab_link": true
    },
    "kernelspec": {
      "name": "python3",
      "display_name": "Python 3"
    },
    "language_info": {
      "name": "python"
    }
  },
  "cells": [
    {
      "cell_type": "markdown",
      "metadata": {
        "id": "view-in-github",
        "colab_type": "text"
      },
      "source": [
        "<a href=\"https://colab.research.google.com/github/kavyareddy01/pytorchbirble/blob/main/pytorch.ipynb\" target=\"_parent\"><img src=\"https://colab.research.google.com/assets/colab-badge.svg\" alt=\"Open In Colab\"/></a>"
      ]
    },
    {
      "cell_type": "code",
      "execution_count": null,
      "metadata": {
        "colab": {
          "base_uri": "https://localhost:8080/"
        },
        "id": "R_U8892LKm13",
        "outputId": "034196b5-5f6a-488c-c127-bb7619582484"
      },
      "outputs": [
        {
          "output_type": "stream",
          "name": "stdout",
          "text": [
            "I am wish to learn pytorch\n"
          ]
        }
      ],
      "source": [
        "print(\"I am wish to learn pytorch\")"
      ]
    },
    {
      "cell_type": "code",
      "source": [
        "import torch\n",
        "print(torch.__version__)"
      ],
      "metadata": {
        "colab": {
          "base_uri": "https://localhost:8080/"
        },
        "id": "1DypMCJaL_Ux",
        "outputId": "2c97e2c0-f1b2-4fb4-86ed-6ad754f7bcd7"
      },
      "execution_count": null,
      "outputs": [
        {
          "output_type": "stream",
          "name": "stdout",
          "text": [
            "2.1.0+cu121\n"
          ]
        }
      ]
    },
    {
      "cell_type": "code",
      "source": [
        "import torch\n",
        "import pandas as pd\n",
        "import numpy as np\n",
        "import matplotlib.pyplot as plt\n",
        "print(torch.__version__)"
      ],
      "metadata": {
        "colab": {
          "base_uri": "https://localhost:8080/"
        },
        "id": "L8ZAeY05NyVr",
        "outputId": "6bf3bb52-20a4-4206-fc43-85195e5f3548"
      },
      "execution_count": null,
      "outputs": [
        {
          "output_type": "stream",
          "name": "stdout",
          "text": [
            "2.1.0+cu121\n"
          ]
        }
      ]
    },
    {
      "cell_type": "code",
      "source": [
        "#tensor\n",
        "#scalar\n",
        "s=torch.tensor(7)\n",
        "s"
      ],
      "metadata": {
        "colab": {
          "base_uri": "https://localhost:8080/"
        },
        "id": "1nxELT2dSlJd",
        "outputId": "64693cf9-3e9d-4561-9514-70bc7255874d"
      },
      "execution_count": null,
      "outputs": [
        {
          "output_type": "execute_result",
          "data": {
            "text/plain": [
              "tensor(7)"
            ]
          },
          "metadata": {},
          "execution_count": 22
        }
      ]
    },
    {
      "cell_type": "code",
      "source": [
        "\n",
        "s.ndim"
      ],
      "metadata": {
        "colab": {
          "base_uri": "https://localhost:8080/"
        },
        "id": "5AS_q7n1P778",
        "outputId": "ec6c8749-b089-4c61-9931-181083c7bc81"
      },
      "execution_count": null,
      "outputs": [
        {
          "output_type": "execute_result",
          "data": {
            "text/plain": [
              "0"
            ]
          },
          "metadata": {},
          "execution_count": 23
        }
      ]
    },
    {
      "cell_type": "code",
      "source": [
        "#get tensor back as python int\n",
        "s.item()"
      ],
      "metadata": {
        "colab": {
          "base_uri": "https://localhost:8080/"
        },
        "id": "zsb9SmPGQMD_",
        "outputId": "b76e34ee-705b-4257-fd44-98ea60d10eca"
      },
      "execution_count": null,
      "outputs": [
        {
          "output_type": "execute_result",
          "data": {
            "text/plain": [
              "7"
            ]
          },
          "metadata": {},
          "execution_count": 9
        }
      ]
    },
    {
      "cell_type": "code",
      "source": [
        "#vector\n",
        "v=torch.tensor([9,9])\n",
        "v"
      ],
      "metadata": {
        "colab": {
          "base_uri": "https://localhost:8080/"
        },
        "id": "nYYVju4iQWbv",
        "outputId": "82f94404-aa4c-4cfd-b4d5-ae0aa0aa24af"
      },
      "execution_count": null,
      "outputs": [
        {
          "output_type": "execute_result",
          "data": {
            "text/plain": [
              "tensor([9, 9])"
            ]
          },
          "metadata": {},
          "execution_count": 10
        }
      ]
    },
    {
      "cell_type": "code",
      "source": [
        "v.ndim\n"
      ],
      "metadata": {
        "colab": {
          "base_uri": "https://localhost:8080/"
        },
        "id": "VavScEZdQ4h-",
        "outputId": "1f1c808a-934e-4313-e907-d65862533236"
      },
      "execution_count": null,
      "outputs": [
        {
          "output_type": "execute_result",
          "data": {
            "text/plain": [
              "1"
            ]
          },
          "metadata": {},
          "execution_count": 11
        }
      ]
    },
    {
      "cell_type": "code",
      "source": [
        "v.shape"
      ],
      "metadata": {
        "colab": {
          "base_uri": "https://localhost:8080/"
        },
        "id": "cyEUvwitRE4Z",
        "outputId": "476da82a-2090-4d26-db9a-cdc479f3883e"
      },
      "execution_count": null,
      "outputs": [
        {
          "output_type": "execute_result",
          "data": {
            "text/plain": [
              "torch.Size([2])"
            ]
          },
          "metadata": {},
          "execution_count": 14
        }
      ]
    },
    {
      "cell_type": "code",
      "source": [
        "##matrix\n",
        "m=torch.tensor([[7,6],[9,8]])\n",
        "m"
      ],
      "metadata": {
        "colab": {
          "base_uri": "https://localhost:8080/"
        },
        "id": "6iVCcuqKRYjI",
        "outputId": "85bc727b-7ed9-4794-efdb-afa12f5d1e7a"
      },
      "execution_count": null,
      "outputs": [
        {
          "output_type": "execute_result",
          "data": {
            "text/plain": [
              "tensor([[7, 6],\n",
              "        [9, 8]])"
            ]
          },
          "metadata": {},
          "execution_count": 15
        }
      ]
    },
    {
      "cell_type": "code",
      "source": [
        "m.shape\n"
      ],
      "metadata": {
        "colab": {
          "base_uri": "https://localhost:8080/"
        },
        "id": "-ROMdRpNRque",
        "outputId": "4835f4dc-1ec6-4fd8-c2ad-88320e89846c"
      },
      "execution_count": null,
      "outputs": [
        {
          "output_type": "execute_result",
          "data": {
            "text/plain": [
              "torch.Size([2, 2])"
            ]
          },
          "metadata": {},
          "execution_count": 16
        }
      ]
    },
    {
      "cell_type": "code",
      "source": [
        "m.ndim\n"
      ],
      "metadata": {
        "colab": {
          "base_uri": "https://localhost:8080/"
        },
        "id": "Mmduj6hNSzIr",
        "outputId": "4d90d59c-dade-420d-a47d-6ce0812e291e"
      },
      "execution_count": null,
      "outputs": [
        {
          "output_type": "execute_result",
          "data": {
            "text/plain": [
              "2"
            ]
          },
          "metadata": {},
          "execution_count": 24
        }
      ]
    },
    {
      "cell_type": "code",
      "source": [
        "m[0]"
      ],
      "metadata": {
        "colab": {
          "base_uri": "https://localhost:8080/"
        },
        "id": "2dik2zAES8Aj",
        "outputId": "1d45e025-1c0a-4b68-f244-2cea10dad578"
      },
      "execution_count": null,
      "outputs": [
        {
          "output_type": "execute_result",
          "data": {
            "text/plain": [
              "tensor([7, 6])"
            ]
          },
          "metadata": {},
          "execution_count": 25
        }
      ]
    },
    {
      "cell_type": "code",
      "source": [
        "m[1]"
      ],
      "metadata": {
        "colab": {
          "base_uri": "https://localhost:8080/"
        },
        "id": "C_meJAzNS91f",
        "outputId": "37644982-1391-4824-8f71-7c46762209fb"
      },
      "execution_count": null,
      "outputs": [
        {
          "output_type": "execute_result",
          "data": {
            "text/plain": [
              "tensor([9, 8])"
            ]
          },
          "metadata": {},
          "execution_count": 26
        }
      ]
    },
    {
      "cell_type": "code",
      "source": [
        "#tensor\n",
        "t=torch.tensor([[[1,2,3],[2,3,4],[3,4,5]]])\n",
        "t"
      ],
      "metadata": {
        "colab": {
          "base_uri": "https://localhost:8080/"
        },
        "id": "OFlqUn2jTL4c",
        "outputId": "f57279be-29d3-47a6-bad9-84729b3beeb4"
      },
      "execution_count": null,
      "outputs": [
        {
          "output_type": "execute_result",
          "data": {
            "text/plain": [
              "tensor([[[1, 2, 3],\n",
              "         [2, 3, 4],\n",
              "         [3, 4, 5]]])"
            ]
          },
          "metadata": {},
          "execution_count": 27
        }
      ]
    },
    {
      "cell_type": "code",
      "source": [
        "t.shape"
      ],
      "metadata": {
        "colab": {
          "base_uri": "https://localhost:8080/"
        },
        "id": "q0hbyWxdTZ0c",
        "outputId": "d8c86564-b9dc-41c8-802a-4623809337e1"
      },
      "execution_count": null,
      "outputs": [
        {
          "output_type": "execute_result",
          "data": {
            "text/plain": [
              "torch.Size([1, 3, 3])"
            ]
          },
          "metadata": {},
          "execution_count": 28
        }
      ]
    },
    {
      "cell_type": "code",
      "source": [
        "t.ndim"
      ],
      "metadata": {
        "colab": {
          "base_uri": "https://localhost:8080/"
        },
        "id": "RjWK13iETeOM",
        "outputId": "876e6145-0877-46e6-f7c7-5e964506bc5c"
      },
      "execution_count": null,
      "outputs": [
        {
          "output_type": "execute_result",
          "data": {
            "text/plain": [
              "3"
            ]
          },
          "metadata": {},
          "execution_count": 29
        }
      ]
    },
    {
      "cell_type": "code",
      "source": [
        "t[0]"
      ],
      "metadata": {
        "id": "ITggd8oiT-Bt",
        "colab": {
          "base_uri": "https://localhost:8080/"
        },
        "outputId": "ccf7f0cd-d067-4ccb-cf79-2007d9596579"
      },
      "execution_count": null,
      "outputs": [
        {
          "output_type": "execute_result",
          "data": {
            "text/plain": [
              "tensor([[1, 2, 3],\n",
              "        [2, 3, 4],\n",
              "        [3, 4, 5]])"
            ]
          },
          "metadata": {},
          "execution_count": 30
        }
      ]
    },
    {
      "cell_type": "code",
      "source": [
        "# @title Intro to tensors\n"
      ],
      "metadata": {
        "id": "wdS0yBrmYP41"
      },
      "execution_count": null,
      "outputs": []
    },
    {
      "cell_type": "code",
      "source": [
        "t_rand=torch.rand(3,4)\n",
        "t_rand"
      ],
      "metadata": {
        "colab": {
          "base_uri": "https://localhost:8080/"
        },
        "id": "l8EANL5sYVGt",
        "outputId": "cbec1ce0-d5b9-4da0-f82d-5fa49b60b6cf"
      },
      "execution_count": null,
      "outputs": [
        {
          "output_type": "execute_result",
          "data": {
            "text/plain": [
              "tensor([[0.6734, 0.7181, 0.1712, 0.3746],\n",
              "        [0.8599, 0.3625, 0.9391, 0.7848],\n",
              "        [0.8220, 0.7742, 0.8350, 0.4972]])"
            ]
          },
          "metadata": {},
          "execution_count": 33
        }
      ]
    },
    {
      "cell_type": "code",
      "source": [
        "t_rand.ndim"
      ],
      "metadata": {
        "colab": {
          "base_uri": "https://localhost:8080/"
        },
        "id": "ugnoFTCMZM6y",
        "outputId": "e262cd66-43f7-41cd-92f4-8129c9f3456b"
      },
      "execution_count": null,
      "outputs": [
        {
          "output_type": "execute_result",
          "data": {
            "text/plain": [
              "2"
            ]
          },
          "metadata": {},
          "execution_count": 34
        }
      ]
    },
    {
      "cell_type": "code",
      "source": [
        "rand_t=torch.rand(1,10,10)\n",
        "rand_t"
      ],
      "metadata": {
        "colab": {
          "base_uri": "https://localhost:8080/"
        },
        "id": "YyzZPtKEZVGf",
        "outputId": "5c265af4-9323-48c0-b32b-f151ed6e3dc2"
      },
      "execution_count": null,
      "outputs": [
        {
          "output_type": "execute_result",
          "data": {
            "text/plain": [
              "tensor([[[0.3890, 0.6274, 0.6425, 0.8736, 0.8091, 0.5818, 0.8988, 0.8671,\n",
              "          0.4705, 0.7941],\n",
              "         [0.2146, 0.4576, 0.6814, 0.8031, 0.7966, 0.1173, 0.0045, 0.1644,\n",
              "          0.3520, 0.5478],\n",
              "         [0.3765, 0.7138, 0.0132, 0.1979, 0.0895, 0.1133, 0.3061, 0.8483,\n",
              "          0.3072, 0.4127],\n",
              "         [0.3601, 0.3008, 0.1792, 0.9773, 0.1733, 0.7485, 0.9635, 0.5120,\n",
              "          0.8196, 0.7564],\n",
              "         [0.3506, 0.6968, 0.4193, 0.8340, 0.2046, 0.8453, 0.1787, 0.1840,\n",
              "          0.3607, 0.6391],\n",
              "         [0.4594, 0.3171, 0.7603, 0.6392, 0.6772, 0.6950, 0.0229, 0.5605,\n",
              "          0.1020, 0.3613],\n",
              "         [0.0477, 0.8037, 0.0765, 0.6265, 0.8541, 0.2248, 0.0927, 0.1847,\n",
              "          0.9977, 0.2084],\n",
              "         [0.3207, 0.3012, 0.8704, 0.2646, 0.2652, 0.5275, 0.0256, 0.8781,\n",
              "          0.9560, 0.9621],\n",
              "         [0.2181, 0.4497, 0.8696, 0.2289, 0.5241, 0.5541, 0.3607, 0.8884,\n",
              "          0.3757, 0.2943],\n",
              "         [0.0392, 0.0114, 0.9391, 0.3116, 0.4754, 0.3870, 0.9540, 0.1096,\n",
              "          0.7775, 0.1188]]])"
            ]
          },
          "metadata": {},
          "execution_count": 35
        }
      ]
    },
    {
      "cell_type": "code",
      "source": [
        "rand_t.ndim"
      ],
      "metadata": {
        "colab": {
          "base_uri": "https://localhost:8080/"
        },
        "id": "4iQuArFAZcwG",
        "outputId": "69d8632b-8204-4653-8f62-5f4fd5611fc4"
      },
      "execution_count": null,
      "outputs": [
        {
          "output_type": "execute_result",
          "data": {
            "text/plain": [
              "3"
            ]
          },
          "metadata": {},
          "execution_count": 36
        }
      ]
    },
    {
      "cell_type": "code",
      "source": [
        "r_i_s_tensor=torch.rand(size=(224,224,3))#height,width,color channels(R,G,B)\n",
        "r_i_s_tensor.shape,r_i_s_tensor.ndim"
      ],
      "metadata": {
        "colab": {
          "base_uri": "https://localhost:8080/"
        },
        "id": "FTiyWhi5Zr59",
        "outputId": "5a82e8a4-2753-4754-97ec-108db81741f6"
      },
      "execution_count": null,
      "outputs": [
        {
          "output_type": "execute_result",
          "data": {
            "text/plain": [
              "(torch.Size([224, 224, 3]), 3)"
            ]
          },
          "metadata": {},
          "execution_count": 37
        }
      ]
    },
    {
      "cell_type": "code",
      "source": [
        "r_i_s_tensor"
      ],
      "metadata": {
        "colab": {
          "base_uri": "https://localhost:8080/"
        },
        "id": "GSbM8EF2bxBH",
        "outputId": "05f7b1cb-b0de-476e-9d84-e4bfc9fe3fd8"
      },
      "execution_count": null,
      "outputs": [
        {
          "output_type": "execute_result",
          "data": {
            "text/plain": [
              "tensor([[[0.4887, 0.3384, 0.3654],\n",
              "         [0.1327, 0.3470, 0.0411],\n",
              "         [0.1727, 0.4162, 0.8218],\n",
              "         ...,\n",
              "         [0.3496, 0.1617, 0.2359],\n",
              "         [0.9414, 0.8693, 0.0399],\n",
              "         [0.7075, 0.4039, 0.0749]],\n",
              "\n",
              "        [[0.9895, 0.8030, 0.7554],\n",
              "         [0.8873, 0.0787, 0.6796],\n",
              "         [0.3287, 0.1678, 0.7919],\n",
              "         ...,\n",
              "         [0.1520, 0.2026, 0.1618],\n",
              "         [0.0047, 0.1710, 0.7314],\n",
              "         [0.4373, 0.2121, 0.3459]],\n",
              "\n",
              "        [[0.7474, 0.3293, 0.4797],\n",
              "         [0.0411, 0.1937, 0.1920],\n",
              "         [0.0754, 0.4485, 0.6047],\n",
              "         ...,\n",
              "         [0.8398, 0.2579, 0.0656],\n",
              "         [0.3541, 0.8849, 0.3556],\n",
              "         [0.6940, 0.6245, 0.5079]],\n",
              "\n",
              "        ...,\n",
              "\n",
              "        [[0.8852, 0.1025, 0.9551],\n",
              "         [0.3964, 0.2277, 0.0873],\n",
              "         [0.3818, 0.1083, 0.9772],\n",
              "         ...,\n",
              "         [0.7076, 0.7822, 0.0454],\n",
              "         [0.6336, 0.8646, 0.6740],\n",
              "         [0.9885, 0.9397, 0.6052]],\n",
              "\n",
              "        [[0.9674, 0.6431, 0.2607],\n",
              "         [0.0364, 0.4265, 0.8216],\n",
              "         [0.1794, 0.6203, 0.5191],\n",
              "         ...,\n",
              "         [0.5048, 0.7479, 0.3301],\n",
              "         [0.8586, 0.0747, 0.3195],\n",
              "         [0.5610, 0.2397, 0.9548]],\n",
              "\n",
              "        [[0.8830, 0.8927, 0.4048],\n",
              "         [0.8169, 0.1391, 0.0150],\n",
              "         [0.1934, 0.0865, 0.1941],\n",
              "         ...,\n",
              "         [0.5697, 0.6632, 0.5340],\n",
              "         [0.1575, 0.2353, 0.3430],\n",
              "         [0.9768, 0.8661, 0.4732]]])"
            ]
          },
          "metadata": {},
          "execution_count": 38
        }
      ]
    },
    {
      "cell_type": "code",
      "source": [],
      "metadata": {
        "id": "N_F2tUJrb24L"
      },
      "execution_count": null,
      "outputs": []
    }
  ]
}