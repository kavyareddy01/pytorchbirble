{
  "nbformat": 4,
  "nbformat_minor": 0,
  "metadata": {
    "colab": {
      "provenance": [],
      "authorship_tag": "ABX9TyOp4HnWryS5PEuWJhCaXs1c",
      "include_colab_link": true
    },
    "kernelspec": {
      "name": "python3",
      "display_name": "Python 3"
    },
    "language_info": {
      "name": "python"
    }
  },
  "cells": [
    {
      "cell_type": "markdown",
      "metadata": {
        "id": "view-in-github",
        "colab_type": "text"
      },
      "source": [
        "<a href=\"https://colab.research.google.com/github/kavyareddy01/pytorchbirble/blob/main/pytorch.ipynb\" target=\"_parent\"><img src=\"https://colab.research.google.com/assets/colab-badge.svg\" alt=\"Open In Colab\"/></a>"
      ]
    },
    {
      "cell_type": "code",
      "execution_count": 70,
      "metadata": {
        "colab": {
          "base_uri": "https://localhost:8080/"
        },
        "id": "R_U8892LKm13",
        "outputId": "1f5e1ca7-21ae-4ea2-823b-e06521ec9a2d"
      },
      "outputs": [
        {
          "output_type": "stream",
          "name": "stdout",
          "text": [
            "I am wish to learn pytorch\n"
          ]
        }
      ],
      "source": [
        "print(\"I am wish to learn pytorch\")"
      ]
    },
    {
      "cell_type": "code",
      "source": [
        "import torch\n",
        "print(torch.__version__)"
      ],
      "metadata": {
        "colab": {
          "base_uri": "https://localhost:8080/"
        },
        "id": "1DypMCJaL_Ux",
        "outputId": "3a74b71e-52ab-4f8b-b183-c4f4a2e6d38e"
      },
      "execution_count": 71,
      "outputs": [
        {
          "output_type": "stream",
          "name": "stdout",
          "text": [
            "2.1.0+cu121\n"
          ]
        }
      ]
    },
    {
      "cell_type": "code",
      "source": [
        "import torch\n",
        "import pandas as pd\n",
        "import numpy as np\n",
        "import matplotlib.pyplot as plt\n",
        "print(torch.__version__)"
      ],
      "metadata": {
        "colab": {
          "base_uri": "https://localhost:8080/"
        },
        "id": "L8ZAeY05NyVr",
        "outputId": "b672a55e-1f5b-4feb-ebe9-8e950c61b259"
      },
      "execution_count": 72,
      "outputs": [
        {
          "output_type": "stream",
          "name": "stdout",
          "text": [
            "2.1.0+cu121\n"
          ]
        }
      ]
    },
    {
      "cell_type": "code",
      "source": [
        "#tensor\n",
        "#scalar\n",
        "s=torch.tensor(7)\n",
        "s"
      ],
      "metadata": {
        "colab": {
          "base_uri": "https://localhost:8080/"
        },
        "id": "1nxELT2dSlJd",
        "outputId": "af43b072-41ac-4929-f8b8-711aad9e34b4"
      },
      "execution_count": 73,
      "outputs": [
        {
          "output_type": "execute_result",
          "data": {
            "text/plain": [
              "tensor(7)"
            ]
          },
          "metadata": {},
          "execution_count": 73
        }
      ]
    },
    {
      "cell_type": "code",
      "source": [
        "\n",
        "s.ndim"
      ],
      "metadata": {
        "colab": {
          "base_uri": "https://localhost:8080/"
        },
        "id": "5AS_q7n1P778",
        "outputId": "ac209c35-2ad4-49a2-871b-f90a45b76455"
      },
      "execution_count": 74,
      "outputs": [
        {
          "output_type": "execute_result",
          "data": {
            "text/plain": [
              "0"
            ]
          },
          "metadata": {},
          "execution_count": 74
        }
      ]
    },
    {
      "cell_type": "code",
      "source": [
        "#get tensor back as python int\n",
        "s.item()"
      ],
      "metadata": {
        "colab": {
          "base_uri": "https://localhost:8080/"
        },
        "id": "zsb9SmPGQMD_",
        "outputId": "d8c5b84e-54e2-4a3c-9283-1bc5e0ba5079"
      },
      "execution_count": 75,
      "outputs": [
        {
          "output_type": "execute_result",
          "data": {
            "text/plain": [
              "7"
            ]
          },
          "metadata": {},
          "execution_count": 75
        }
      ]
    },
    {
      "cell_type": "code",
      "source": [
        "#vector\n",
        "v=torch.tensor([9,9])\n",
        "v"
      ],
      "metadata": {
        "colab": {
          "base_uri": "https://localhost:8080/"
        },
        "id": "nYYVju4iQWbv",
        "outputId": "6286f135-aa02-44f9-e4d2-de8ceeb9173c"
      },
      "execution_count": 76,
      "outputs": [
        {
          "output_type": "execute_result",
          "data": {
            "text/plain": [
              "tensor([9, 9])"
            ]
          },
          "metadata": {},
          "execution_count": 76
        }
      ]
    },
    {
      "cell_type": "code",
      "source": [
        "v.ndim\n"
      ],
      "metadata": {
        "colab": {
          "base_uri": "https://localhost:8080/"
        },
        "id": "VavScEZdQ4h-",
        "outputId": "0f33d714-40f5-453d-c7fc-f58b96a511bc"
      },
      "execution_count": 77,
      "outputs": [
        {
          "output_type": "execute_result",
          "data": {
            "text/plain": [
              "1"
            ]
          },
          "metadata": {},
          "execution_count": 77
        }
      ]
    },
    {
      "cell_type": "code",
      "source": [
        "v.shape"
      ],
      "metadata": {
        "colab": {
          "base_uri": "https://localhost:8080/"
        },
        "id": "cyEUvwitRE4Z",
        "outputId": "12495379-9602-44fe-828f-1f93892b5bfd"
      },
      "execution_count": 78,
      "outputs": [
        {
          "output_type": "execute_result",
          "data": {
            "text/plain": [
              "torch.Size([2])"
            ]
          },
          "metadata": {},
          "execution_count": 78
        }
      ]
    },
    {
      "cell_type": "code",
      "source": [
        "##matrix\n",
        "m=torch.tensor([[7,6],[9,8]])\n",
        "m"
      ],
      "metadata": {
        "colab": {
          "base_uri": "https://localhost:8080/"
        },
        "id": "6iVCcuqKRYjI",
        "outputId": "058481c3-49e6-45fb-dc69-258ed600a82a"
      },
      "execution_count": 79,
      "outputs": [
        {
          "output_type": "execute_result",
          "data": {
            "text/plain": [
              "tensor([[7, 6],\n",
              "        [9, 8]])"
            ]
          },
          "metadata": {},
          "execution_count": 79
        }
      ]
    },
    {
      "cell_type": "code",
      "source": [
        "m.shape\n"
      ],
      "metadata": {
        "colab": {
          "base_uri": "https://localhost:8080/"
        },
        "id": "-ROMdRpNRque",
        "outputId": "e0dd9042-d7dc-445a-e4d3-0561162f8b22"
      },
      "execution_count": 80,
      "outputs": [
        {
          "output_type": "execute_result",
          "data": {
            "text/plain": [
              "torch.Size([2, 2])"
            ]
          },
          "metadata": {},
          "execution_count": 80
        }
      ]
    },
    {
      "cell_type": "code",
      "source": [
        "m.ndim\n"
      ],
      "metadata": {
        "colab": {
          "base_uri": "https://localhost:8080/"
        },
        "id": "Mmduj6hNSzIr",
        "outputId": "a9967bda-7310-4638-c6cc-b9424190d9f6"
      },
      "execution_count": 81,
      "outputs": [
        {
          "output_type": "execute_result",
          "data": {
            "text/plain": [
              "2"
            ]
          },
          "metadata": {},
          "execution_count": 81
        }
      ]
    },
    {
      "cell_type": "code",
      "source": [
        "m[0]"
      ],
      "metadata": {
        "colab": {
          "base_uri": "https://localhost:8080/"
        },
        "id": "2dik2zAES8Aj",
        "outputId": "8b4d9e08-1287-42d3-d676-96717b2fcbac"
      },
      "execution_count": 82,
      "outputs": [
        {
          "output_type": "execute_result",
          "data": {
            "text/plain": [
              "tensor([7, 6])"
            ]
          },
          "metadata": {},
          "execution_count": 82
        }
      ]
    },
    {
      "cell_type": "code",
      "source": [
        "m[1]"
      ],
      "metadata": {
        "colab": {
          "base_uri": "https://localhost:8080/"
        },
        "id": "C_meJAzNS91f",
        "outputId": "35bdc41b-b749-4a83-cf3b-4217719f7790"
      },
      "execution_count": 83,
      "outputs": [
        {
          "output_type": "execute_result",
          "data": {
            "text/plain": [
              "tensor([9, 8])"
            ]
          },
          "metadata": {},
          "execution_count": 83
        }
      ]
    },
    {
      "cell_type": "code",
      "source": [
        "#tensor\n",
        "t=torch.tensor([[[1,2,3],[2,3,4],[3,4,5]]])\n",
        "t"
      ],
      "metadata": {
        "colab": {
          "base_uri": "https://localhost:8080/"
        },
        "id": "OFlqUn2jTL4c",
        "outputId": "9b82f26c-01aa-404f-a223-fd174a51359f"
      },
      "execution_count": 84,
      "outputs": [
        {
          "output_type": "execute_result",
          "data": {
            "text/plain": [
              "tensor([[[1, 2, 3],\n",
              "         [2, 3, 4],\n",
              "         [3, 4, 5]]])"
            ]
          },
          "metadata": {},
          "execution_count": 84
        }
      ]
    },
    {
      "cell_type": "code",
      "source": [
        "t.shape"
      ],
      "metadata": {
        "colab": {
          "base_uri": "https://localhost:8080/"
        },
        "id": "q0hbyWxdTZ0c",
        "outputId": "f2856d95-d552-4a5a-de9b-2c8677e0fbc7"
      },
      "execution_count": 85,
      "outputs": [
        {
          "output_type": "execute_result",
          "data": {
            "text/plain": [
              "torch.Size([1, 3, 3])"
            ]
          },
          "metadata": {},
          "execution_count": 85
        }
      ]
    },
    {
      "cell_type": "code",
      "source": [
        "t.ndim"
      ],
      "metadata": {
        "colab": {
          "base_uri": "https://localhost:8080/"
        },
        "id": "RjWK13iETeOM",
        "outputId": "049e6671-7a0e-406f-cc20-a3d07fd5c975"
      },
      "execution_count": 86,
      "outputs": [
        {
          "output_type": "execute_result",
          "data": {
            "text/plain": [
              "3"
            ]
          },
          "metadata": {},
          "execution_count": 86
        }
      ]
    },
    {
      "cell_type": "code",
      "source": [
        "t[0]"
      ],
      "metadata": {
        "id": "ITggd8oiT-Bt",
        "colab": {
          "base_uri": "https://localhost:8080/"
        },
        "outputId": "5630192b-f643-4bd7-c88d-0a71daef4bae"
      },
      "execution_count": 87,
      "outputs": [
        {
          "output_type": "execute_result",
          "data": {
            "text/plain": [
              "tensor([[1, 2, 3],\n",
              "        [2, 3, 4],\n",
              "        [3, 4, 5]])"
            ]
          },
          "metadata": {},
          "execution_count": 87
        }
      ]
    },
    {
      "cell_type": "code",
      "source": [
        "# @title Intro to tensors\n"
      ],
      "metadata": {
        "id": "wdS0yBrmYP41"
      },
      "execution_count": 88,
      "outputs": []
    },
    {
      "cell_type": "code",
      "source": [
        "t_rand=torch.rand(3,4)\n",
        "t_rand"
      ],
      "metadata": {
        "colab": {
          "base_uri": "https://localhost:8080/"
        },
        "id": "l8EANL5sYVGt",
        "outputId": "114bca0b-ad86-4856-cbc4-88f5c22c545f"
      },
      "execution_count": 89,
      "outputs": [
        {
          "output_type": "execute_result",
          "data": {
            "text/plain": [
              "tensor([[0.2474, 0.9073, 0.6020, 0.1150],\n",
              "        [0.3337, 0.5811, 0.4446, 0.5521],\n",
              "        [0.0986, 0.9296, 0.7449, 0.1014]])"
            ]
          },
          "metadata": {},
          "execution_count": 89
        }
      ]
    },
    {
      "cell_type": "code",
      "source": [
        "t_rand.ndim"
      ],
      "metadata": {
        "colab": {
          "base_uri": "https://localhost:8080/"
        },
        "id": "ugnoFTCMZM6y",
        "outputId": "b631ff19-5f0b-4ae2-da36-e64af988ebeb"
      },
      "execution_count": 90,
      "outputs": [
        {
          "output_type": "execute_result",
          "data": {
            "text/plain": [
              "2"
            ]
          },
          "metadata": {},
          "execution_count": 90
        }
      ]
    },
    {
      "cell_type": "code",
      "source": [
        "rand_t=torch.rand(1,10,10)\n",
        "rand_t"
      ],
      "metadata": {
        "colab": {
          "base_uri": "https://localhost:8080/"
        },
        "id": "YyzZPtKEZVGf",
        "outputId": "a3405b7a-aa76-4529-f409-9d296be2575c"
      },
      "execution_count": 91,
      "outputs": [
        {
          "output_type": "execute_result",
          "data": {
            "text/plain": [
              "tensor([[[0.0054, 0.2773, 0.1639, 0.2758, 0.9774, 0.2571, 0.3035, 0.5451,\n",
              "          0.7002, 0.4523],\n",
              "         [0.3759, 0.1102, 0.0661, 0.7698, 0.7568, 0.8294, 0.7281, 0.5463,\n",
              "          0.7003, 0.5099],\n",
              "         [0.6035, 0.6415, 0.8001, 0.5678, 0.8036, 0.3607, 0.6412, 0.1212,\n",
              "          0.1631, 0.3641],\n",
              "         [0.1746, 0.0063, 0.6225, 0.4183, 0.9825, 0.7933, 0.8632, 0.9049,\n",
              "          0.6525, 0.0539],\n",
              "         [0.3126, 0.6132, 0.3169, 0.6522, 0.8164, 0.0268, 0.5237, 0.8690,\n",
              "          0.4400, 0.2274],\n",
              "         [0.6546, 0.2306, 0.3898, 0.9737, 0.5397, 0.2901, 0.1281, 0.1828,\n",
              "          0.5287, 0.0664],\n",
              "         [0.7464, 0.1218, 0.5451, 0.6231, 0.0717, 0.6561, 0.1602, 0.3393,\n",
              "          0.0639, 0.6486],\n",
              "         [0.0171, 0.8274, 0.5297, 0.5600, 0.2568, 0.2102, 0.2236, 0.3918,\n",
              "          0.1070, 0.7522],\n",
              "         [0.0871, 0.1272, 0.0498, 0.6905, 0.5193, 0.4676, 0.3459, 0.0139,\n",
              "          0.3453, 0.7926],\n",
              "         [0.4137, 0.1858, 0.9460, 0.7002, 0.8942, 0.6725, 0.4391, 0.5184,\n",
              "          0.8224, 0.6347]]])"
            ]
          },
          "metadata": {},
          "execution_count": 91
        }
      ]
    },
    {
      "cell_type": "code",
      "source": [
        "rand_t.ndim"
      ],
      "metadata": {
        "colab": {
          "base_uri": "https://localhost:8080/"
        },
        "id": "4iQuArFAZcwG",
        "outputId": "001554d1-2a05-49ac-b4fd-641a509bf1c4"
      },
      "execution_count": 92,
      "outputs": [
        {
          "output_type": "execute_result",
          "data": {
            "text/plain": [
              "3"
            ]
          },
          "metadata": {},
          "execution_count": 92
        }
      ]
    },
    {
      "cell_type": "code",
      "source": [
        "r_i_s_tensor=torch.rand(size=(224,224,3))#height,width,color channels(R,G,B)\n",
        "r_i_s_tensor.shape,r_i_s_tensor.ndim"
      ],
      "metadata": {
        "colab": {
          "base_uri": "https://localhost:8080/"
        },
        "id": "FTiyWhi5Zr59",
        "outputId": "66112bbb-f699-4e03-eff8-b8c5fef31462"
      },
      "execution_count": 93,
      "outputs": [
        {
          "output_type": "execute_result",
          "data": {
            "text/plain": [
              "(torch.Size([224, 224, 3]), 3)"
            ]
          },
          "metadata": {},
          "execution_count": 93
        }
      ]
    },
    {
      "cell_type": "code",
      "source": [
        "r_i_s_tensor"
      ],
      "metadata": {
        "colab": {
          "base_uri": "https://localhost:8080/"
        },
        "id": "GSbM8EF2bxBH",
        "outputId": "aaed92bd-4194-4909-d5c2-ca572581770b"
      },
      "execution_count": 94,
      "outputs": [
        {
          "output_type": "execute_result",
          "data": {
            "text/plain": [
              "tensor([[[0.9936, 0.7277, 0.5937],\n",
              "         [0.8702, 0.1155, 0.8682],\n",
              "         [0.5205, 0.6310, 0.2486],\n",
              "         ...,\n",
              "         [0.1125, 0.0567, 0.4111],\n",
              "         [0.1086, 0.5832, 0.0192],\n",
              "         [0.4324, 0.5460, 0.7356]],\n",
              "\n",
              "        [[0.6291, 0.7029, 0.7949],\n",
              "         [0.9400, 0.7565, 0.7533],\n",
              "         [0.5600, 0.8527, 0.6291],\n",
              "         ...,\n",
              "         [0.7810, 0.7008, 0.1706],\n",
              "         [0.0779, 0.5858, 0.4216],\n",
              "         [0.6525, 0.6579, 0.8585]],\n",
              "\n",
              "        [[0.1531, 0.3153, 0.0904],\n",
              "         [0.3849, 0.9134, 0.9370],\n",
              "         [0.6198, 0.9523, 0.4780],\n",
              "         ...,\n",
              "         [0.7514, 0.4041, 0.2523],\n",
              "         [0.6634, 0.7363, 0.9042],\n",
              "         [0.4730, 0.6450, 0.4778]],\n",
              "\n",
              "        ...,\n",
              "\n",
              "        [[0.3382, 0.7579, 0.5058],\n",
              "         [0.8005, 0.7698, 0.5180],\n",
              "         [0.9848, 0.1183, 0.5320],\n",
              "         ...,\n",
              "         [0.6524, 0.0960, 0.9238],\n",
              "         [0.4430, 0.9918, 0.1104],\n",
              "         [0.0571, 0.1835, 0.1560]],\n",
              "\n",
              "        [[0.6604, 0.0465, 0.9704],\n",
              "         [0.7238, 0.8268, 0.2212],\n",
              "         [0.5721, 0.5942, 0.8884],\n",
              "         ...,\n",
              "         [0.3657, 0.7445, 0.9820],\n",
              "         [0.2600, 0.7976, 0.9669],\n",
              "         [0.5658, 0.1942, 0.3826]],\n",
              "\n",
              "        [[0.0041, 0.7507, 0.0062],\n",
              "         [0.0615, 0.3986, 0.3350],\n",
              "         [0.3058, 0.8579, 0.4306],\n",
              "         ...,\n",
              "         [0.7937, 0.4346, 0.8504],\n",
              "         [0.1276, 0.6860, 0.4267],\n",
              "         [0.5686, 0.4772, 0.5603]]])"
            ]
          },
          "metadata": {},
          "execution_count": 94
        }
      ]
    },
    {
      "cell_type": "code",
      "source": [
        "torch.rand(3,3)"
      ],
      "metadata": {
        "id": "N_F2tUJrb24L",
        "colab": {
          "base_uri": "https://localhost:8080/"
        },
        "outputId": "581a7f72-dd46-45ec-a420-798574eed5d0"
      },
      "execution_count": 95,
      "outputs": [
        {
          "output_type": "execute_result",
          "data": {
            "text/plain": [
              "tensor([[0.2724, 0.5400, 0.0597],\n",
              "        [0.4045, 0.0716, 0.4386],\n",
              "        [0.4905, 0.9647, 0.4392]])"
            ]
          },
          "metadata": {},
          "execution_count": 95
        }
      ]
    },
    {
      "cell_type": "code",
      "source": [
        "##zeros and ones tensors\n",
        "\n",
        "z=torch.zeros(size=(3,4))\n",
        "z"
      ],
      "metadata": {
        "colab": {
          "base_uri": "https://localhost:8080/"
        },
        "id": "cHYXaA2Jdioh",
        "outputId": "a4c54f56-1b55-463d-b095-ef7b3026317f"
      },
      "execution_count": 96,
      "outputs": [
        {
          "output_type": "execute_result",
          "data": {
            "text/plain": [
              "tensor([[0., 0., 0., 0.],\n",
              "        [0., 0., 0., 0.],\n",
              "        [0., 0., 0., 0.]])"
            ]
          },
          "metadata": {},
          "execution_count": 96
        }
      ]
    },
    {
      "cell_type": "code",
      "source": [
        "z*t_rand"
      ],
      "metadata": {
        "colab": {
          "base_uri": "https://localhost:8080/"
        },
        "id": "_FCbawexd0-t",
        "outputId": "af1d1e42-4f0b-4406-91c1-4cbb0a676068"
      },
      "execution_count": 97,
      "outputs": [
        {
          "output_type": "execute_result",
          "data": {
            "text/plain": [
              "tensor([[0., 0., 0., 0.],\n",
              "        [0., 0., 0., 0.],\n",
              "        [0., 0., 0., 0.]])"
            ]
          },
          "metadata": {},
          "execution_count": 97
        }
      ]
    },
    {
      "cell_type": "code",
      "source": [
        "o=torch.ones(size=(3,4))\n",
        "o"
      ],
      "metadata": {
        "colab": {
          "base_uri": "https://localhost:8080/"
        },
        "id": "kmIJvbYSed6L",
        "outputId": "a1c0063a-21a4-469b-b77b-28da59627816"
      },
      "execution_count": 98,
      "outputs": [
        {
          "output_type": "execute_result",
          "data": {
            "text/plain": [
              "tensor([[1., 1., 1., 1.],\n",
              "        [1., 1., 1., 1.],\n",
              "        [1., 1., 1., 1.]])"
            ]
          },
          "metadata": {},
          "execution_count": 98
        }
      ]
    },
    {
      "cell_type": "code",
      "source": [
        "o.dtype"
      ],
      "metadata": {
        "colab": {
          "base_uri": "https://localhost:8080/"
        },
        "id": "dE23-AkJek2A",
        "outputId": "58710bed-5750-440b-ff52-14de0a67720e"
      },
      "execution_count": 99,
      "outputs": [
        {
          "output_type": "execute_result",
          "data": {
            "text/plain": [
              "torch.float32"
            ]
          },
          "metadata": {},
          "execution_count": 99
        }
      ]
    },
    {
      "cell_type": "code",
      "source": [
        "rand_t.dtype"
      ],
      "metadata": {
        "colab": {
          "base_uri": "https://localhost:8080/"
        },
        "id": "VQfrlfNOe5PD",
        "outputId": "e7ae6f21-8d09-40e2-ade1-87df5051efbc"
      },
      "execution_count": 100,
      "outputs": [
        {
          "output_type": "execute_result",
          "data": {
            "text/plain": [
              "torch.float32"
            ]
          },
          "metadata": {},
          "execution_count": 100
        }
      ]
    },
    {
      "cell_type": "code",
      "source": [
        "t_rand.dtype"
      ],
      "metadata": {
        "colab": {
          "base_uri": "https://localhost:8080/"
        },
        "id": "PlCWude3e75U",
        "outputId": "2a68473e-aad6-4924-a5e3-50a27ac5a7e0"
      },
      "execution_count": 101,
      "outputs": [
        {
          "output_type": "execute_result",
          "data": {
            "text/plain": [
              "torch.float32"
            ]
          },
          "metadata": {},
          "execution_count": 101
        }
      ]
    },
    {
      "cell_type": "code",
      "source": [
        "z.dtype"
      ],
      "metadata": {
        "colab": {
          "base_uri": "https://localhost:8080/"
        },
        "id": "dq7vmWA4ek5X",
        "outputId": "ba3c38ab-7ff1-4079-f4a8-033f90e77f33"
      },
      "execution_count": 102,
      "outputs": [
        {
          "output_type": "execute_result",
          "data": {
            "text/plain": [
              "torch.float32"
            ]
          },
          "metadata": {},
          "execution_count": 102
        }
      ]
    },
    {
      "cell_type": "code",
      "source": [
        "##creating a range of tensors\n",
        "torch.range(0,10)"
      ],
      "metadata": {
        "colab": {
          "base_uri": "https://localhost:8080/"
        },
        "id": "pj47CcQffH95",
        "outputId": "e1ca9a6a-01ff-4f61-dff8-91f1601c3876"
      },
      "execution_count": 103,
      "outputs": [
        {
          "output_type": "stream",
          "name": "stderr",
          "text": [
            "<ipython-input-103-df6a2ff44385>:2: UserWarning: torch.range is deprecated and will be removed in a future release because its behavior is inconsistent with Python's range builtin. Instead, use torch.arange, which produces values in [start, end).\n",
            "  torch.range(0,10)\n"
          ]
        },
        {
          "output_type": "execute_result",
          "data": {
            "text/plain": [
              "tensor([ 0.,  1.,  2.,  3.,  4.,  5.,  6.,  7.,  8.,  9., 10.])"
            ]
          },
          "metadata": {},
          "execution_count": 103
        }
      ]
    },
    {
      "cell_type": "code",
      "source": [
        "torch.__version__"
      ],
      "metadata": {
        "colab": {
          "base_uri": "https://localhost:8080/",
          "height": 36
        },
        "id": "6OS7qZU_fhKX",
        "outputId": "136e1784-1084-4a54-a522-5e6445592087"
      },
      "execution_count": 104,
      "outputs": [
        {
          "output_type": "execute_result",
          "data": {
            "text/plain": [
              "'2.1.0+cu121'"
            ],
            "application/vnd.google.colaboratory.intrinsic+json": {
              "type": "string"
            }
          },
          "metadata": {},
          "execution_count": 104
        }
      ]
    },
    {
      "cell_type": "code",
      "source": [
        "torch.arange(0,10)"
      ],
      "metadata": {
        "colab": {
          "base_uri": "https://localhost:8080/"
        },
        "id": "tywqYVsEfqeZ",
        "outputId": "09b8eddd-fe83-452b-cfd3-183287362245"
      },
      "execution_count": 105,
      "outputs": [
        {
          "output_type": "execute_result",
          "data": {
            "text/plain": [
              "tensor([0, 1, 2, 3, 4, 5, 6, 7, 8, 9])"
            ]
          },
          "metadata": {},
          "execution_count": 105
        }
      ]
    },
    {
      "cell_type": "code",
      "source": [
        "one_to_ten=torch.arange(1,11)\n",
        "one_to_ten"
      ],
      "metadata": {
        "colab": {
          "base_uri": "https://localhost:8080/"
        },
        "id": "sXjwC3wbf8f5",
        "outputId": "49e7a55b-9155-406a-8089-4793623b6a2d"
      },
      "execution_count": 106,
      "outputs": [
        {
          "output_type": "execute_result",
          "data": {
            "text/plain": [
              "tensor([ 1,  2,  3,  4,  5,  6,  7,  8,  9, 10])"
            ]
          },
          "metadata": {},
          "execution_count": 106
        }
      ]
    },
    {
      "cell_type": "code",
      "source": [
        "torch.arange(start=1,end=1000,step=77)"
      ],
      "metadata": {
        "colab": {
          "base_uri": "https://localhost:8080/"
        },
        "id": "dl15daSagNkX",
        "outputId": "f3a363fb-9061-4350-a2c3-af0573f7d1b6"
      },
      "execution_count": 107,
      "outputs": [
        {
          "output_type": "execute_result",
          "data": {
            "text/plain": [
              "tensor([  1,  78, 155, 232, 309, 386, 463, 540, 617, 694, 771, 848, 925])"
            ]
          },
          "metadata": {},
          "execution_count": 107
        }
      ]
    },
    {
      "cell_type": "code",
      "source": [
        "torch.arange(start=1,end=11,step=1)##end is exclusive"
      ],
      "metadata": {
        "colab": {
          "base_uri": "https://localhost:8080/"
        },
        "id": "Btz7W9NpgZlm",
        "outputId": "800963fa-153b-4b1c-dcdb-7f5b8d63ca8c"
      },
      "execution_count": 108,
      "outputs": [
        {
          "output_type": "execute_result",
          "data": {
            "text/plain": [
              "tensor([ 1,  2,  3,  4,  5,  6,  7,  8,  9, 10])"
            ]
          },
          "metadata": {},
          "execution_count": 108
        }
      ]
    },
    {
      "cell_type": "code",
      "source": [
        "ten_0s=torch.zeros_like(input=one_to_ten)\n",
        "ten_0s"
      ],
      "metadata": {
        "colab": {
          "base_uri": "https://localhost:8080/"
        },
        "id": "FDlcNLcDghvo",
        "outputId": "d59da709-c8ef-45c2-f9b1-f214059a95ca"
      },
      "execution_count": 109,
      "outputs": [
        {
          "output_type": "execute_result",
          "data": {
            "text/plain": [
              "tensor([0, 0, 0, 0, 0, 0, 0, 0, 0, 0])"
            ]
          },
          "metadata": {},
          "execution_count": 109
        }
      ]
    },
    {
      "cell_type": "code",
      "source": [
        "##tensor datatypes"
      ],
      "metadata": {
        "id": "m5G2pKI-ghyH"
      },
      "execution_count": 110,
      "outputs": []
    },
    {
      "cell_type": "code",
      "source": [
        "float_32_tensor=torch.tensor([3.0,5.0,10.0],dtype=None)\n",
        "float_32_tensor"
      ],
      "metadata": {
        "id": "uyrR6FWegh1G",
        "colab": {
          "base_uri": "https://localhost:8080/"
        },
        "outputId": "03e59969-b3d8-47b5-b099-a1ab81703ed1"
      },
      "execution_count": 111,
      "outputs": [
        {
          "output_type": "execute_result",
          "data": {
            "text/plain": [
              "tensor([ 3.,  5., 10.])"
            ]
          },
          "metadata": {},
          "execution_count": 111
        }
      ]
    },
    {
      "cell_type": "code",
      "source": [
        "float_32_tensor.dtype  ##default"
      ],
      "metadata": {
        "id": "VGwkuho8lE4l",
        "colab": {
          "base_uri": "https://localhost:8080/"
        },
        "outputId": "025a8a52-3dff-49b2-e98c-b8d89174ab0e"
      },
      "execution_count": 112,
      "outputs": [
        {
          "output_type": "execute_result",
          "data": {
            "text/plain": [
              "torch.float32"
            ]
          },
          "metadata": {},
          "execution_count": 112
        }
      ]
    },
    {
      "cell_type": "code",
      "source": [
        "float_32_t=torch.tensor([3.0,5.0,10.0],dtype=torch.float16)\n",
        "float_32_t"
      ],
      "metadata": {
        "id": "Q8GbnPnEgh4k",
        "colab": {
          "base_uri": "https://localhost:8080/"
        },
        "outputId": "7d47a109-c821-4c7a-d5fc-14be280fa25b"
      },
      "execution_count": 113,
      "outputs": [
        {
          "output_type": "execute_result",
          "data": {
            "text/plain": [
              "tensor([ 3.,  5., 10.], dtype=torch.float16)"
            ]
          },
          "metadata": {},
          "execution_count": 113
        }
      ]
    },
    {
      "cell_type": "code",
      "source": [
        "float_32_t.dtype"
      ],
      "metadata": {
        "colab": {
          "base_uri": "https://localhost:8080/"
        },
        "id": "bxMLPmDbUZ9x",
        "outputId": "25c70ffc-67e4-4290-a524-3e21db3836d5"
      },
      "execution_count": 114,
      "outputs": [
        {
          "output_type": "execute_result",
          "data": {
            "text/plain": [
              "torch.float16"
            ]
          },
          "metadata": {},
          "execution_count": 114
        }
      ]
    },
    {
      "cell_type": "code",
      "source": [
        "f=torch.tensor([1.0,2.0,3.0],dtype=None,# what datatype  is the tensor\n",
        "                            device=None,#what device is ur tensor on\n",
        "                            requires_grad=False  )#whether or not to track gradients with this tensors operatns\n",
        "##tensor imp parameters\n",
        "f\n",
        "##32-bit floating point->torch.float or torch.float32\n",
        "#64-bit floating point ->torch.float64 or torch.double\n",
        "#16-bit floating point ->torch.float16 or torch.half"
      ],
      "metadata": {
        "colab": {
          "base_uri": "https://localhost:8080/"
        },
        "id": "xqC5xXeWUj5Y",
        "outputId": "7a964714-ebba-4d42-e8a7-3a8e63550bf4"
      },
      "execution_count": 115,
      "outputs": [
        {
          "output_type": "execute_result",
          "data": {
            "text/plain": [
              "tensor([1., 2., 3.])"
            ]
          },
          "metadata": {},
          "execution_count": 115
        }
      ]
    },
    {
      "cell_type": "markdown",
      "source": [
        "tensor datatypes are the 3 big errors you will run into with pytorch or deeplearning\n",
        "\n",
        "1.   tensors not right datatype\n",
        "2.   tensors not right shape\n",
        "3.   tensors not on the right device\n",
        "\n",
        "\n",
        "\n",
        "\n",
        "\n",
        "\n"
      ],
      "metadata": {
        "id": "KaWm-Cs2WJ1M"
      }
    },
    {
      "cell_type": "code",
      "source": [
        "f_16_t=float_32_t.type(torch.float16)\n",
        "f_16_t"
      ],
      "metadata": {
        "colab": {
          "base_uri": "https://localhost:8080/"
        },
        "id": "AYSAzEEzWx68",
        "outputId": "1cf60e75-68d2-43ef-8580-9f821c3631f7"
      },
      "execution_count": 116,
      "outputs": [
        {
          "output_type": "execute_result",
          "data": {
            "text/plain": [
              "tensor([ 3.,  5., 10.], dtype=torch.float16)"
            ]
          },
          "metadata": {},
          "execution_count": 116
        }
      ]
    },
    {
      "cell_type": "code",
      "source": [
        "f_16_t*float_32_t"
      ],
      "metadata": {
        "colab": {
          "base_uri": "https://localhost:8080/"
        },
        "id": "2LrskePtYQKJ",
        "outputId": "46212339-d84c-4a00-dc8e-92521c5baaad"
      },
      "execution_count": 117,
      "outputs": [
        {
          "output_type": "execute_result",
          "data": {
            "text/plain": [
              "tensor([  9.,  25., 100.], dtype=torch.float16)"
            ]
          },
          "metadata": {},
          "execution_count": 117
        }
      ]
    },
    {
      "cell_type": "code",
      "source": [
        "float_32_t*f_16_t"
      ],
      "metadata": {
        "colab": {
          "base_uri": "https://localhost:8080/"
        },
        "id": "jrXysV0hYQMa",
        "outputId": "80469b46-a879-440e-9124-2c8115936394"
      },
      "execution_count": 118,
      "outputs": [
        {
          "output_type": "execute_result",
          "data": {
            "text/plain": [
              "tensor([  9.,  25., 100.], dtype=torch.float16)"
            ]
          },
          "metadata": {},
          "execution_count": 118
        }
      ]
    },
    {
      "cell_type": "code",
      "source": [
        "int_32_tensor=torch.tensor([1,3,6],dtype=torch.int32)\n",
        "int_32_tensor"
      ],
      "metadata": {
        "colab": {
          "base_uri": "https://localhost:8080/"
        },
        "id": "e4CziRygY1Az",
        "outputId": "45403910-074f-40f2-c0b1-4b9817cbd22c"
      },
      "execution_count": 119,
      "outputs": [
        {
          "output_type": "execute_result",
          "data": {
            "text/plain": [
              "tensor([1, 3, 6], dtype=torch.int32)"
            ]
          },
          "metadata": {},
          "execution_count": 119
        }
      ]
    },
    {
      "cell_type": "code",
      "source": [
        "float_32_t*int_32_tensor"
      ],
      "metadata": {
        "colab": {
          "base_uri": "https://localhost:8080/"
        },
        "id": "4ZbRkanDZPjK",
        "outputId": "2529cd95-9b45-4b65-c78d-4c23aab984e7"
      },
      "execution_count": 120,
      "outputs": [
        {
          "output_type": "execute_result",
          "data": {
            "text/plain": [
              "tensor([ 3., 15., 60.], dtype=torch.float16)"
            ]
          },
          "metadata": {},
          "execution_count": 120
        }
      ]
    },
    {
      "cell_type": "code",
      "source": [
        "int_64_tensor=torch.tensor([1,3,6],dtype=torch.int64)\n",
        "int_64_tensor"
      ],
      "metadata": {
        "colab": {
          "base_uri": "https://localhost:8080/"
        },
        "id": "9pEbHo1HZdC3",
        "outputId": "7dcaf040-72c9-4a50-c8a2-eaeabe12b2e2"
      },
      "execution_count": 121,
      "outputs": [
        {
          "output_type": "execute_result",
          "data": {
            "text/plain": [
              "tensor([1, 3, 6])"
            ]
          },
          "metadata": {},
          "execution_count": 121
        }
      ]
    },
    {
      "cell_type": "code",
      "source": [
        "float_32_t*int_64_tensor"
      ],
      "metadata": {
        "colab": {
          "base_uri": "https://localhost:8080/"
        },
        "id": "xcDQIleDZj5s",
        "outputId": "6d83eebc-d351-4cd1-8f45-f0b6a1ccf4cd"
      },
      "execution_count": 122,
      "outputs": [
        {
          "output_type": "execute_result",
          "data": {
            "text/plain": [
              "tensor([ 3., 15., 60.], dtype=torch.float16)"
            ]
          },
          "metadata": {},
          "execution_count": 122
        }
      ]
    },
    {
      "cell_type": "code",
      "source": [
        "long=torch.tensor([4,5,6],dtype=torch.long)\n",
        "long"
      ],
      "metadata": {
        "colab": {
          "base_uri": "https://localhost:8080/"
        },
        "id": "g-9DXprXZwVf",
        "outputId": "ec42e121-3a21-43af-fc3c-4c286eec90a9"
      },
      "execution_count": 123,
      "outputs": [
        {
          "output_type": "execute_result",
          "data": {
            "text/plain": [
              "tensor([4, 5, 6])"
            ]
          },
          "metadata": {},
          "execution_count": 123
        }
      ]
    },
    {
      "cell_type": "code",
      "source": [
        "long*float_32_t"
      ],
      "metadata": {
        "colab": {
          "base_uri": "https://localhost:8080/"
        },
        "id": "cysI5ZN8Z4z8",
        "outputId": "9d68aa3d-ac56-4821-f3e1-11a95ddd59e6"
      },
      "execution_count": 124,
      "outputs": [
        {
          "output_type": "execute_result",
          "data": {
            "text/plain": [
              "tensor([12., 25., 60.], dtype=torch.float16)"
            ]
          },
          "metadata": {},
          "execution_count": 124
        }
      ]
    },
    {
      "cell_type": "markdown",
      "source": [
        "GETTING TENSOR ATTRIBUTES(INFO ABOUT TENSORS)\n",
        "\n",
        "1.   tensors not right datatype=toget data type from tensor,can use 'tensor.dtype'\n",
        "2.   tensors not right shape=to get shape of tensor,can use'tensor.shape'\n",
        "3.   tensors not on the right device=to get device from a tensor,can use 'tensor.device'"
      ],
      "metadata": {
        "id": "nuBG_NtqYn4L"
      }
    },
    {
      "cell_type": "code",
      "source": [
        "##creating a tensor\n",
        "some=torch.rand(3,4)\n",
        "some"
      ],
      "metadata": {
        "colab": {
          "base_uri": "https://localhost:8080/"
        },
        "id": "pGLsXxciYQP1",
        "outputId": "0e34f39e-4c76-4989-a066-78d711ad98cc"
      },
      "execution_count": 125,
      "outputs": [
        {
          "output_type": "execute_result",
          "data": {
            "text/plain": [
              "tensor([[0.4106, 0.8604, 0.6185, 0.2672],\n",
              "        [0.0226, 0.4271, 0.1777, 0.8172],\n",
              "        [0.4436, 0.5579, 0.4642, 0.1268]])"
            ]
          },
          "metadata": {},
          "execution_count": 125
        }
      ]
    },
    {
      "cell_type": "code",
      "source": [
        "some.dtype"
      ],
      "metadata": {
        "colab": {
          "base_uri": "https://localhost:8080/"
        },
        "id": "EQqgONLsa5fR",
        "outputId": "fdce7206-fbf2-447b-d192-f6ac6dd715b4"
      },
      "execution_count": 126,
      "outputs": [
        {
          "output_type": "execute_result",
          "data": {
            "text/plain": [
              "torch.float32"
            ]
          },
          "metadata": {},
          "execution_count": 126
        }
      ]
    },
    {
      "cell_type": "code",
      "source": [
        "some.shape"
      ],
      "metadata": {
        "colab": {
          "base_uri": "https://localhost:8080/"
        },
        "id": "96BIdwN2a5hH",
        "outputId": "6f246082-9a79-44b8-f73f-ac4542821821"
      },
      "execution_count": 127,
      "outputs": [
        {
          "output_type": "execute_result",
          "data": {
            "text/plain": [
              "torch.Size([3, 4])"
            ]
          },
          "metadata": {},
          "execution_count": 127
        }
      ]
    },
    {
      "cell_type": "code",
      "source": [
        "some.device"
      ],
      "metadata": {
        "colab": {
          "base_uri": "https://localhost:8080/"
        },
        "id": "HopGJMFua5km",
        "outputId": "ca929f42-6c36-4d3d-a8f6-0d7004eb22a8"
      },
      "execution_count": 128,
      "outputs": [
        {
          "output_type": "execute_result",
          "data": {
            "text/plain": [
              "device(type='cpu')"
            ]
          },
          "metadata": {},
          "execution_count": 128
        }
      ]
    },
    {
      "cell_type": "code",
      "source": [
        "some.size()##function"
      ],
      "metadata": {
        "colab": {
          "base_uri": "https://localhost:8080/"
        },
        "id": "3UcfZj1NbrQi",
        "outputId": "d51840fd-4624-4692-8479-e658e6efc34e"
      },
      "execution_count": 130,
      "outputs": [
        {
          "output_type": "execute_result",
          "data": {
            "text/plain": [
              "torch.Size([3, 4])"
            ]
          },
          "metadata": {},
          "execution_count": 130
        }
      ]
    },
    {
      "cell_type": "markdown",
      "source": [
        "size() and shape results in same thing but size is a function or method shape is a attribute"
      ],
      "metadata": {
        "id": "9pv_iuk5bwQp"
      }
    },
    {
      "cell_type": "code",
      "source": [
        "print(some)\n",
        "print(f\"datatype of tensor : {some.dtype}\")\n",
        "print(f\"size of tensor : {some.size()}\")\n",
        "print(f\"shape of tensor : {some.shape}\")\n",
        "print(f\"device of tensor : {some.device}\")\n"
      ],
      "metadata": {
        "colab": {
          "base_uri": "https://localhost:8080/"
        },
        "id": "vHOi64DPbE-k",
        "outputId": "fd2bfbd6-0afe-4644-8a3c-7fb8d732dab0"
      },
      "execution_count": 129,
      "outputs": [
        {
          "output_type": "stream",
          "name": "stdout",
          "text": [
            "tensor([[0.4106, 0.8604, 0.6185, 0.2672],\n",
            "        [0.0226, 0.4271, 0.1777, 0.8172],\n",
            "        [0.4436, 0.5579, 0.4642, 0.1268]])\n",
            "datatype of tensor : torch.float32\n",
            "size of tensor : torch.Size([3, 4])\n",
            "shape of tensor : torch.Size([3, 4])\n",
            "device of tensor : cpu\n"
          ]
        }
      ]
    },
    {
      "cell_type": "code",
      "source": [],
      "metadata": {
        "id": "3ZjmCxPYcEUx"
      },
      "execution_count": null,
      "outputs": []
    },
    {
      "cell_type": "code",
      "source": [],
      "metadata": {
        "id": "ZkxV9dnpcEW9"
      },
      "execution_count": null,
      "outputs": []
    },
    {
      "cell_type": "code",
      "source": [],
      "metadata": {
        "id": "gpO4ErdlcEad"
      },
      "execution_count": null,
      "outputs": []
    }
  ]
}