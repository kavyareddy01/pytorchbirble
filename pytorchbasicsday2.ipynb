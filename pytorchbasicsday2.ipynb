{
  "nbformat": 4,
  "nbformat_minor": 0,
  "metadata": {
    "colab": {
      "provenance": [],
      "authorship_tag": "ABX9TyMtnsKsPJ9AuDbD8kqQwP5z",
      "include_colab_link": true
    },
    "kernelspec": {
      "name": "python3",
      "display_name": "Python 3"
    },
    "language_info": {
      "name": "python"
    }
  },
  "cells": [
    {
      "cell_type": "markdown",
      "metadata": {
        "id": "view-in-github",
        "colab_type": "text"
      },
      "source": [
        "<a href=\"https://colab.research.google.com/github/kavyareddy01/pytorchbirble/blob/main/day2.ipynb\" target=\"_parent\"><img src=\"https://colab.research.google.com/assets/colab-badge.svg\" alt=\"Open In Colab\"/></a>"
      ]
    },
    {
      "cell_type": "markdown",
      "source": [
        "##tensor datatypes"
      ],
      "metadata": {
        "id": "nmurHkqmnHP3"
      }
    },
    {
      "cell_type": "code",
      "source": [
        "import torch\n",
        "print(torch.__version__)"
      ],
      "metadata": {
        "colab": {
          "base_uri": "https://localhost:8080/"
        },
        "id": "ikUMpfi8nbxO",
        "outputId": "08ef0801-b8a6-4702-f301-483c32d74069"
      },
      "execution_count": 178,
      "outputs": [
        {
          "output_type": "stream",
          "name": "stdout",
          "text": [
            "2.1.0+cu121\n"
          ]
        }
      ]
    },
    {
      "cell_type": "code",
      "source": [
        "float_32_tensor=torch.tensor([3.0,5.0,10.0],dtype=None)\n",
        "float_32_tensor"
      ],
      "metadata": {
        "colab": {
          "base_uri": "https://localhost:8080/"
        },
        "id": "jVeXdGDNnNHd",
        "outputId": "5f30d215-4b93-4a78-de85-20b9fd2cb9ee"
      },
      "execution_count": 179,
      "outputs": [
        {
          "output_type": "execute_result",
          "data": {
            "text/plain": [
              "tensor([ 3.,  5., 10.])"
            ]
          },
          "metadata": {},
          "execution_count": 179
        }
      ]
    },
    {
      "cell_type": "code",
      "source": [
        "float_32_tensor.dtype  ##default"
      ],
      "metadata": {
        "colab": {
          "base_uri": "https://localhost:8080/"
        },
        "id": "aJfBJWrwnQeR",
        "outputId": "e16c3812-47df-4f1f-cf72-c9e8d94f5ef7"
      },
      "execution_count": 180,
      "outputs": [
        {
          "output_type": "execute_result",
          "data": {
            "text/plain": [
              "torch.float32"
            ]
          },
          "metadata": {},
          "execution_count": 180
        }
      ]
    },
    {
      "cell_type": "code",
      "source": [
        "float_32_t=torch.tensor([3.0,5.0,10.0],dtype=torch.float16)\n",
        "float_32_t"
      ],
      "metadata": {
        "colab": {
          "base_uri": "https://localhost:8080/"
        },
        "id": "wBxRuQW7nQjp",
        "outputId": "65694d5d-263b-4238-f076-eace20825e8e"
      },
      "execution_count": 181,
      "outputs": [
        {
          "output_type": "execute_result",
          "data": {
            "text/plain": [
              "tensor([ 3.,  5., 10.], dtype=torch.float16)"
            ]
          },
          "metadata": {},
          "execution_count": 181
        }
      ]
    },
    {
      "cell_type": "code",
      "source": [
        "float_32_t.dtype"
      ],
      "metadata": {
        "colab": {
          "base_uri": "https://localhost:8080/"
        },
        "id": "rsSi3kVXnQmR",
        "outputId": "0275d0b4-5a41-40cd-855e-a46d8a62acc4"
      },
      "execution_count": 182,
      "outputs": [
        {
          "output_type": "execute_result",
          "data": {
            "text/plain": [
              "torch.float16"
            ]
          },
          "metadata": {},
          "execution_count": 182
        }
      ]
    },
    {
      "cell_type": "code",
      "source": [
        "f=torch.tensor([1.0,2.0,3.0],dtype=None,# what datatype  is the tensor\n",
        "                            device=None,#what device is ur tensor on\n",
        "                            requires_grad=False  )#whether or not to track gradients with this tensors operatns\n",
        "##tensor imp parameters\n",
        "f\n",
        "##32-bit floating point->torch.float or torch.float32\n",
        "#64-bit floating point ->torch.float64 or torch.double\n",
        "#16-bit floating point ->torch.float16 or torch.half"
      ],
      "metadata": {
        "colab": {
          "base_uri": "https://localhost:8080/"
        },
        "id": "j-0qMDMTnQo2",
        "outputId": "3ea15d76-7d78-4600-ceed-e841b325dab2"
      },
      "execution_count": 183,
      "outputs": [
        {
          "output_type": "execute_result",
          "data": {
            "text/plain": [
              "tensor([1., 2., 3.])"
            ]
          },
          "metadata": {},
          "execution_count": 183
        }
      ]
    },
    {
      "cell_type": "markdown",
      "source": [
        "tensor datatypes are the 3 big errors you will run into with pytorch or deeplearning\n",
        "\n",
        "* tensors not right datatype\n",
        "* tensors not right shape\n",
        "* tensors not on the right device"
      ],
      "metadata": {
        "id": "EvosI6Tjnv_e"
      }
    },
    {
      "cell_type": "code",
      "source": [
        "f_16_t=float_32_t.type(torch.float16)\n",
        "f_16_t"
      ],
      "metadata": {
        "colab": {
          "base_uri": "https://localhost:8080/"
        },
        "id": "hQ558no7nu-9",
        "outputId": "25658ceb-f34b-46cc-b8e3-327bbde36dec"
      },
      "execution_count": 184,
      "outputs": [
        {
          "output_type": "execute_result",
          "data": {
            "text/plain": [
              "tensor([ 3.,  5., 10.], dtype=torch.float16)"
            ]
          },
          "metadata": {},
          "execution_count": 184
        }
      ]
    },
    {
      "cell_type": "code",
      "source": [
        "f_16_t*float_32_t"
      ],
      "metadata": {
        "colab": {
          "base_uri": "https://localhost:8080/"
        },
        "id": "Z3HJip_jnQrM",
        "outputId": "895794c7-872c-42d1-9be2-a99cd9630ab6"
      },
      "execution_count": 185,
      "outputs": [
        {
          "output_type": "execute_result",
          "data": {
            "text/plain": [
              "tensor([  9.,  25., 100.], dtype=torch.float16)"
            ]
          },
          "metadata": {},
          "execution_count": 185
        }
      ]
    },
    {
      "cell_type": "code",
      "source": [
        "float_32_t*f_16_t"
      ],
      "metadata": {
        "colab": {
          "base_uri": "https://localhost:8080/"
        },
        "id": "204XtPXHnQtj",
        "outputId": "998aa966-896b-455a-f756-c11f51327b67"
      },
      "execution_count": 186,
      "outputs": [
        {
          "output_type": "execute_result",
          "data": {
            "text/plain": [
              "tensor([  9.,  25., 100.], dtype=torch.float16)"
            ]
          },
          "metadata": {},
          "execution_count": 186
        }
      ]
    },
    {
      "cell_type": "code",
      "source": [
        "int_32_tensor=torch.tensor([1,3,6],dtype=torch.int32)\n",
        "int_32_tensor"
      ],
      "metadata": {
        "colab": {
          "base_uri": "https://localhost:8080/"
        },
        "id": "2GQPLrh1nQvj",
        "outputId": "2246e2b5-fd01-4356-ad7b-0e55752bcbf4"
      },
      "execution_count": 187,
      "outputs": [
        {
          "output_type": "execute_result",
          "data": {
            "text/plain": [
              "tensor([1, 3, 6], dtype=torch.int32)"
            ]
          },
          "metadata": {},
          "execution_count": 187
        }
      ]
    },
    {
      "cell_type": "code",
      "source": [
        "float_32_t*int_32_tensor"
      ],
      "metadata": {
        "colab": {
          "base_uri": "https://localhost:8080/"
        },
        "id": "p-5kAuO0nQxg",
        "outputId": "c4c2b4da-88e3-4f3d-a1e3-5798ec388bcb"
      },
      "execution_count": 188,
      "outputs": [
        {
          "output_type": "execute_result",
          "data": {
            "text/plain": [
              "tensor([ 3., 15., 60.], dtype=torch.float16)"
            ]
          },
          "metadata": {},
          "execution_count": 188
        }
      ]
    },
    {
      "cell_type": "code",
      "source": [
        "int_64_tensor=torch.tensor([1,3,6],dtype=torch.int64)\n",
        "int_64_tensor"
      ],
      "metadata": {
        "colab": {
          "base_uri": "https://localhost:8080/"
        },
        "id": "0cqkgcqdnQ1G",
        "outputId": "cb320e31-a9cc-47cc-9a82-4821f8b02606"
      },
      "execution_count": 189,
      "outputs": [
        {
          "output_type": "execute_result",
          "data": {
            "text/plain": [
              "tensor([1, 3, 6])"
            ]
          },
          "metadata": {},
          "execution_count": 189
        }
      ]
    },
    {
      "cell_type": "code",
      "source": [
        "float_32_t*int_64_tensor"
      ],
      "metadata": {
        "colab": {
          "base_uri": "https://localhost:8080/"
        },
        "id": "gDE8NHARoGws",
        "outputId": "c7975125-62c8-4e88-c15d-7ae3901cdef9"
      },
      "execution_count": 190,
      "outputs": [
        {
          "output_type": "execute_result",
          "data": {
            "text/plain": [
              "tensor([ 3., 15., 60.], dtype=torch.float16)"
            ]
          },
          "metadata": {},
          "execution_count": 190
        }
      ]
    },
    {
      "cell_type": "code",
      "source": [
        "long=torch.tensor([4,5,6],dtype=torch.long)\n",
        "long"
      ],
      "metadata": {
        "colab": {
          "base_uri": "https://localhost:8080/"
        },
        "id": "EB9eQvJpoGy-",
        "outputId": "03b10155-2d8d-474f-e057-487e30d964fc"
      },
      "execution_count": 191,
      "outputs": [
        {
          "output_type": "execute_result",
          "data": {
            "text/plain": [
              "tensor([4, 5, 6])"
            ]
          },
          "metadata": {},
          "execution_count": 191
        }
      ]
    },
    {
      "cell_type": "code",
      "source": [
        "long*float_32_t"
      ],
      "metadata": {
        "colab": {
          "base_uri": "https://localhost:8080/"
        },
        "id": "MWLWBcg3oG1Y",
        "outputId": "e243fafa-6ecf-4c28-d2b1-734d97224c66"
      },
      "execution_count": 192,
      "outputs": [
        {
          "output_type": "execute_result",
          "data": {
            "text/plain": [
              "tensor([12., 25., 60.], dtype=torch.float16)"
            ]
          },
          "metadata": {},
          "execution_count": 192
        }
      ]
    },
    {
      "cell_type": "markdown",
      "source": [
        "GETTING TENSOR ATTRIBUTES(INFO ABOUT TENSORS)\n",
        "\n",
        "* tensors not right datatype=toget data type from tensor,can use 'tensor.dtype'\n",
        "\n",
        "* tensors not right shape=to get shape of tensor,can use'tensor.shape'\n",
        "\n",
        "* tensors not on the right device=to get device from a tensor,can use 'tensor.device'\n"
      ],
      "metadata": {
        "id": "KKq3fnzhoPUP"
      }
    },
    {
      "cell_type": "code",
      "source": [
        "##creating a tensor\n",
        "some=torch.rand(3,4)\n",
        "some"
      ],
      "metadata": {
        "colab": {
          "base_uri": "https://localhost:8080/"
        },
        "id": "kKX0NPWBoG43",
        "outputId": "4facb579-3dc6-4cc4-bcad-9d4364874f53"
      },
      "execution_count": 193,
      "outputs": [
        {
          "output_type": "execute_result",
          "data": {
            "text/plain": [
              "tensor([[0.6045, 0.5039, 0.5607, 0.2885],\n",
              "        [0.5614, 0.8408, 0.6036, 0.0059],\n",
              "        [0.6750, 0.1584, 0.3993, 0.4908]])"
            ]
          },
          "metadata": {},
          "execution_count": 193
        }
      ]
    },
    {
      "cell_type": "code",
      "source": [
        "some.dtype"
      ],
      "metadata": {
        "colab": {
          "base_uri": "https://localhost:8080/"
        },
        "id": "x2t0bu0Coczz",
        "outputId": "ff503fb5-8925-4092-cfef-eb79dbe58a28"
      },
      "execution_count": 194,
      "outputs": [
        {
          "output_type": "execute_result",
          "data": {
            "text/plain": [
              "torch.float32"
            ]
          },
          "metadata": {},
          "execution_count": 194
        }
      ]
    },
    {
      "cell_type": "code",
      "source": [
        "some.shape"
      ],
      "metadata": {
        "colab": {
          "base_uri": "https://localhost:8080/"
        },
        "id": "DqnZ7CC2oc3J",
        "outputId": "27f4cb9b-5db4-4287-be27-d2bb67755933"
      },
      "execution_count": 195,
      "outputs": [
        {
          "output_type": "execute_result",
          "data": {
            "text/plain": [
              "torch.Size([3, 4])"
            ]
          },
          "metadata": {},
          "execution_count": 195
        }
      ]
    },
    {
      "cell_type": "code",
      "source": [
        "some.device"
      ],
      "metadata": {
        "colab": {
          "base_uri": "https://localhost:8080/"
        },
        "id": "lf4yQkipohFO",
        "outputId": "b71ec2da-db86-4351-e11c-cb0d2f1c72da"
      },
      "execution_count": 196,
      "outputs": [
        {
          "output_type": "execute_result",
          "data": {
            "text/plain": [
              "device(type='cpu')"
            ]
          },
          "metadata": {},
          "execution_count": 196
        }
      ]
    },
    {
      "cell_type": "code",
      "source": [
        "some.size()##function"
      ],
      "metadata": {
        "colab": {
          "base_uri": "https://localhost:8080/"
        },
        "id": "mDB87YYPohIo",
        "outputId": "9ec6b479-5dd8-4db8-ef7a-7f8f39d8e125"
      },
      "execution_count": 197,
      "outputs": [
        {
          "output_type": "execute_result",
          "data": {
            "text/plain": [
              "torch.Size([3, 4])"
            ]
          },
          "metadata": {},
          "execution_count": 197
        }
      ]
    },
    {
      "cell_type": "code",
      "source": [
        "print(some)\n",
        "print(f\"datatype of tensor : {some.dtype}\")\n",
        "print(f\"size of tensor : {some.size()}\")\n",
        "print(f\"shape of tensor : {some.shape}\")\n",
        "print(f\"device of tensor : {some.device}\")"
      ],
      "metadata": {
        "colab": {
          "base_uri": "https://localhost:8080/"
        },
        "id": "w7g6z6gCoo14",
        "outputId": "ccb54a17-fd29-4b6a-cc1d-698602c8403d"
      },
      "execution_count": 198,
      "outputs": [
        {
          "output_type": "stream",
          "name": "stdout",
          "text": [
            "tensor([[0.6045, 0.5039, 0.5607, 0.2885],\n",
            "        [0.5614, 0.8408, 0.6036, 0.0059],\n",
            "        [0.6750, 0.1584, 0.3993, 0.4908]])\n",
            "datatype of tensor : torch.float32\n",
            "size of tensor : torch.Size([3, 4])\n",
            "shape of tensor : torch.Size([3, 4])\n",
            "device of tensor : cpu\n"
          ]
        }
      ]
    },
    {
      "cell_type": "markdown",
      "source": [
        "MANIPULATING TENSORS AND TENSORS OPERATNS tensor operatns include\n",
        "\n",
        "* addition\n",
        "* subtraction\n",
        "* multiplicatn(element wise)\n",
        "* division\n",
        "* matrix multipilcatn\n"
      ],
      "metadata": {
        "id": "RqP7dlv3ori1"
      }
    },
    {
      "cell_type": "code",
      "source": [
        "#create tensor\n",
        "tensor=torch.tensor([2,3,4])\n",
        "tensor+10"
      ],
      "metadata": {
        "colab": {
          "base_uri": "https://localhost:8080/"
        },
        "id": "TIMP2-zloo5V",
        "outputId": "a7a4cc0e-8818-41c7-c3ee-12e9cd48e449"
      },
      "execution_count": 199,
      "outputs": [
        {
          "output_type": "execute_result",
          "data": {
            "text/plain": [
              "tensor([12, 13, 14])"
            ]
          },
          "metadata": {},
          "execution_count": 199
        }
      ]
    },
    {
      "cell_type": "code",
      "source": [
        "tensor+100\n",
        "\n"
      ],
      "metadata": {
        "colab": {
          "base_uri": "https://localhost:8080/"
        },
        "id": "Ffh0dmEAoz_Z",
        "outputId": "be4f212f-5814-44fc-c306-fb3055ac608c"
      },
      "execution_count": 200,
      "outputs": [
        {
          "output_type": "execute_result",
          "data": {
            "text/plain": [
              "tensor([102, 103, 104])"
            ]
          },
          "metadata": {},
          "execution_count": 200
        }
      ]
    },
    {
      "cell_type": "code",
      "source": [
        "tensor*10"
      ],
      "metadata": {
        "colab": {
          "base_uri": "https://localhost:8080/"
        },
        "id": "CWjcNbgDo0B4",
        "outputId": "80cd27c4-95b4-48e1-ed60-4fac65c35ba4"
      },
      "execution_count": 201,
      "outputs": [
        {
          "output_type": "execute_result",
          "data": {
            "text/plain": [
              "tensor([20, 30, 40])"
            ]
          },
          "metadata": {},
          "execution_count": 201
        }
      ]
    },
    {
      "cell_type": "code",
      "source": [
        "tensor"
      ],
      "metadata": {
        "colab": {
          "base_uri": "https://localhost:8080/"
        },
        "id": "fTz70Lcto0EU",
        "outputId": "1c11bf98-990b-4133-926f-34a583b6472e"
      },
      "execution_count": 202,
      "outputs": [
        {
          "output_type": "execute_result",
          "data": {
            "text/plain": [
              "tensor([2, 3, 4])"
            ]
          },
          "metadata": {},
          "execution_count": 202
        }
      ]
    },
    {
      "cell_type": "code",
      "source": [
        "tensor-10"
      ],
      "metadata": {
        "colab": {
          "base_uri": "https://localhost:8080/"
        },
        "id": "3wWoTUoQo0GZ",
        "outputId": "e9b61a46-e5ad-4a83-a372-b21ac201140c"
      },
      "execution_count": 203,
      "outputs": [
        {
          "output_type": "execute_result",
          "data": {
            "text/plain": [
              "tensor([-8, -7, -6])"
            ]
          },
          "metadata": {},
          "execution_count": 203
        }
      ]
    },
    {
      "cell_type": "code",
      "source": [
        "#pytorch in built functns\n",
        "torch.mul(tensor,10)"
      ],
      "metadata": {
        "colab": {
          "base_uri": "https://localhost:8080/"
        },
        "id": "kWVBOWd5o0I1",
        "outputId": "bf409029-e3ef-4e13-8dfe-0381faee4046"
      },
      "execution_count": 204,
      "outputs": [
        {
          "output_type": "execute_result",
          "data": {
            "text/plain": [
              "tensor([20, 30, 40])"
            ]
          },
          "metadata": {},
          "execution_count": 204
        }
      ]
    },
    {
      "cell_type": "code",
      "source": [
        "torch.add(tensor,120)"
      ],
      "metadata": {
        "colab": {
          "base_uri": "https://localhost:8080/"
        },
        "id": "Q6d2BKfto0LQ",
        "outputId": "2543e5a5-28cd-4899-d623-82cabce225e7"
      },
      "execution_count": 205,
      "outputs": [
        {
          "output_type": "execute_result",
          "data": {
            "text/plain": [
              "tensor([122, 123, 124])"
            ]
          },
          "metadata": {},
          "execution_count": 205
        }
      ]
    },
    {
      "cell_type": "markdown",
      "source": [
        "There are two ways o performing matrix multiplicatn in neural networks and deeplearning\n",
        "* element wise multiplicatn\n",
        "* matrix Multiplictan(dot product)"
      ],
      "metadata": {
        "id": "5bvg96k7sBYt"
      }
    },
    {
      "cell_type": "code",
      "source": [
        "# element wise\n",
        "tensor*tensor"
      ],
      "metadata": {
        "colab": {
          "base_uri": "https://localhost:8080/"
        },
        "id": "13-j5Sbso0Op",
        "outputId": "cada57fa-bd75-41d2-8643-b4ead1c7e893"
      },
      "execution_count": 206,
      "outputs": [
        {
          "output_type": "execute_result",
          "data": {
            "text/plain": [
              "tensor([ 4,  9, 16])"
            ]
          },
          "metadata": {},
          "execution_count": 206
        }
      ]
    },
    {
      "cell_type": "code",
      "source": [
        "print(tensor,\"*\",tensor)"
      ],
      "metadata": {
        "colab": {
          "base_uri": "https://localhost:8080/"
        },
        "id": "-Yrehu9jskVC",
        "outputId": "f04ff3f7-b74e-453c-c49a-b2d9a4985516"
      },
      "execution_count": 207,
      "outputs": [
        {
          "output_type": "stream",
          "name": "stdout",
          "text": [
            "tensor([2, 3, 4]) * tensor([2, 3, 4])\n"
          ]
        }
      ]
    },
    {
      "cell_type": "code",
      "source": [
        "print(f\"equals :{tensor*tensor}\")"
      ],
      "metadata": {
        "colab": {
          "base_uri": "https://localhost:8080/"
        },
        "id": "fD3HMf4JskYj",
        "outputId": "d4242614-90a5-4029-b19f-4c34a328f634"
      },
      "execution_count": 208,
      "outputs": [
        {
          "output_type": "stream",
          "name": "stdout",
          "text": [
            "equals :tensor([ 4,  9, 16])\n"
          ]
        }
      ]
    },
    {
      "cell_type": "code",
      "source": [
        "##matrix multiplication\n",
        "torch.matmul(tensor,tensor) #2*2+3*3+4*4\n"
      ],
      "metadata": {
        "colab": {
          "base_uri": "https://localhost:8080/"
        },
        "id": "eV4JdW_7s6L1",
        "outputId": "8fc14398-0f67-4188-90c7-541cd1e52958"
      },
      "execution_count": 209,
      "outputs": [
        {
          "output_type": "execute_result",
          "data": {
            "text/plain": [
              "tensor(29)"
            ]
          },
          "metadata": {},
          "execution_count": 209
        }
      ]
    },
    {
      "cell_type": "code",
      "source": [
        "%%time\n",
        "val=0\n",
        "for i in range(len(tensor)):\n",
        "    val+=tensor[i]*tensor[i]\n",
        "print(val)"
      ],
      "metadata": {
        "colab": {
          "base_uri": "https://localhost:8080/"
        },
        "id": "yunwc_HJs6Oh",
        "outputId": "6d03bb24-0f9c-46fa-a70a-92381b56b676"
      },
      "execution_count": 210,
      "outputs": [
        {
          "output_type": "stream",
          "name": "stdout",
          "text": [
            "tensor(29)\n",
            "CPU times: user 3.3 ms, sys: 0 ns, total: 3.3 ms\n",
            "Wall time: 5.48 ms\n"
          ]
        }
      ]
    },
    {
      "cell_type": "code",
      "source": [
        "%%time\n",
        "torch.matmul(tensor,tensor)"
      ],
      "metadata": {
        "colab": {
          "base_uri": "https://localhost:8080/"
        },
        "id": "D_iwzbg2s6SD",
        "outputId": "90970da0-385a-4880-8d3e-05657c65638c"
      },
      "execution_count": 211,
      "outputs": [
        {
          "output_type": "stream",
          "name": "stdout",
          "text": [
            "CPU times: user 78 µs, sys: 0 ns, total: 78 µs\n",
            "Wall time: 84.9 µs\n"
          ]
        },
        {
          "output_type": "execute_result",
          "data": {
            "text/plain": [
              "tensor(29)"
            ]
          },
          "metadata": {},
          "execution_count": 211
        }
      ]
    },
    {
      "cell_type": "code",
      "source": [
        "tensor@tensor"
      ],
      "metadata": {
        "colab": {
          "base_uri": "https://localhost:8080/"
        },
        "id": "5n-wmEI6uZr7",
        "outputId": "49fde13a-51a5-479a-abc9-56bbb8ee268d"
      },
      "execution_count": 212,
      "outputs": [
        {
          "output_type": "execute_result",
          "data": {
            "text/plain": [
              "tensor(29)"
            ]
          },
          "metadata": {},
          "execution_count": 212
        }
      ]
    },
    {
      "cell_type": "markdown",
      "source": [
        "Two main rules of matrix multipilcation\n",
        "* inner dimensions should match\n",
        "     1.  '(4,5)@(4,5)' it don't work\n",
        "     2.  '(4,5)@(5,4)' it works\n",
        "* the resulting matrix has outer dimensions\n",
        "\n"
      ],
      "metadata": {
        "id": "j5bOqHuhuOAL"
      }
    },
    {
      "cell_type": "code",
      "source": [
        "torch.matmul(torch.rand(3,4),torch.rand(4,3))"
      ],
      "metadata": {
        "colab": {
          "base_uri": "https://localhost:8080/"
        },
        "id": "zw3XrvxTuDXP",
        "outputId": "6bbf7045-0e48-40bb-c809-c130379a115a"
      },
      "execution_count": 213,
      "outputs": [
        {
          "output_type": "execute_result",
          "data": {
            "text/plain": [
              "tensor([[1.0419, 1.1895, 1.4195],\n",
              "        [0.5323, 0.9184, 1.1135],\n",
              "        [1.0428, 1.0639, 1.0222]])"
            ]
          },
          "metadata": {},
          "execution_count": 213
        }
      ]
    },
    {
      "cell_type": "code",
      "source": [
        "torch.matmul(torch.rand(10,10),torch.rand(10,9)).shape"
      ],
      "metadata": {
        "colab": {
          "base_uri": "https://localhost:8080/"
        },
        "id": "90T0lD1wuKlB",
        "outputId": "d284be05-0aee-449b-a548-b332b8b60c79"
      },
      "execution_count": 214,
      "outputs": [
        {
          "output_type": "execute_result",
          "data": {
            "text/plain": [
              "torch.Size([10, 9])"
            ]
          },
          "metadata": {},
          "execution_count": 214
        }
      ]
    },
    {
      "cell_type": "markdown",
      "source": [
        "one of the most commom errors in deeplearning is shape errors"
      ],
      "metadata": {
        "id": "muA5v7hZvble"
      }
    },
    {
      "cell_type": "code",
      "source": [
        "t1=torch.tensor([[1,2],[2,3],[3,4]])\n",
        "t2=torch.tensor([[3,4],[4,5],[5,6]])\n",
        "##torch.mm is same as torch.matmultiply\n",
        "torch.mm(t1,t2)"
      ],
      "metadata": {
        "colab": {
          "base_uri": "https://localhost:8080/",
          "height": 210
        },
        "id": "Wn7q0JayuKnX",
        "outputId": "3fc4a930-cf8e-43cb-98f4-848d632ec398"
      },
      "execution_count": 215,
      "outputs": [
        {
          "output_type": "error",
          "ename": "RuntimeError",
          "evalue": "mat1 and mat2 shapes cannot be multiplied (3x2 and 3x2)",
          "traceback": [
            "\u001b[0;31m---------------------------------------------------------------------------\u001b[0m",
            "\u001b[0;31mRuntimeError\u001b[0m                              Traceback (most recent call last)",
            "\u001b[0;32m<ipython-input-215-56f6ab52b395>\u001b[0m in \u001b[0;36m<cell line: 4>\u001b[0;34m()\u001b[0m\n\u001b[1;32m      2\u001b[0m \u001b[0mt2\u001b[0m\u001b[0;34m=\u001b[0m\u001b[0mtorch\u001b[0m\u001b[0;34m.\u001b[0m\u001b[0mtensor\u001b[0m\u001b[0;34m(\u001b[0m\u001b[0;34m[\u001b[0m\u001b[0;34m[\u001b[0m\u001b[0;36m3\u001b[0m\u001b[0;34m,\u001b[0m\u001b[0;36m4\u001b[0m\u001b[0;34m]\u001b[0m\u001b[0;34m,\u001b[0m\u001b[0;34m[\u001b[0m\u001b[0;36m4\u001b[0m\u001b[0;34m,\u001b[0m\u001b[0;36m5\u001b[0m\u001b[0;34m]\u001b[0m\u001b[0;34m,\u001b[0m\u001b[0;34m[\u001b[0m\u001b[0;36m5\u001b[0m\u001b[0;34m,\u001b[0m\u001b[0;36m6\u001b[0m\u001b[0;34m]\u001b[0m\u001b[0;34m]\u001b[0m\u001b[0;34m)\u001b[0m\u001b[0;34m\u001b[0m\u001b[0;34m\u001b[0m\u001b[0m\n\u001b[1;32m      3\u001b[0m \u001b[0;31m##torch.mm is same as torch.matmultiply\u001b[0m\u001b[0;34m\u001b[0m\u001b[0;34m\u001b[0m\u001b[0m\n\u001b[0;32m----> 4\u001b[0;31m \u001b[0mtorch\u001b[0m\u001b[0;34m.\u001b[0m\u001b[0mmm\u001b[0m\u001b[0;34m(\u001b[0m\u001b[0mt1\u001b[0m\u001b[0;34m,\u001b[0m\u001b[0mt2\u001b[0m\u001b[0;34m)\u001b[0m\u001b[0;34m\u001b[0m\u001b[0;34m\u001b[0m\u001b[0m\n\u001b[0m",
            "\u001b[0;31mRuntimeError\u001b[0m: mat1 and mat2 shapes cannot be multiplied (3x2 and 3x2)"
          ]
        }
      ]
    },
    {
      "cell_type": "code",
      "source": [
        "t1.shape,t2.shape"
      ],
      "metadata": {
        "colab": {
          "base_uri": "https://localhost:8080/"
        },
        "id": "g2vuqJF7uKqf",
        "outputId": "2f4d7999-eb86-4ada-8d77-469d1416e453"
      },
      "execution_count": 216,
      "outputs": [
        {
          "output_type": "execute_result",
          "data": {
            "text/plain": [
              "(torch.Size([3, 2]), torch.Size([3, 2]))"
            ]
          },
          "metadata": {},
          "execution_count": 216
        }
      ]
    },
    {
      "cell_type": "code",
      "source": [
        "###to fix tensor shape issues we can manipulate one of the tensors using a **transpose**\n",
        "\n",
        "### A **transpose** switches the axes or the dimensions of the given tensor  -->tensor.T  gives transpose of tensor"
      ],
      "metadata": {
        "id": "IsPotdcMuDax"
      },
      "execution_count": 217,
      "outputs": []
    },
    {
      "cell_type": "code",
      "source": [
        "t2.T,t2"
      ],
      "metadata": {
        "colab": {
          "base_uri": "https://localhost:8080/"
        },
        "id": "J14GAn8K8_YA",
        "outputId": "9d829817-eb38-482b-df76-2dbf9d3457b1"
      },
      "execution_count": 218,
      "outputs": [
        {
          "output_type": "execute_result",
          "data": {
            "text/plain": [
              "(tensor([[3, 4, 5],\n",
              "         [4, 5, 6]]),\n",
              " tensor([[3, 4],\n",
              "         [4, 5],\n",
              "         [5, 6]]))"
            ]
          },
          "metadata": {},
          "execution_count": 218
        }
      ]
    },
    {
      "cell_type": "code",
      "source": [
        "torch.matmul(t1,t2.T)"
      ],
      "metadata": {
        "colab": {
          "base_uri": "https://localhost:8080/"
        },
        "id": "nE5OsVi1_F7y",
        "outputId": "d7a0e5e6-87f4-4eec-f41d-919ad5176c2a"
      },
      "execution_count": 219,
      "outputs": [
        {
          "output_type": "execute_result",
          "data": {
            "text/plain": [
              "tensor([[11, 14, 17],\n",
              "        [18, 23, 28],\n",
              "        [25, 32, 39]])"
            ]
          },
          "metadata": {},
          "execution_count": 219
        }
      ]
    },
    {
      "cell_type": "code",
      "source": [
        "t1.shape,t2.shape,t2.T.shape"
      ],
      "metadata": {
        "colab": {
          "base_uri": "https://localhost:8080/"
        },
        "id": "hDncBdlE_F_S",
        "outputId": "8a4b9b8f-ae1f-4873-ef99-8e1254e3b851"
      },
      "execution_count": 220,
      "outputs": [
        {
          "output_type": "execute_result",
          "data": {
            "text/plain": [
              "(torch.Size([3, 2]), torch.Size([3, 2]), torch.Size([2, 3]))"
            ]
          },
          "metadata": {},
          "execution_count": 220
        }
      ]
    },
    {
      "cell_type": "code",
      "source": [
        "print(f\"Original shapes: t1 = {t1.shape}, t2 = {t2.shape}\\n\")\n",
        "print(f\"New shapes: t1= {t1.shape} (same as above), t2.T = {t2.T.shape}\\n\")\n",
        "print(f\"Multiplying: {t1.shape} * {t2.T.shape} <- inner dimensions match\\n\")\n",
        "print(\"Output:\\n\")\n",
        "output = torch.matmul(t1, t2.T)\n",
        "print(output)\n",
        "print(f\"\\nOutput shape: {output.shape}\")"
      ],
      "metadata": {
        "colab": {
          "base_uri": "https://localhost:8080/"
        },
        "id": "Vv81BkSp_zvy",
        "outputId": "1c88995c-ba00-4c21-e8b5-3c7117da75b5"
      },
      "execution_count": 221,
      "outputs": [
        {
          "output_type": "stream",
          "name": "stdout",
          "text": [
            "Original shapes: t1 = torch.Size([3, 2]), t2 = torch.Size([3, 2])\n",
            "\n",
            "New shapes: t1= torch.Size([3, 2]) (same as above), t2.T = torch.Size([2, 3])\n",
            "\n",
            "Multiplying: torch.Size([3, 2]) * torch.Size([2, 3]) <- inner dimensions match\n",
            "\n",
            "Output:\n",
            "\n",
            "tensor([[11, 14, 17],\n",
            "        [18, 23, 28],\n",
            "        [25, 32, 39]])\n",
            "\n",
            "Output shape: torch.Size([3, 3])\n"
          ]
        }
      ]
    },
    {
      "cell_type": "markdown",
      "source": [
        "Finding min ,max,sum,mean (TENSOR AGGREGATION)"
      ],
      "metadata": {
        "id": "3Y5qHJdGBXPV"
      }
    },
    {
      "cell_type": "code",
      "source": [
        "## creating a tensor\n",
        "t=torch.arange(0,100,10)\n",
        "t"
      ],
      "metadata": {
        "colab": {
          "base_uri": "https://localhost:8080/"
        },
        "id": "66sBFANr_zyV",
        "outputId": "89818fae-9f2e-47c6-ea5c-bdafea7e587f"
      },
      "execution_count": 222,
      "outputs": [
        {
          "output_type": "execute_result",
          "data": {
            "text/plain": [
              "tensor([ 0, 10, 20, 30, 40, 50, 60, 70, 80, 90])"
            ]
          },
          "metadata": {},
          "execution_count": 222
        }
      ]
    },
    {
      "cell_type": "code",
      "source": [
        "torch.min(t)"
      ],
      "metadata": {
        "colab": {
          "base_uri": "https://localhost:8080/"
        },
        "id": "Hyt-hz_c_z0d",
        "outputId": "0945ba6d-eef5-44c6-a3a5-32a0a325301b"
      },
      "execution_count": 223,
      "outputs": [
        {
          "output_type": "execute_result",
          "data": {
            "text/plain": [
              "tensor(0)"
            ]
          },
          "metadata": {},
          "execution_count": 223
        }
      ]
    },
    {
      "cell_type": "code",
      "source": [
        "t.min()"
      ],
      "metadata": {
        "colab": {
          "base_uri": "https://localhost:8080/"
        },
        "id": "96GdPc5M_z26",
        "outputId": "14a5e642-178c-4690-a191-78b0dc971138"
      },
      "execution_count": 224,
      "outputs": [
        {
          "output_type": "execute_result",
          "data": {
            "text/plain": [
              "tensor(0)"
            ]
          },
          "metadata": {},
          "execution_count": 224
        }
      ]
    },
    {
      "cell_type": "code",
      "source": [
        "t.max(),torch.max(t)"
      ],
      "metadata": {
        "colab": {
          "base_uri": "https://localhost:8080/"
        },
        "id": "nkI1u4dn_z5T",
        "outputId": "666ccc8d-1916-4840-9836-2797c51c7a73"
      },
      "execution_count": 225,
      "outputs": [
        {
          "output_type": "execute_result",
          "data": {
            "text/plain": [
              "(tensor(90), tensor(90))"
            ]
          },
          "metadata": {},
          "execution_count": 225
        }
      ]
    },
    {
      "cell_type": "code",
      "source": [
        "t.sum(),torch.sum(t)"
      ],
      "metadata": {
        "colab": {
          "base_uri": "https://localhost:8080/"
        },
        "id": "9KbIbejs_z84",
        "outputId": "23c17f2b-71c2-458c-d21d-a73562792f7a"
      },
      "execution_count": 226,
      "outputs": [
        {
          "output_type": "execute_result",
          "data": {
            "text/plain": [
              "(tensor(450), tensor(450))"
            ]
          },
          "metadata": {},
          "execution_count": 226
        }
      ]
    },
    {
      "cell_type": "code",
      "source": [
        "t.mean(),torch.mean(t)"
      ],
      "metadata": {
        "colab": {
          "base_uri": "https://localhost:8080/",
          "height": 175
        },
        "id": "NNjf_9mpCbdO",
        "outputId": "121871fb-8a51-4849-dd01-afb16c423dcd"
      },
      "execution_count": 227,
      "outputs": [
        {
          "output_type": "error",
          "ename": "RuntimeError",
          "evalue": "mean(): could not infer output dtype. Input dtype must be either a floating point or complex dtype. Got: Long",
          "traceback": [
            "\u001b[0;31m---------------------------------------------------------------------------\u001b[0m",
            "\u001b[0;31mRuntimeError\u001b[0m                              Traceback (most recent call last)",
            "\u001b[0;32m<ipython-input-227-5265ab874fcb>\u001b[0m in \u001b[0;36m<cell line: 1>\u001b[0;34m()\u001b[0m\n\u001b[0;32m----> 1\u001b[0;31m \u001b[0mt\u001b[0m\u001b[0;34m.\u001b[0m\u001b[0mmean\u001b[0m\u001b[0;34m(\u001b[0m\u001b[0;34m)\u001b[0m\u001b[0;34m,\u001b[0m\u001b[0mtorch\u001b[0m\u001b[0;34m.\u001b[0m\u001b[0mmean\u001b[0m\u001b[0;34m(\u001b[0m\u001b[0mt\u001b[0m\u001b[0;34m)\u001b[0m\u001b[0;34m\u001b[0m\u001b[0;34m\u001b[0m\u001b[0m\n\u001b[0m",
            "\u001b[0;31mRuntimeError\u001b[0m: mean(): could not infer output dtype. Input dtype must be either a floating point or complex dtype. Got: Long"
          ]
        }
      ]
    },
    {
      "cell_type": "code",
      "source": [
        "t.dtype"
      ],
      "metadata": {
        "colab": {
          "base_uri": "https://localhost:8080/"
        },
        "id": "tm1kpe9YCbgk",
        "outputId": "75fe35bd-afad-4be0-c090-92ff9b72eca4"
      },
      "execution_count": 228,
      "outputs": [
        {
          "output_type": "execute_result",
          "data": {
            "text/plain": [
              "torch.int64"
            ]
          },
          "metadata": {},
          "execution_count": 228
        }
      ]
    },
    {
      "cell_type": "code",
      "source": [
        "torch.mean(t.type(torch.float32))"
      ],
      "metadata": {
        "colab": {
          "base_uri": "https://localhost:8080/"
        },
        "id": "0WydzS8QC2_e",
        "outputId": "a954c2b5-939f-42a9-f4d7-25c2732db350"
      },
      "execution_count": 229,
      "outputs": [
        {
          "output_type": "execute_result",
          "data": {
            "text/plain": [
              "tensor(45.)"
            ]
          },
          "metadata": {},
          "execution_count": 229
        }
      ]
    },
    {
      "cell_type": "code",
      "source": [
        "torch.mean(t.type(torch.float64))"
      ],
      "metadata": {
        "colab": {
          "base_uri": "https://localhost:8080/"
        },
        "id": "ps9DtMuoC3C5",
        "outputId": "2001edbc-7716-44f5-a890-9bfc1a6ef478"
      },
      "execution_count": 230,
      "outputs": [
        {
          "output_type": "execute_result",
          "data": {
            "text/plain": [
              "tensor(45., dtype=torch.float64)"
            ]
          },
          "metadata": {},
          "execution_count": 230
        }
      ]
    },
    {
      "cell_type": "code",
      "source": [
        "t.type(torch.float32).mean()   ### torch.mean() require tensors to be in torch.float32 (the most common) or another specific datatype, otherwise the operation will fail."
      ],
      "metadata": {
        "colab": {
          "base_uri": "https://localhost:8080/"
        },
        "id": "zd5B7dzlDMlK",
        "outputId": "a3fc0e2f-0fc0-4479-dc32-daeb69aeb518"
      },
      "execution_count": 231,
      "outputs": [
        {
          "output_type": "execute_result",
          "data": {
            "text/plain": [
              "tensor(45.)"
            ]
          },
          "metadata": {},
          "execution_count": 231
        }
      ]
    },
    {
      "cell_type": "markdown",
      "source": [
        "Finding the positional min max of the tensors"
      ],
      "metadata": {
        "id": "li4_-uDwELEd"
      }
    },
    {
      "cell_type": "code",
      "source": [
        "t"
      ],
      "metadata": {
        "colab": {
          "base_uri": "https://localhost:8080/"
        },
        "id": "lRzUu-9-DMnT",
        "outputId": "be5190f7-e149-4a22-991c-826b6d944660"
      },
      "execution_count": 232,
      "outputs": [
        {
          "output_type": "execute_result",
          "data": {
            "text/plain": [
              "tensor([ 0, 10, 20, 30, 40, 50, 60, 70, 80, 90])"
            ]
          },
          "metadata": {},
          "execution_count": 232
        }
      ]
    },
    {
      "cell_type": "code",
      "source": [
        "t.argmin()"
      ],
      "metadata": {
        "colab": {
          "base_uri": "https://localhost:8080/"
        },
        "id": "Vm3Lmm74DMqu",
        "outputId": "0ad64253-ad1b-465f-d178-4b1fa5a1c120"
      },
      "execution_count": 234,
      "outputs": [
        {
          "output_type": "execute_result",
          "data": {
            "text/plain": [
              "tensor(0)"
            ]
          },
          "metadata": {},
          "execution_count": 234
        }
      ]
    },
    {
      "cell_type": "code",
      "source": [
        "t[0]"
      ],
      "metadata": {
        "colab": {
          "base_uri": "https://localhost:8080/"
        },
        "id": "b-7K3ApmGyi_",
        "outputId": "2791b4a0-f8eb-4365-e73c-f28d0eae1705"
      },
      "execution_count": 235,
      "outputs": [
        {
          "output_type": "execute_result",
          "data": {
            "text/plain": [
              "tensor(0)"
            ]
          },
          "metadata": {},
          "execution_count": 235
        }
      ]
    },
    {
      "cell_type": "code",
      "source": [
        "t.argmax()"
      ],
      "metadata": {
        "colab": {
          "base_uri": "https://localhost:8080/"
        },
        "id": "hIRt1uCUGyme",
        "outputId": "91f1cf00-7429-4cb3-95da-dc89d51c65ab"
      },
      "execution_count": 236,
      "outputs": [
        {
          "output_type": "execute_result",
          "data": {
            "text/plain": [
              "tensor(9)"
            ]
          },
          "metadata": {},
          "execution_count": 236
        }
      ]
    },
    {
      "cell_type": "code",
      "source": [
        "t[9]"
      ],
      "metadata": {
        "colab": {
          "base_uri": "https://localhost:8080/"
        },
        "id": "3TpC1UqdG5Av",
        "outputId": "959de5b0-8347-43d3-d281-1eec109f0f8f"
      },
      "execution_count": 237,
      "outputs": [
        {
          "output_type": "execute_result",
          "data": {
            "text/plain": [
              "tensor(90)"
            ]
          },
          "metadata": {},
          "execution_count": 237
        }
      ]
    },
    {
      "cell_type": "code",
      "source": [
        "te=torch.arange(1,20,2)\n",
        "te"
      ],
      "metadata": {
        "colab": {
          "base_uri": "https://localhost:8080/"
        },
        "id": "5ZsvyuwUG-IZ",
        "outputId": "1555fad2-7c4e-47f7-ba7b-ba0ee2597de6"
      },
      "execution_count": 238,
      "outputs": [
        {
          "output_type": "execute_result",
          "data": {
            "text/plain": [
              "tensor([ 1,  3,  5,  7,  9, 11, 13, 15, 17, 19])"
            ]
          },
          "metadata": {},
          "execution_count": 238
        }
      ]
    },
    {
      "cell_type": "code",
      "source": [
        "te.argmin()"
      ],
      "metadata": {
        "colab": {
          "base_uri": "https://localhost:8080/"
        },
        "id": "IEfFh-8fG-LI",
        "outputId": "236f7522-1e5d-49c0-bdf2-f2c7618e0e7d"
      },
      "execution_count": 239,
      "outputs": [
        {
          "output_type": "execute_result",
          "data": {
            "text/plain": [
              "tensor(0)"
            ]
          },
          "metadata": {},
          "execution_count": 239
        }
      ]
    },
    {
      "cell_type": "code",
      "source": [
        "te[0]"
      ],
      "metadata": {
        "colab": {
          "base_uri": "https://localhost:8080/"
        },
        "id": "wEbGU-JMG-Na",
        "outputId": "c444c188-a155-418b-c659-700fa48e8949"
      },
      "execution_count": 241,
      "outputs": [
        {
          "output_type": "execute_result",
          "data": {
            "text/plain": [
              "tensor(1)"
            ]
          },
          "metadata": {},
          "execution_count": 241
        }
      ]
    },
    {
      "cell_type": "code",
      "source": [
        "te.argmax()"
      ],
      "metadata": {
        "colab": {
          "base_uri": "https://localhost:8080/"
        },
        "id": "4i1G6BejG-Q0",
        "outputId": "012e9644-56f5-4dc2-b232-e1dcff446249"
      },
      "execution_count": 242,
      "outputs": [
        {
          "output_type": "execute_result",
          "data": {
            "text/plain": [
              "tensor(9)"
            ]
          },
          "metadata": {},
          "execution_count": 242
        }
      ]
    },
    {
      "cell_type": "code",
      "source": [
        "te[9]"
      ],
      "metadata": {
        "colab": {
          "base_uri": "https://localhost:8080/"
        },
        "id": "uxmgtyQ-HI0b",
        "outputId": "354f663f-49d7-4781-ab5f-a3467807cf6b"
      },
      "execution_count": 243,
      "outputs": [
        {
          "output_type": "execute_result",
          "data": {
            "text/plain": [
              "tensor(19)"
            ]
          },
          "metadata": {},
          "execution_count": 243
        }
      ]
    },
    {
      "cell_type": "markdown",
      "source": [
        "Reshaping, viewing ,squeezing,unsqueezing and stacking tensors\n",
        "\n",
        "* torch.reshape(input, shape): Reshapes input tensor toa desired shape (if compatible), can also use torch.Tensor.reshape().\n",
        "* Tensor.view(shape): Returns a view of the original tensor in a different shape but shares the same data/memory as the original tensor.\n",
        "* torch.stack(tensors, dim=0)\t: Concatenates a sequence of tensors along a new dimension (dim), all tensors must be same size. combines multiple tensors on top of each other(vstack) or sidebyside(hstack)\n",
        "* torch.squeeze(input): Squeezes input to remove all the dimenions with value 1.\n",
        "* torch.unsqueeze(input, dim): Returns input with a dimension value of 1 added at dim.\n",
        "* torch.permute(input, dims): Returns a view of the original input with its dimensions permuted (rearranged) to dims."
      ],
      "metadata": {
        "id": "_deYTL5JHe9B"
      }
    },
    {
      "cell_type": "code",
      "source": [
        "i=torch.arange(1.,10.)\n",
        "i,i.shape"
      ],
      "metadata": {
        "colab": {
          "base_uri": "https://localhost:8080/"
        },
        "id": "Bg7nZ_MUHI4C",
        "outputId": "72843ea8-0827-4c06-ec50-c63fb3e17e8f"
      },
      "execution_count": 244,
      "outputs": [
        {
          "output_type": "execute_result",
          "data": {
            "text/plain": [
              "(tensor([1., 2., 3., 4., 5., 6., 7., 8., 9.]), torch.Size([9]))"
            ]
          },
          "metadata": {},
          "execution_count": 244
        }
      ]
    },
    {
      "cell_type": "code",
      "source": [
        "#adding an extra dimension reshape\n",
        "i_reshaped=i.reshape((1,7))\n",
        "i_reshaped"
      ],
      "metadata": {
        "colab": {
          "base_uri": "https://localhost:8080/",
          "height": 210
        },
        "id": "3E1CdKd2HlCw",
        "outputId": "0cd3a0ce-40d9-4e87-e26e-67761a1b7d91"
      },
      "execution_count": 245,
      "outputs": [
        {
          "output_type": "error",
          "ename": "RuntimeError",
          "evalue": "shape '[1, 7]' is invalid for input of size 9",
          "traceback": [
            "\u001b[0;31m---------------------------------------------------------------------------\u001b[0m",
            "\u001b[0;31mRuntimeError\u001b[0m                              Traceback (most recent call last)",
            "\u001b[0;32m<ipython-input-245-32f2fd12382d>\u001b[0m in \u001b[0;36m<cell line: 2>\u001b[0;34m()\u001b[0m\n\u001b[1;32m      1\u001b[0m \u001b[0;31m#adding an extra dimension reshape\u001b[0m\u001b[0;34m\u001b[0m\u001b[0;34m\u001b[0m\u001b[0m\n\u001b[0;32m----> 2\u001b[0;31m \u001b[0mi_reshaped\u001b[0m\u001b[0;34m=\u001b[0m\u001b[0mi\u001b[0m\u001b[0;34m.\u001b[0m\u001b[0mreshape\u001b[0m\u001b[0;34m(\u001b[0m\u001b[0;34m(\u001b[0m\u001b[0;36m1\u001b[0m\u001b[0;34m,\u001b[0m\u001b[0;36m7\u001b[0m\u001b[0;34m)\u001b[0m\u001b[0;34m)\u001b[0m\u001b[0;34m\u001b[0m\u001b[0;34m\u001b[0m\u001b[0m\n\u001b[0m\u001b[1;32m      3\u001b[0m \u001b[0mi_reshaped\u001b[0m\u001b[0;34m\u001b[0m\u001b[0;34m\u001b[0m\u001b[0m\n",
            "\u001b[0;31mRuntimeError\u001b[0m: shape '[1, 7]' is invalid for input of size 9"
          ]
        }
      ]
    },
    {
      "cell_type": "code",
      "source": [
        "i_reshaped=i.reshape((1,9))\n",
        "i_reshaped,i_reshaped.size()"
      ],
      "metadata": {
        "colab": {
          "base_uri": "https://localhost:8080/"
        },
        "id": "4RNjIcQqHlFJ",
        "outputId": "eb5561b8-f882-4274-903f-90700cb7f5df"
      },
      "execution_count": 246,
      "outputs": [
        {
          "output_type": "execute_result",
          "data": {
            "text/plain": [
              "(tensor([[1., 2., 3., 4., 5., 6., 7., 8., 9.]]), torch.Size([1, 9]))"
            ]
          },
          "metadata": {},
          "execution_count": 246
        }
      ]
    },
    {
      "cell_type": "code",
      "source": [
        "i_reshaped=i.reshape((9,1))\n",
        "i_reshaped,i_reshaped.size()"
      ],
      "metadata": {
        "colab": {
          "base_uri": "https://localhost:8080/"
        },
        "id": "4A0nD35THlHh",
        "outputId": "78c5b349-0c23-4e7d-87fd-699668bf19ae"
      },
      "execution_count": 247,
      "outputs": [
        {
          "output_type": "execute_result",
          "data": {
            "text/plain": [
              "(tensor([[1.],\n",
              "         [2.],\n",
              "         [3.],\n",
              "         [4.],\n",
              "         [5.],\n",
              "         [6.],\n",
              "         [7.],\n",
              "         [8.],\n",
              "         [9.]]),\n",
              " torch.Size([9, 1]))"
            ]
          },
          "metadata": {},
          "execution_count": 247
        }
      ]
    },
    {
      "cell_type": "code",
      "source": [
        "i_reshaped=i.reshape((3,3))\n",
        "i_reshaped,i_reshaped.size() ##the product dimensions of reshaped dimensions should be equal to product of original tensor dimensions"
      ],
      "metadata": {
        "colab": {
          "base_uri": "https://localhost:8080/"
        },
        "id": "aUaTjjtnKJlZ",
        "outputId": "ada2c0d1-2671-4266-cafe-90a070a1af34"
      },
      "execution_count": 248,
      "outputs": [
        {
          "output_type": "execute_result",
          "data": {
            "text/plain": [
              "(tensor([[1., 2., 3.],\n",
              "         [4., 5., 6.],\n",
              "         [7., 8., 9.]]),\n",
              " torch.Size([3, 3]))"
            ]
          },
          "metadata": {},
          "execution_count": 248
        }
      ]
    },
    {
      "cell_type": "code",
      "source": [
        "##change the view\n",
        "j=i.view(1,9)\n",
        "j,j.shape"
      ],
      "metadata": {
        "colab": {
          "base_uri": "https://localhost:8080/"
        },
        "id": "qC4e4-MXHlJl",
        "outputId": "16b4c56e-4ff8-4695-ad99-62e713726bfb"
      },
      "execution_count": 250,
      "outputs": [
        {
          "output_type": "execute_result",
          "data": {
            "text/plain": [
              "(tensor([[1., 2., 3., 4., 5., 6., 7., 8., 9.]]), torch.Size([1, 9]))"
            ]
          },
          "metadata": {},
          "execution_count": 250
        }
      ]
    },
    {
      "cell_type": "code",
      "source": [
        "##changing j changes i(because a view of tensor shares the same memory as the original input tensor)"
      ],
      "metadata": {
        "id": "wMXV2Gc-HlMU"
      },
      "execution_count": 251,
      "outputs": []
    },
    {
      "cell_type": "code",
      "source": [
        "j[:,0]=5\n",
        "j,i"
      ],
      "metadata": {
        "colab": {
          "base_uri": "https://localhost:8080/"
        },
        "id": "17ARKhCwHlOg",
        "outputId": "f57b7197-f26b-4163-881d-e1243757ad08"
      },
      "execution_count": 252,
      "outputs": [
        {
          "output_type": "execute_result",
          "data": {
            "text/plain": [
              "(tensor([[5., 2., 3., 4., 5., 6., 7., 8., 9.]]),\n",
              " tensor([5., 2., 3., 4., 5., 6., 7., 8., 9.]))"
            ]
          },
          "metadata": {},
          "execution_count": 252
        }
      ]
    },
    {
      "cell_type": "code",
      "source": [
        "##stack tensors on top of each other(vstack)\n",
        "i_stacked=torch.stack([i, i, i, i],dim=0)\n",
        "i_stacked\n"
      ],
      "metadata": {
        "colab": {
          "base_uri": "https://localhost:8080/"
        },
        "id": "V0UaHNUcHlQa",
        "outputId": "39151f75-7966-4c3a-a4f6-80a0af168362"
      },
      "execution_count": 253,
      "outputs": [
        {
          "output_type": "execute_result",
          "data": {
            "text/plain": [
              "tensor([[5., 2., 3., 4., 5., 6., 7., 8., 9.],\n",
              "        [5., 2., 3., 4., 5., 6., 7., 8., 9.],\n",
              "        [5., 2., 3., 4., 5., 6., 7., 8., 9.],\n",
              "        [5., 2., 3., 4., 5., 6., 7., 8., 9.]])"
            ]
          },
          "metadata": {},
          "execution_count": 253
        }
      ]
    },
    {
      "cell_type": "code",
      "source": [
        "i_stacked=torch.stack([i, i, i, i],dim=1)\n",
        "i_stacked\n"
      ],
      "metadata": {
        "colab": {
          "base_uri": "https://localhost:8080/"
        },
        "id": "_JYvmDV0HlSw",
        "outputId": "dd54e73b-974a-43fc-c9ca-d3e4bc25a114"
      },
      "execution_count": 254,
      "outputs": [
        {
          "output_type": "execute_result",
          "data": {
            "text/plain": [
              "tensor([[5., 5., 5., 5.],\n",
              "        [2., 2., 2., 2.],\n",
              "        [3., 3., 3., 3.],\n",
              "        [4., 4., 4., 4.],\n",
              "        [5., 5., 5., 5.],\n",
              "        [6., 6., 6., 6.],\n",
              "        [7., 7., 7., 7.],\n",
              "        [8., 8., 8., 8.],\n",
              "        [9., 9., 9., 9.]])"
            ]
          },
          "metadata": {},
          "execution_count": 254
        }
      ]
    },
    {
      "cell_type": "code",
      "source": [
        "#squeeze\n",
        "i_reshaped"
      ],
      "metadata": {
        "colab": {
          "base_uri": "https://localhost:8080/"
        },
        "id": "KfRfgmc4HlYn",
        "outputId": "8e150600-8bfe-4a07-8271-090711bab506"
      },
      "execution_count": 255,
      "outputs": [
        {
          "output_type": "execute_result",
          "data": {
            "text/plain": [
              "tensor([[5., 2., 3.],\n",
              "        [4., 5., 6.],\n",
              "        [7., 8., 9.]])"
            ]
          },
          "metadata": {},
          "execution_count": 255
        }
      ]
    },
    {
      "cell_type": "code",
      "source": [
        "i_reshaped.squeeze()"
      ],
      "metadata": {
        "colab": {
          "base_uri": "https://localhost:8080/"
        },
        "id": "MXWObZOyL6SX",
        "outputId": "e33c0d5a-0fbf-4f2c-9ab2-de7e325941ed"
      },
      "execution_count": 256,
      "outputs": [
        {
          "output_type": "execute_result",
          "data": {
            "text/plain": [
              "tensor([[5., 2., 3.],\n",
              "        [4., 5., 6.],\n",
              "        [7., 8., 9.]])"
            ]
          },
          "metadata": {},
          "execution_count": 256
        }
      ]
    },
    {
      "cell_type": "code",
      "source": [
        "i_reshaped.squeeze().shape"
      ],
      "metadata": {
        "colab": {
          "base_uri": "https://localhost:8080/"
        },
        "id": "Lns4jthJL6Um",
        "outputId": "8088a38a-e2b3-41ce-edbb-c1870de57500"
      },
      "execution_count": 257,
      "outputs": [
        {
          "output_type": "execute_result",
          "data": {
            "text/plain": [
              "torch.Size([3, 3])"
            ]
          },
          "metadata": {},
          "execution_count": 257
        }
      ]
    },
    {
      "cell_type": "code",
      "source": [
        "i_re=i.reshape((9,1))\n",
        "i_re"
      ],
      "metadata": {
        "colab": {
          "base_uri": "https://localhost:8080/"
        },
        "id": "KRopJzvOL6W8",
        "outputId": "6a692f86-d3f4-4db9-cf04-a640e51af05f"
      },
      "execution_count": 258,
      "outputs": [
        {
          "output_type": "execute_result",
          "data": {
            "text/plain": [
              "tensor([[5.],\n",
              "        [2.],\n",
              "        [3.],\n",
              "        [4.],\n",
              "        [5.],\n",
              "        [6.],\n",
              "        [7.],\n",
              "        [8.],\n",
              "        [9.]])"
            ]
          },
          "metadata": {},
          "execution_count": 258
        }
      ]
    },
    {
      "cell_type": "code",
      "source": [
        "i_re.size()"
      ],
      "metadata": {
        "colab": {
          "base_uri": "https://localhost:8080/"
        },
        "id": "uzmkJNd6L6ZS",
        "outputId": "fe0dbff1-8e54-4ecd-f126-a27d7f0abc06"
      },
      "execution_count": 259,
      "outputs": [
        {
          "output_type": "execute_result",
          "data": {
            "text/plain": [
              "torch.Size([9, 1])"
            ]
          },
          "metadata": {},
          "execution_count": 259
        }
      ]
    },
    {
      "cell_type": "code",
      "source": [
        "i_re.squeeze()"
      ],
      "metadata": {
        "colab": {
          "base_uri": "https://localhost:8080/"
        },
        "id": "W80jFzxGL6cz",
        "outputId": "230e108d-6581-4ac7-b927-f0c640971ce5"
      },
      "execution_count": 260,
      "outputs": [
        {
          "output_type": "execute_result",
          "data": {
            "text/plain": [
              "tensor([5., 2., 3., 4., 5., 6., 7., 8., 9.])"
            ]
          },
          "metadata": {},
          "execution_count": 260
        }
      ]
    },
    {
      "cell_type": "code",
      "source": [
        "i_re.squeeze().shape"
      ],
      "metadata": {
        "colab": {
          "base_uri": "https://localhost:8080/"
        },
        "id": "iohtF4gWN0xr",
        "outputId": "805dd0a9-8b9a-47a4-9138-647e756debc5"
      },
      "execution_count": 261,
      "outputs": [
        {
          "output_type": "execute_result",
          "data": {
            "text/plain": [
              "torch.Size([9])"
            ]
          },
          "metadata": {},
          "execution_count": 261
        }
      ]
    },
    {
      "cell_type": "code",
      "source": [
        "print(f\"Previous tensor: {i_re}\")\n",
        "print(f\"Previous shape: {i_re.shape}\")\n",
        "i_squeezed = i_re.squeeze()\n",
        "print(f\"\\nNew tensor: {i_squeezed}\")\n",
        "print(f\"New shape: {i_squeezed.shape}\")"
      ],
      "metadata": {
        "colab": {
          "base_uri": "https://localhost:8080/"
        },
        "id": "Oouk9ZC_OFfJ",
        "outputId": "56c707fd-b37a-49af-df05-7b4ce868bd5c"
      },
      "execution_count": 263,
      "outputs": [
        {
          "output_type": "stream",
          "name": "stdout",
          "text": [
            "Previous tensor: tensor([[5.],\n",
            "        [2.],\n",
            "        [3.],\n",
            "        [4.],\n",
            "        [5.],\n",
            "        [6.],\n",
            "        [7.],\n",
            "        [8.],\n",
            "        [9.]])\n",
            "Previous shape: torch.Size([9, 1])\n",
            "\n",
            "New tensor: tensor([5., 2., 3., 4., 5., 6., 7., 8., 9.])\n",
            "New shape: torch.Size([9])\n"
          ]
        }
      ]
    },
    {
      "cell_type": "code",
      "source": [
        "##torch.unsqueezed : adds 1 dimension to the target tensor at a specific dim"
      ],
      "metadata": {
        "id": "F25EoUSNOFhC"
      },
      "execution_count": 265,
      "outputs": []
    },
    {
      "cell_type": "code",
      "source": [
        "print(f\"Previous tensor: {i_squeezed}\")\n",
        "print(f\"Previous shape: {i_squeezed.shape}\")\n",
        "\n",
        "## Add an extra dimension with unsqueeze\n",
        "i_unsqueezed = i_squeezed.unsqueeze(dim=0)\n",
        "print(f\"\\nNew tensor: {i_unsqueezed}\")\n",
        "print(f\"New shape: {i_unsqueezed.shape}\")"
      ],
      "metadata": {
        "colab": {
          "base_uri": "https://localhost:8080/"
        },
        "id": "YdseG_0dOFkY",
        "outputId": "3bda74cc-32e0-400b-a70e-778ea3524098"
      },
      "execution_count": 264,
      "outputs": [
        {
          "output_type": "stream",
          "name": "stdout",
          "text": [
            "Previous tensor: tensor([5., 2., 3., 4., 5., 6., 7., 8., 9.])\n",
            "Previous shape: torch.Size([9])\n",
            "\n",
            "New tensor: tensor([[5., 2., 3., 4., 5., 6., 7., 8., 9.]])\n",
            "New shape: torch.Size([1, 9])\n"
          ]
        }
      ]
    },
    {
      "cell_type": "code",
      "source": [
        "print(f\"Previous tensor: {i_squeezed}\")\n",
        "print(f\"Previous shape: {i_squeezed.shape}\")\n",
        "\n",
        "## Add an extra dimension with unsqueeze\n",
        "i_unsqueezed = i_squeezed.unsqueeze(dim=1)\n",
        "print(f\"\\nNew tensor: {i_unsqueezed}\")\n",
        "print(f\"New shape: {i_unsqueezed.shape}\")"
      ],
      "metadata": {
        "colab": {
          "base_uri": "https://localhost:8080/"
        },
        "id": "m4t1LxfNQBgK",
        "outputId": "6b55836a-73fe-4760-983f-fd2f9d8669f1"
      },
      "execution_count": 266,
      "outputs": [
        {
          "output_type": "stream",
          "name": "stdout",
          "text": [
            "Previous tensor: tensor([5., 2., 3., 4., 5., 6., 7., 8., 9.])\n",
            "Previous shape: torch.Size([9])\n",
            "\n",
            "New tensor: tensor([[5.],\n",
            "        [2.],\n",
            "        [3.],\n",
            "        [4.],\n",
            "        [5.],\n",
            "        [6.],\n",
            "        [7.],\n",
            "        [8.],\n",
            "        [9.]])\n",
            "New shape: torch.Size([9, 1])\n"
          ]
        }
      ]
    },
    {
      "cell_type": "code",
      "source": [
        "##torch.permute : rearranges the dimensions of the target tensor in a specified order"
      ],
      "metadata": {
        "id": "Gq3R5cXtQBi0"
      },
      "execution_count": 267,
      "outputs": []
    },
    {
      "cell_type": "code",
      "source": [
        "x_original = torch.rand(size=(224, 224, 3))\n",
        "x_permuted = x_original.permute(2, 0, 1) # shifts axis 0->1, 1->2, 2->0\n",
        "print(f\"Previous shape: {x_original.shape}\")\n",
        "print(f\"New shape: {x_permuted.shape}\")"
      ],
      "metadata": {
        "colab": {
          "base_uri": "https://localhost:8080/"
        },
        "id": "TPzwOYZqQBlX",
        "outputId": "2756d872-21c6-4ef2-c28c-95dd57b29ee9"
      },
      "execution_count": 268,
      "outputs": [
        {
          "output_type": "stream",
          "name": "stdout",
          "text": [
            "Previous shape: torch.Size([224, 224, 3])\n",
            "New shape: torch.Size([3, 224, 224])\n"
          ]
        }
      ]
    },
    {
      "cell_type": "code",
      "source": [
        "x_original[0,0,0]"
      ],
      "metadata": {
        "colab": {
          "base_uri": "https://localhost:8080/"
        },
        "id": "mdtw9LC-QBo3",
        "outputId": "8e0a79aa-74f3-4d61-b3d4-ee8790143a38"
      },
      "execution_count": 270,
      "outputs": [
        {
          "output_type": "execute_result",
          "data": {
            "text/plain": [
              "tensor(0.8181)"
            ]
          },
          "metadata": {},
          "execution_count": 270
        }
      ]
    },
    {
      "cell_type": "code",
      "source": [
        "x_original[0,0,0]=2463\n",
        "x_permuted,x_permuted[0,0,0]"
      ],
      "metadata": {
        "colab": {
          "base_uri": "https://localhost:8080/"
        },
        "id": "rq2wi9n6RSH8",
        "outputId": "0d213700-973f-40d6-f93e-3af3ef674edd"
      },
      "execution_count": 272,
      "outputs": [
        {
          "output_type": "execute_result",
          "data": {
            "text/plain": [
              "(tensor([[[2.4630e+03, 6.4032e-01, 3.1235e-02,  ..., 2.8527e-01,\n",
              "           9.1820e-01, 3.1217e-01],\n",
              "          [7.0017e-01, 9.6544e-01, 8.6462e-01,  ..., 1.4653e-01,\n",
              "           2.3951e-01, 8.8124e-01],\n",
              "          [3.6463e-01, 4.3844e-01, 4.9343e-01,  ..., 1.6117e-01,\n",
              "           2.8174e-01, 6.2063e-01],\n",
              "          ...,\n",
              "          [7.3824e-01, 6.3467e-01, 4.0054e-01,  ..., 6.2200e-01,\n",
              "           4.1861e-01, 3.7518e-01],\n",
              "          [6.1521e-01, 5.4345e-02, 8.9197e-01,  ..., 5.5334e-01,\n",
              "           2.4476e-01, 5.3556e-01],\n",
              "          [6.0912e-01, 5.1097e-01, 3.9107e-01,  ..., 3.1746e-01,\n",
              "           9.3268e-01, 6.0646e-03]],\n",
              " \n",
              "         [[1.0024e-01, 9.3193e-02, 4.4521e-01,  ..., 4.8088e-01,\n",
              "           8.7890e-03, 6.1797e-01],\n",
              "          [6.9460e-01, 7.8901e-01, 8.4380e-01,  ..., 3.8756e-01,\n",
              "           7.1310e-01, 2.9275e-01],\n",
              "          [8.9063e-01, 2.3196e-01, 3.0441e-01,  ..., 2.1973e-01,\n",
              "           6.1783e-01, 5.7664e-01],\n",
              "          ...,\n",
              "          [8.6794e-01, 9.9510e-01, 5.0926e-01,  ..., 5.5793e-02,\n",
              "           3.2772e-01, 8.0222e-01],\n",
              "          [1.7839e-01, 8.4279e-01, 8.2224e-01,  ..., 9.9788e-01,\n",
              "           6.9058e-01, 8.2782e-03],\n",
              "          [8.9588e-01, 1.7217e-01, 7.7039e-01,  ..., 3.9072e-01,\n",
              "           6.7884e-01, 9.6328e-02]],\n",
              " \n",
              "         [[7.5596e-01, 4.1625e-01, 3.7598e-01,  ..., 6.3361e-01,\n",
              "           4.1684e-01, 8.4753e-01],\n",
              "          [3.7678e-02, 4.4192e-01, 8.2071e-01,  ..., 3.4614e-02,\n",
              "           7.2646e-02, 8.2404e-02],\n",
              "          [8.1144e-01, 4.7164e-01, 3.9359e-01,  ..., 4.6394e-01,\n",
              "           7.1453e-01, 1.8375e-01],\n",
              "          ...,\n",
              "          [5.6068e-01, 4.2697e-01, 1.8958e-01,  ..., 9.7523e-01,\n",
              "           4.8545e-01, 8.1455e-01],\n",
              "          [7.1697e-01, 2.7060e-01, 4.6157e-01,  ..., 8.6379e-01,\n",
              "           7.7761e-01, 2.6986e-01],\n",
              "          [4.2927e-01, 8.2883e-01, 7.6193e-01,  ..., 5.2448e-01,\n",
              "           5.7945e-01, 8.7861e-01]]]),\n",
              " tensor(2463.))"
            ]
          },
          "metadata": {},
          "execution_count": 272
        }
      ]
    },
    {
      "cell_type": "code",
      "source": [],
      "metadata": {
        "id": "C38RcVHYRSLU"
      },
      "execution_count": null,
      "outputs": []
    }
  ]
}
