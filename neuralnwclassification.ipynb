{
  "nbformat": 4,
  "nbformat_minor": 0,
  "metadata": {
    "colab": {
      "provenance": [],
      "authorship_tag": "ABX9TyNfOclwuZ2/404FiXO/w3d6",
      "include_colab_link": true
    },
    "kernelspec": {
      "name": "python3",
      "display_name": "Python 3"
    },
    "language_info": {
      "name": "python"
    }
  },
  "cells": [
    {
      "cell_type": "markdown",
      "metadata": {
        "id": "view-in-github",
        "colab_type": "text"
      },
      "source": [
        "<a href=\"https://colab.research.google.com/github/kavyareddy01/pytorchbirble/blob/main/neuralnwclassification.ipynb\" target=\"_parent\"><img src=\"https://colab.research.google.com/assets/colab-badge.svg\" alt=\"Open In Colab\"/></a>"
      ]
    },
    {
      "cell_type": "markdown",
      "source": [
        "### Neural Network Classification with Pytorch\n",
        "\n",
        "Classificatn is a problem of predicting whether something is one thing or another\n",
        "\n",
        "\n",
        "### CLASSIFICATION PROBLEMS\n",
        "\n",
        "> Binary classification (email spam or not spam)\n",
        "\n",
        "> Multiclass classification(more than one thing or another)\n",
        "\n",
        "> Multi Label Classification(multiple label options per sample)\n",
        "\n",
        "### Broadly covering of below topics\n",
        "* architecture of a nn classification model\n",
        "* i/p and o/p shapes of a classificatn model(features and labels)\n",
        "* creating custom data to view,fit on and predict on\n",
        "* steps in modelling\n",
        "* creating a model,setting a loss functn and optimiser,creating training loops,evaluating a model\n",
        "* saving & loading models\n",
        "* harnessing the power of non-linearity\n",
        "* diff classificatn evaluation methods"
      ],
      "metadata": {
        "id": "pe-oXfU-JnjO"
      }
    },
    {
      "cell_type": "code",
      "source": [],
      "metadata": {
        "id": "XaqXe5KRDQgB"
      },
      "execution_count": null,
      "outputs": []
    },
    {
      "cell_type": "markdown",
      "source": [
        "### 1.make classificatn data and get it ready\n",
        "\n",
        "---\n",
        "\n"
      ],
      "metadata": {
        "id": "6groiZtaMk-N"
      }
    },
    {
      "cell_type": "code",
      "execution_count": null,
      "metadata": {
        "id": "awDbM_oRATHY"
      },
      "outputs": [],
      "source": [
        "import sklearn"
      ]
    },
    {
      "cell_type": "code",
      "source": [
        "from sklearn.datasets import make_circles\n",
        "\n",
        "##make 1000 samples\n",
        "n=1000\n",
        "##create circles\n",
        "X,y=make_circles(n,noise=0.03,random_state=42)"
      ],
      "metadata": {
        "id": "aLMGCmk5Mtvf"
      },
      "execution_count": null,
      "outputs": []
    },
    {
      "cell_type": "code",
      "source": [
        "len(X),len(y)"
      ],
      "metadata": {
        "colab": {
          "base_uri": "https://localhost:8080/"
        },
        "id": "5a_0dy2BNECU",
        "outputId": "0bd3a6ae-7193-45ad-849b-7e2b30d64e4d"
      },
      "execution_count": null,
      "outputs": [
        {
          "output_type": "execute_result",
          "data": {
            "text/plain": [
              "(1000, 1000)"
            ]
          },
          "metadata": {},
          "execution_count": 3
        }
      ]
    },
    {
      "cell_type": "code",
      "source": [
        "print(f\"first 5 samples of X:\\n{X[:5]}\")\n",
        "print(f\"first 5 samples of y:\\n{y[:5]}\")"
      ],
      "metadata": {
        "colab": {
          "base_uri": "https://localhost:8080/"
        },
        "id": "oTvMjGFXNKc4",
        "outputId": "85b3a6fb-ea4b-44dd-d482-2d07fd704815"
      },
      "execution_count": null,
      "outputs": [
        {
          "output_type": "stream",
          "name": "stdout",
          "text": [
            "first 5 samples of X:\n",
            "[[ 0.75424625  0.23148074]\n",
            " [-0.75615888  0.15325888]\n",
            " [-0.81539193  0.17328203]\n",
            " [-0.39373073  0.69288277]\n",
            " [ 0.44220765 -0.89672343]]\n",
            "first 5 samples of y:\n",
            "[1 1 1 1 0]\n"
          ]
        }
      ]
    }
  ]
}